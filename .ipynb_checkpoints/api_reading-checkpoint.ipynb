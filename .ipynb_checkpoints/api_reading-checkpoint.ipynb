{
 "cells": [
  {
   "cell_type": "code",
   "execution_count": 34,
   "metadata": {},
   "outputs": [],
   "source": [
    "import requests\n",
    "import json"
   ]
  },
  {
   "cell_type": "code",
   "execution_count": 2,
   "metadata": {},
   "outputs": [],
   "source": [
    "response=requests.get('https://api.covid19india.org/state_district_wise.json').json()"
   ]
  },
  {
   "cell_type": "code",
   "execution_count": 4,
   "metadata": {},
   "outputs": [],
   "source": [
    "response1=response['Kerala']"
   ]
  },
  {
   "cell_type": "code",
   "execution_count": 6,
   "metadata": {
    "scrolled": true
   },
   "outputs": [
    {
     "data": {
      "text/plain": [
       "{'districtData': {'Other State': {'notes': '',\n",
       "   'active': 0,\n",
       "   'confirmed': 0,\n",
       "   'deceased': 0,\n",
       "   'recovered': 0,\n",
       "   'delta': {'confirmed': 0, 'deceased': 0, 'recovered': 0}},\n",
       "  'Alappuzha': {'notes': '',\n",
       "   'active': 8232,\n",
       "   'confirmed': 32793,\n",
       "   'deceased': 99,\n",
       "   'recovered': 24448,\n",
       "   'delta': {'confirmed': 0, 'deceased': 0, 'recovered': 0}},\n",
       "  'Ernakulam': {'notes': '',\n",
       "   'active': 12423,\n",
       "   'confirmed': 45747,\n",
       "   'deceased': 152,\n",
       "   'recovered': 33163,\n",
       "   'delta': {'confirmed': 0, 'deceased': 0, 'recovered': 0}},\n",
       "  'Idukki': {'notes': '',\n",
       "   'active': 1782,\n",
       "   'confirmed': 7201,\n",
       "   'deceased': 9,\n",
       "   'recovered': 5408,\n",
       "   'delta': {'confirmed': 0, 'deceased': 0, 'recovered': 0}},\n",
       "  'Kannur': {'notes': '',\n",
       "   'active': 5349,\n",
       "   'confirmed': 24791,\n",
       "   'deceased': 106,\n",
       "   'recovered': 19332,\n",
       "   'delta': {'confirmed': 0, 'deceased': 0, 'recovered': 0}},\n",
       "  'Kasaragod': {'notes': '',\n",
       "   'active': 2269,\n",
       "   'confirmed': 18639,\n",
       "   'deceased': 70,\n",
       "   'recovered': 16296,\n",
       "   'delta': {'confirmed': 0, 'deceased': 0, 'recovered': 0}},\n",
       "  'Kollam': {'notes': '',\n",
       "   'active': 6461,\n",
       "   'confirmed': 33470,\n",
       "   'deceased': 107,\n",
       "   'recovered': 26897,\n",
       "   'delta': {'confirmed': 0, 'deceased': 0, 'recovered': 0}},\n",
       "  'Kottayam': {'notes': '',\n",
       "   'active': 5609,\n",
       "   'confirmed': 23633,\n",
       "   'deceased': 48,\n",
       "   'recovered': 17976,\n",
       "   'delta': {'confirmed': 0, 'deceased': 0, 'recovered': 0}},\n",
       "  'Kozhikode': {'notes': '',\n",
       "   'active': 9016,\n",
       "   'confirmed': 47859,\n",
       "   'deceased': 133,\n",
       "   'recovered': 38704,\n",
       "   'delta': {'confirmed': 0, 'deceased': 0, 'recovered': 0}},\n",
       "  'Malappuram': {'notes': '',\n",
       "   'active': 9634,\n",
       "   'confirmed': 51899,\n",
       "   'deceased': 153,\n",
       "   'recovered': 42104,\n",
       "   'delta': {'confirmed': 0, 'deceased': 0, 'recovered': 0}},\n",
       "  'Palakkad': {'notes': '',\n",
       "   'active': 7583,\n",
       "   'confirmed': 26343,\n",
       "   'deceased': 54,\n",
       "   'recovered': 18705,\n",
       "   'delta': {'confirmed': 0, 'deceased': 0, 'recovered': 0}},\n",
       "  'Pathanamthitta': {'notes': '',\n",
       "   'active': 2625,\n",
       "   'confirmed': 15175,\n",
       "   'deceased': 12,\n",
       "   'recovered': 12537,\n",
       "   'delta': {'confirmed': 0, 'deceased': 0, 'recovered': 0}},\n",
       "  'Thiruvananthapuram': {'notes': '',\n",
       "   'active': 8636,\n",
       "   'confirmed': 58720,\n",
       "   'deceased': 404,\n",
       "   'recovered': 49637,\n",
       "   'delta': {'confirmed': 0, 'deceased': 0, 'recovered': 0}},\n",
       "  'Thrissur': {'notes': '',\n",
       "   'active': 10570,\n",
       "   'confirmed': 39760,\n",
       "   'deceased': 124,\n",
       "   'recovered': 29060,\n",
       "   'delta': {'confirmed': 0, 'deceased': 0, 'recovered': 0}},\n",
       "  'Wayanad': {'notes': '',\n",
       "   'active': 1005,\n",
       "   'confirmed': 7076,\n",
       "   'deceased': 14,\n",
       "   'recovered': 6057,\n",
       "   'delta': {'confirmed': 0, 'deceased': 0, 'recovered': 0}}},\n",
       " 'statecode': 'KL'}"
      ]
     },
     "execution_count": 6,
     "metadata": {},
     "output_type": "execute_result"
    }
   ],
   "source": [
    "response1"
   ]
  },
  {
   "cell_type": "code",
   "execution_count": 60,
   "metadata": {},
   "outputs": [
    {
     "name": "stdout",
     "output_type": "stream",
     "text": [
      "Other State\n",
      "Alappuzha\n",
      "Ernakulam\n",
      "Idukki\n",
      "Kannur\n",
      "Kasaragod\n",
      "Kollam\n",
      "Kottayam\n",
      "Kozhikode\n",
      "Malappuram\n",
      "Palakkad\n",
      "Pathanamthitta\n",
      "Thiruvananthapuram\n",
      "Thrissur\n",
      "Wayanad\n"
     ]
    }
   ],
   "source": [
    "for i in response1['districtData'].items():\n",
    "    print(i[0])"
   ]
  },
  {
   "cell_type": "code",
   "execution_count": 41,
   "metadata": {},
   "outputs": [],
   "source": [
    "response2=y = json.dumps(response1)"
   ]
  },
  {
   "cell_type": "code",
   "execution_count": 36,
   "metadata": {},
   "outputs": [
    {
     "data": {
      "text/plain": [
       "'{\"districtData\": {\"Other State\": {\"notes\": \"\", \"active\": 0, \"confirmed\": 0, \"deceased\": 0, \"recovered\": 0, \"delta\": {\"confirmed\": 0, \"deceased\": 0, \"recovered\": 0}}, \"Alappuzha\": {\"notes\": \"\", \"active\": 8232, \"confirmed\": 32793, \"deceased\": 99, \"recovered\": 24448, \"delta\": {\"confirmed\": 0, \"deceased\": 0, \"recovered\": 0}}, \"Ernakulam\": {\"notes\": \"\", \"active\": 12423, \"confirmed\": 45747, \"deceased\": 152, \"recovered\": 33163, \"delta\": {\"confirmed\": 0, \"deceased\": 0, \"recovered\": 0}}, \"Idukki\": {\"notes\": \"\", \"active\": 1782, \"confirmed\": 7201, \"deceased\": 9, \"recovered\": 5408, \"delta\": {\"confirmed\": 0, \"deceased\": 0, \"recovered\": 0}}, \"Kannur\": {\"notes\": \"\", \"active\": 5349, \"confirmed\": 24791, \"deceased\": 106, \"recovered\": 19332, \"delta\": {\"confirmed\": 0, \"deceased\": 0, \"recovered\": 0}}, \"Kasaragod\": {\"notes\": \"\", \"active\": 2269, \"confirmed\": 18639, \"deceased\": 70, \"recovered\": 16296, \"delta\": {\"confirmed\": 0, \"deceased\": 0, \"recovered\": 0}}, \"Kollam\": {\"notes\": \"\", \"active\": 6461, \"confirmed\": 33470, \"deceased\": 107, \"recovered\": 26897, \"delta\": {\"confirmed\": 0, \"deceased\": 0, \"recovered\": 0}}, \"Kottayam\": {\"notes\": \"\", \"active\": 5609, \"confirmed\": 23633, \"deceased\": 48, \"recovered\": 17976, \"delta\": {\"confirmed\": 0, \"deceased\": 0, \"recovered\": 0}}, \"Kozhikode\": {\"notes\": \"\", \"active\": 9016, \"confirmed\": 47859, \"deceased\": 133, \"recovered\": 38704, \"delta\": {\"confirmed\": 0, \"deceased\": 0, \"recovered\": 0}}, \"Malappuram\": {\"notes\": \"\", \"active\": 9634, \"confirmed\": 51899, \"deceased\": 153, \"recovered\": 42104, \"delta\": {\"confirmed\": 0, \"deceased\": 0, \"recovered\": 0}}, \"Palakkad\": {\"notes\": \"\", \"active\": 7583, \"confirmed\": 26343, \"deceased\": 54, \"recovered\": 18705, \"delta\": {\"confirmed\": 0, \"deceased\": 0, \"recovered\": 0}}, \"Pathanamthitta\": {\"notes\": \"\", \"active\": 2625, \"confirmed\": 15175, \"deceased\": 12, \"recovered\": 12537, \"delta\": {\"confirmed\": 0, \"deceased\": 0, \"recovered\": 0}}, \"Thiruvananthapuram\": {\"notes\": \"\", \"active\": 8636, \"confirmed\": 58720, \"deceased\": 404, \"recovered\": 49637, \"delta\": {\"confirmed\": 0, \"deceased\": 0, \"recovered\": 0}}, \"Thrissur\": {\"notes\": \"\", \"active\": 10570, \"confirmed\": 39760, \"deceased\": 124, \"recovered\": 29060, \"delta\": {\"confirmed\": 0, \"deceased\": 0, \"recovered\": 0}}, \"Wayanad\": {\"notes\": \"\", \"active\": 1005, \"confirmed\": 7076, \"deceased\": 14, \"recovered\": 6057, \"delta\": {\"confirmed\": 0, \"deceased\": 0, \"recovered\": 0}}}, \"statecode\": \"KL\"}'"
      ]
     },
     "execution_count": 36,
     "metadata": {},
     "output_type": "execute_result"
    }
   ],
   "source": [
    "response2"
   ]
  },
  {
   "cell_type": "code",
   "execution_count": 42,
   "metadata": {},
   "outputs": [],
   "source": [
    "y = json.loads(response2)"
   ]
  },
  {
   "cell_type": "code",
   "execution_count": 43,
   "metadata": {},
   "outputs": [
    {
     "data": {
      "text/plain": [
       "{'districtData': {'Other State': {'notes': '',\n",
       "   'active': 0,\n",
       "   'confirmed': 0,\n",
       "   'deceased': 0,\n",
       "   'recovered': 0,\n",
       "   'delta': {'confirmed': 0, 'deceased': 0, 'recovered': 0}},\n",
       "  'Alappuzha': {'notes': '',\n",
       "   'active': 8232,\n",
       "   'confirmed': 32793,\n",
       "   'deceased': 99,\n",
       "   'recovered': 24448,\n",
       "   'delta': {'confirmed': 0, 'deceased': 0, 'recovered': 0}},\n",
       "  'Ernakulam': {'notes': '',\n",
       "   'active': 12423,\n",
       "   'confirmed': 45747,\n",
       "   'deceased': 152,\n",
       "   'recovered': 33163,\n",
       "   'delta': {'confirmed': 0, 'deceased': 0, 'recovered': 0}},\n",
       "  'Idukki': {'notes': '',\n",
       "   'active': 1782,\n",
       "   'confirmed': 7201,\n",
       "   'deceased': 9,\n",
       "   'recovered': 5408,\n",
       "   'delta': {'confirmed': 0, 'deceased': 0, 'recovered': 0}},\n",
       "  'Kannur': {'notes': '',\n",
       "   'active': 5349,\n",
       "   'confirmed': 24791,\n",
       "   'deceased': 106,\n",
       "   'recovered': 19332,\n",
       "   'delta': {'confirmed': 0, 'deceased': 0, 'recovered': 0}},\n",
       "  'Kasaragod': {'notes': '',\n",
       "   'active': 2269,\n",
       "   'confirmed': 18639,\n",
       "   'deceased': 70,\n",
       "   'recovered': 16296,\n",
       "   'delta': {'confirmed': 0, 'deceased': 0, 'recovered': 0}},\n",
       "  'Kollam': {'notes': '',\n",
       "   'active': 6461,\n",
       "   'confirmed': 33470,\n",
       "   'deceased': 107,\n",
       "   'recovered': 26897,\n",
       "   'delta': {'confirmed': 0, 'deceased': 0, 'recovered': 0}},\n",
       "  'Kottayam': {'notes': '',\n",
       "   'active': 5609,\n",
       "   'confirmed': 23633,\n",
       "   'deceased': 48,\n",
       "   'recovered': 17976,\n",
       "   'delta': {'confirmed': 0, 'deceased': 0, 'recovered': 0}},\n",
       "  'Kozhikode': {'notes': '',\n",
       "   'active': 9016,\n",
       "   'confirmed': 47859,\n",
       "   'deceased': 133,\n",
       "   'recovered': 38704,\n",
       "   'delta': {'confirmed': 0, 'deceased': 0, 'recovered': 0}},\n",
       "  'Malappuram': {'notes': '',\n",
       "   'active': 9634,\n",
       "   'confirmed': 51899,\n",
       "   'deceased': 153,\n",
       "   'recovered': 42104,\n",
       "   'delta': {'confirmed': 0, 'deceased': 0, 'recovered': 0}},\n",
       "  'Palakkad': {'notes': '',\n",
       "   'active': 7583,\n",
       "   'confirmed': 26343,\n",
       "   'deceased': 54,\n",
       "   'recovered': 18705,\n",
       "   'delta': {'confirmed': 0, 'deceased': 0, 'recovered': 0}},\n",
       "  'Pathanamthitta': {'notes': '',\n",
       "   'active': 2625,\n",
       "   'confirmed': 15175,\n",
       "   'deceased': 12,\n",
       "   'recovered': 12537,\n",
       "   'delta': {'confirmed': 0, 'deceased': 0, 'recovered': 0}},\n",
       "  'Thiruvananthapuram': {'notes': '',\n",
       "   'active': 8636,\n",
       "   'confirmed': 58720,\n",
       "   'deceased': 404,\n",
       "   'recovered': 49637,\n",
       "   'delta': {'confirmed': 0, 'deceased': 0, 'recovered': 0}},\n",
       "  'Thrissur': {'notes': '',\n",
       "   'active': 10570,\n",
       "   'confirmed': 39760,\n",
       "   'deceased': 124,\n",
       "   'recovered': 29060,\n",
       "   'delta': {'confirmed': 0, 'deceased': 0, 'recovered': 0}},\n",
       "  'Wayanad': {'notes': '',\n",
       "   'active': 1005,\n",
       "   'confirmed': 7076,\n",
       "   'deceased': 14,\n",
       "   'recovered': 6057,\n",
       "   'delta': {'confirmed': 0, 'deceased': 0, 'recovered': 0}}},\n",
       " 'statecode': 'KL'}"
      ]
     },
     "execution_count": 43,
     "metadata": {},
     "output_type": "execute_result"
    }
   ],
   "source": [
    "y"
   ]
  },
  {
   "cell_type": "code",
   "execution_count": 57,
   "metadata": {},
   "outputs": [
    {
     "name": "stdout",
     "output_type": "stream",
     "text": [
      "('Other State', {'notes': '', 'active': 0, 'confirmed': 0, 'deceased': 0, 'recovered': 0, 'delta': {'confirmed': 0, 'deceased': 0, 'recovered': 0}})\n",
      "('Alappuzha', {'notes': '', 'active': 8232, 'confirmed': 32793, 'deceased': 99, 'recovered': 24448, 'delta': {'confirmed': 0, 'deceased': 0, 'recovered': 0}})\n",
      "('Ernakulam', {'notes': '', 'active': 12423, 'confirmed': 45747, 'deceased': 152, 'recovered': 33163, 'delta': {'confirmed': 0, 'deceased': 0, 'recovered': 0}})\n",
      "('Idukki', {'notes': '', 'active': 1782, 'confirmed': 7201, 'deceased': 9, 'recovered': 5408, 'delta': {'confirmed': 0, 'deceased': 0, 'recovered': 0}})\n",
      "('Kannur', {'notes': '', 'active': 5349, 'confirmed': 24791, 'deceased': 106, 'recovered': 19332, 'delta': {'confirmed': 0, 'deceased': 0, 'recovered': 0}})\n",
      "('Kasaragod', {'notes': '', 'active': 2269, 'confirmed': 18639, 'deceased': 70, 'recovered': 16296, 'delta': {'confirmed': 0, 'deceased': 0, 'recovered': 0}})\n",
      "('Kollam', {'notes': '', 'active': 6461, 'confirmed': 33470, 'deceased': 107, 'recovered': 26897, 'delta': {'confirmed': 0, 'deceased': 0, 'recovered': 0}})\n",
      "('Kottayam', {'notes': '', 'active': 5609, 'confirmed': 23633, 'deceased': 48, 'recovered': 17976, 'delta': {'confirmed': 0, 'deceased': 0, 'recovered': 0}})\n",
      "('Kozhikode', {'notes': '', 'active': 9016, 'confirmed': 47859, 'deceased': 133, 'recovered': 38704, 'delta': {'confirmed': 0, 'deceased': 0, 'recovered': 0}})\n",
      "('Malappuram', {'notes': '', 'active': 9634, 'confirmed': 51899, 'deceased': 153, 'recovered': 42104, 'delta': {'confirmed': 0, 'deceased': 0, 'recovered': 0}})\n",
      "('Palakkad', {'notes': '', 'active': 7583, 'confirmed': 26343, 'deceased': 54, 'recovered': 18705, 'delta': {'confirmed': 0, 'deceased': 0, 'recovered': 0}})\n",
      "('Pathanamthitta', {'notes': '', 'active': 2625, 'confirmed': 15175, 'deceased': 12, 'recovered': 12537, 'delta': {'confirmed': 0, 'deceased': 0, 'recovered': 0}})\n",
      "('Thiruvananthapuram', {'notes': '', 'active': 8636, 'confirmed': 58720, 'deceased': 404, 'recovered': 49637, 'delta': {'confirmed': 0, 'deceased': 0, 'recovered': 0}})\n",
      "('Thrissur', {'notes': '', 'active': 10570, 'confirmed': 39760, 'deceased': 124, 'recovered': 29060, 'delta': {'confirmed': 0, 'deceased': 0, 'recovered': 0}})\n",
      "('Wayanad', {'notes': '', 'active': 1005, 'confirmed': 7076, 'deceased': 14, 'recovered': 6057, 'delta': {'confirmed': 0, 'deceased': 0, 'recovered': 0}})\n"
     ]
    }
   ],
   "source": [
    "for i in y['districtData'].items():\n",
    "    print(i)"
   ]
  },
  {
   "cell_type": "code",
   "execution_count": 59,
   "metadata": {},
   "outputs": [
    {
     "name": "stdout",
     "output_type": "stream",
     "text": [
      "0\n",
      "0\n",
      "0\n",
      "0\n",
      "0\n",
      "0\n",
      "0\n",
      "0\n",
      "0\n",
      "0\n",
      "0\n",
      "0\n",
      "0\n",
      "0\n",
      "0\n"
     ]
    }
   ],
   "source": [
    "for i in y['districtData'].items():\n",
    "    print(i[1]['delta']['confirmed'])"
   ]
  },
  {
   "cell_type": "code",
   "execution_count": null,
   "metadata": {},
   "outputs": [],
   "source": []
  }
 ],
 "metadata": {
  "kernelspec": {
   "display_name": "Python 3",
   "language": "python",
   "name": "python3"
  },
  "language_info": {
   "codemirror_mode": {
    "name": "ipython",
    "version": 3
   },
   "file_extension": ".py",
   "mimetype": "text/x-python",
   "name": "python",
   "nbconvert_exporter": "python",
   "pygments_lexer": "ipython3",
   "version": "3.7.6"
  }
 },
 "nbformat": 4,
 "nbformat_minor": 4
}
