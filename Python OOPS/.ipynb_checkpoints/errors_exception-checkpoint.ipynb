{
 "cells": [
  {
   "cell_type": "code",
   "execution_count": 16,
   "metadata": {},
   "outputs": [
    {
     "name": "stdout",
     "output_type": "stream",
     "text": [
      "adding problem\n"
     ]
    }
   ],
   "source": [
    "try:\n",
    "    result=10+'10'\n",
    "except:\n",
    "    print('adding problem')\n",
    "else:\n",
    "    print('Adding went well')\n",
    "    print('result=='+result)"
   ]
  },
  {
   "cell_type": "code",
   "execution_count": 19,
   "metadata": {},
   "outputs": [
    {
     "name": "stdout",
     "output_type": "stream",
     "text": [
      "Adding went well\n",
      "result==20\n"
     ]
    }
   ],
   "source": [
    "try:\n",
    "    result=10+10\n",
    "except:\n",
    "    print('adding problem')\n",
    "else:\n",
    "    print('Adding went well')\n",
    "    print('result=='+str(result))"
   ]
  },
  {
   "cell_type": "code",
   "execution_count": 20,
   "metadata": {},
   "outputs": [],
   "source": [
    "#finally is used tp execute the code even if there is error or not error or its the code that always execute"
   ]
  },
  {
   "cell_type": "code",
   "execution_count": 21,
   "metadata": {},
   "outputs": [],
   "source": [
    "# using try,except and finally"
   ]
  },
  {
   "cell_type": "code",
   "execution_count": 24,
   "metadata": {},
   "outputs": [
    {
     "name": "stdout",
     "output_type": "stream",
     "text": [
      "Os error\n",
      "i always run\n"
     ]
    }
   ],
   "source": [
    "try:\n",
    "    f=open('testfile','r')\n",
    "    f.write('This is a line')\n",
    "except TypeError:\n",
    "    print('There is a type error')\n",
    "except OSError:\n",
    "    print('Os error')\n",
    "except IOError: \n",
    "    print('IO error')\n",
    "finally:\n",
    "    print('i always run')"
   ]
  },
  {
   "cell_type": "code",
   "execution_count": 27,
   "metadata": {},
   "outputs": [],
   "source": [
    "def ask_for_int():\n",
    "    while(True):\n",
    "        try:\n",
    "            result=int(input('please provide a number'))\n",
    "        except:\n",
    "            print('Thats not a number')\n",
    "            continue\n",
    "        else:\n",
    "            print('Yes thats a number')\n",
    "            break\n",
    "        finally:\n",
    "            print('end of try/except')"
   ]
  },
  {
   "cell_type": "code",
   "execution_count": 28,
   "metadata": {},
   "outputs": [
    {
     "name": "stdout",
     "output_type": "stream",
     "text": [
      "please provide a numbera\n",
      "Thats not a number\n",
      "end of try/except\n",
      "please provide a numbera\n",
      "Thats not a number\n",
      "end of try/except\n",
      "please provide a numbere\n",
      "Thats not a number\n",
      "end of try/except\n",
      "please provide a numbernsms\n",
      "Thats not a number\n",
      "end of try/except\n",
      "please provide a number23\n",
      "Yes thats a number\n",
      "end of try/except\n"
     ]
    }
   ],
   "source": [
    "ask_for_int()"
   ]
  },
  {
   "cell_type": "code",
   "execution_count": null,
   "metadata": {},
   "outputs": [],
   "source": []
  }
 ],
 "metadata": {
  "kernelspec": {
   "display_name": "Python 3",
   "language": "python",
   "name": "python3"
  },
  "language_info": {
   "codemirror_mode": {
    "name": "ipython",
    "version": 3
   },
   "file_extension": ".py",
   "mimetype": "text/x-python",
   "name": "python",
   "nbconvert_exporter": "python",
   "pygments_lexer": "ipython3",
   "version": "3.7.6"
  }
 },
 "nbformat": 4,
 "nbformat_minor": 4
}
