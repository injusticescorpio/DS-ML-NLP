{
 "cells": [
  {
   "cell_type": "code",
   "execution_count": 56,
   "metadata": {},
   "outputs": [],
   "source": [
    "\n",
    "text=\"\"\"hai.\n",
    "hello iam arjun.\n",
    "studing in b.tech.\n",
    "in cec chengannur.\n",
    "good colg in allepy district.\n",
    "\"\"\""
   ]
  },
  {
   "cell_type": "code",
   "execution_count": 57,
   "metadata": {},
   "outputs": [],
   "source": [
    "import nltk"
   ]
  },
  {
   "cell_type": "code",
   "execution_count": 58,
   "metadata": {},
   "outputs": [],
   "source": [
    "sentence=nltk.sent_tokenize(text)"
   ]
  },
  {
   "cell_type": "code",
   "execution_count": 59,
   "metadata": {
    "scrolled": true
   },
   "outputs": [
    {
     "data": {
      "text/plain": [
       "['hai.',\n",
       " 'hello iam arjun.',\n",
       " 'studing in b.tech.',\n",
       " 'in cec chengannur.',\n",
       " 'good colg in allepy district.']"
      ]
     },
     "execution_count": 59,
     "metadata": {},
     "output_type": "execute_result"
    }
   ],
   "source": [
    "sentence"
   ]
  },
  {
   "cell_type": "code",
   "execution_count": 60,
   "metadata": {},
   "outputs": [],
   "source": [
    "import re\n",
    "for i in range(len(sentence)):\n",
    "    sentence[i]=re.sub(r'\\W',' ',sentence[i])"
   ]
  },
  {
   "cell_type": "code",
   "execution_count": 61,
   "metadata": {},
   "outputs": [
    {
     "data": {
      "text/plain": [
       "['hai ',\n",
       " 'hello iam arjun ',\n",
       " 'studing in b tech ',\n",
       " 'in cec chengannur ',\n",
       " 'good colg in allepy district ']"
      ]
     },
     "execution_count": 61,
     "metadata": {},
     "output_type": "execute_result"
    }
   ],
   "source": [
    "sentence"
   ]
  },
  {
   "cell_type": "code",
   "execution_count": 63,
   "metadata": {},
   "outputs": [],
   "source": [
    "word_count={}\n",
    "for sent in sentence:\n",
    "    for word  in nltk.word_tokenize(sent):\n",
    "            if word in word_count.keys():\n",
    "                word_count[word]+=1\n",
    "            else:\n",
    "                word_count[word]=1\n",
    "            \n",
    "          "
   ]
  },
  {
   "cell_type": "code",
   "execution_count": 88,
   "metadata": {},
   "outputs": [
    {
     "data": {
      "text/plain": [
       "{'hai': 1,\n",
       " 'hello': 1,\n",
       " 'iam': 1,\n",
       " 'arjun': 1,\n",
       " 'studing': 1,\n",
       " 'in': 3,\n",
       " 'b': 1,\n",
       " 'tech': 1,\n",
       " 'cec': 1,\n",
       " 'chengannur': 1,\n",
       " 'good': 1,\n",
       " 'colg': 1,\n",
       " 'allepy': 1,\n",
       " 'district': 1}"
      ]
     },
     "execution_count": 88,
     "metadata": {},
     "output_type": "execute_result"
    }
   ],
   "source": [
    "word_count"
   ]
  },
  {
   "cell_type": "code",
   "execution_count": 74,
   "metadata": {},
   "outputs": [
    {
     "data": {
      "text/plain": [
       "3"
      ]
     },
     "execution_count": 74,
     "metadata": {},
     "output_type": "execute_result"
    }
   ],
   "source": [
    "max(word_count.values())"
   ]
  },
  {
   "cell_type": "code",
   "execution_count": 99,
   "metadata": {},
   "outputs": [
    {
     "data": {
      "text/plain": [
       "[('in', 3)]"
      ]
     },
     "execution_count": 99,
     "metadata": {},
     "output_type": "execute_result"
    }
   ],
   "source": [
    "getting_key(3,word_count)\n"
   ]
  },
  {
   "cell_type": "code",
   "execution_count": 100,
   "metadata": {},
   "outputs": [],
   "source": [
    "def getting_key(values,mydict):\n",
    "    \n",
    "    li=[]\n",
    "    for i in mydict.items():\n",
    "        if i[1]==values:\n",
    "            li.append((i[0],i[1]))\n",
    "    return li\n",
    "            \n",
    "    "
   ]
  },
  {
   "cell_type": "code",
   "execution_count": 101,
   "metadata": {},
   "outputs": [
    {
     "name": "stdout",
     "output_type": "stream",
     "text": [
      "('hai', 1)\n",
      "('hello', 1)\n",
      "('iam', 1)\n",
      "('arjun', 1)\n",
      "('studing', 1)\n",
      "('in', 3)\n",
      "('b', 1)\n",
      "('tech', 1)\n",
      "('cec', 1)\n",
      "('chengannur', 1)\n",
      "('good', 1)\n",
      "('colg', 1)\n",
      "('allepy', 1)\n",
      "('district', 1)\n"
     ]
    }
   ],
   "source": [
    " for i in word_count.items():\n",
    "        print(i)"
   ]
  },
  {
   "cell_type": "code",
   "execution_count": null,
   "metadata": {},
   "outputs": [],
   "source": []
  },
  {
   "cell_type": "code",
   "execution_count": null,
   "metadata": {},
   "outputs": [],
   "source": []
  }
 ],
 "metadata": {
  "kernelspec": {
   "display_name": "Python 3",
   "language": "python",
   "name": "python3"
  },
  "language_info": {
   "codemirror_mode": {
    "name": "ipython",
    "version": 3
   },
   "file_extension": ".py",
   "mimetype": "text/x-python",
   "name": "python",
   "nbconvert_exporter": "python",
   "pygments_lexer": "ipython3",
   "version": "3.7.6"
  }
 },
 "nbformat": 4,
 "nbformat_minor": 4
}
