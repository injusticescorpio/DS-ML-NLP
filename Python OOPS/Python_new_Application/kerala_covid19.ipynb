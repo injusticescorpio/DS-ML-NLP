{
 "cells": [
  {
   "cell_type": "code",
   "execution_count": 10,
   "metadata": {},
   "outputs": [],
   "source": [
    "import requests\n",
    "import json"
   ]
  },
  {
   "cell_type": "code",
   "execution_count": 11,
   "metadata": {},
   "outputs": [],
   "source": [
    "response=requests.get('https://api.covid19india.org/state_district_wise.json').json()"
   ]
  },
  {
   "cell_type": "code",
   "execution_count": 12,
   "metadata": {},
   "outputs": [],
   "source": [
    "kerala_details=response['Kerala']"
   ]
  },
  {
   "cell_type": "code",
   "execution_count": 13,
   "metadata": {},
   "outputs": [
    {
     "name": "stdout",
     "output_type": "stream",
     "text": [
      "('Other State', {'notes': '', 'active': 0, 'confirmed': 0, 'deceased': 0, 'recovered': 0, 'delta': {'confirmed': 0, 'deceased': 0, 'recovered': 0}})\n",
      "('Alappuzha', {'notes': '', 'active': 6747, 'confirmed': 44031, 'deceased': 143, 'recovered': 37125, 'delta': {'confirmed': 383, 'deceased': 6, 'recovered': 919}})\n",
      "('Ernakulam', {'notes': '', 'active': 9208, 'confirmed': 60602, 'deceased': 202, 'recovered': 51181, 'delta': {'confirmed': 797, 'deceased': 0, 'recovered': 658}})\n",
      "('Idukki', {'notes': '', 'active': 2205, 'confirmed': 10237, 'deceased': 11, 'recovered': 8019, 'delta': {'confirmed': 188, 'deceased': 0, 'recovered': 72}})\n",
      "('Kannur', {'notes': '', 'active': 3320, 'confirmed': 30616, 'deceased': 146, 'recovered': 27145, 'delta': {'confirmed': 211, 'deceased': 0, 'recovered': 473}})\n",
      "('Kasaragod', {'notes': '', 'active': 1727, 'confirmed': 21057, 'deceased': 75, 'recovered': 19251, 'delta': {'confirmed': 104, 'deceased': 0, 'recovered': 158}})\n",
      "('Kollam', {'notes': '', 'active': 4055, 'confirmed': 44289, 'deceased': 151, 'recovered': 40076, 'delta': {'confirmed': 464, 'deceased': 1, 'recovered': 681}})\n",
      "('Kottayam', {'notes': '', 'active': 4046, 'confirmed': 31983, 'deceased': 81, 'recovered': 27854, 'delta': {'confirmed': 423, 'deceased': 1, 'recovered': 271}})\n",
      "('Kozhikode', {'notes': '', 'active': 7060, 'confirmed': 62981, 'deceased': 175, 'recovered': 55739, 'delta': {'confirmed': 710, 'deceased': 4, 'recovered': 622}})\n",
      "('Malappuram', {'notes': '', 'active': 7280, 'confirmed': 65364, 'deceased': 211, 'recovered': 57864, 'delta': {'confirmed': 764, 'deceased': 2, 'recovered': 740}})\n",
      "('Palakkad', {'notes': '', 'active': 5368, 'confirmed': 34790, 'deceased': 76, 'recovered': 29344, 'delta': {'confirmed': 478, 'deceased': 3, 'recovered': 590}})\n",
      "('Pathanamthitta', {'notes': '', 'active': 2116, 'confirmed': 18719, 'deceased': 16, 'recovered': 16586, 'delta': {'confirmed': 216, 'deceased': 0, 'recovered': 167}})\n",
      "('Thiruvananthapuram', {'notes': '', 'active': 5165, 'confirmed': 68783, 'deceased': 515, 'recovered': 63058, 'delta': {'confirmed': 399, 'deceased': 7, 'recovered': 609}})\n",
      "('Thrissur', {'notes': '', 'active': 7384, 'confirmed': 54522, 'deceased': 199, 'recovered': 46932, 'delta': {'confirmed': 483, 'deceased': 1, 'recovered': 680}})\n",
      "('Wayanad', {'notes': '', 'active': 1183, 'confirmed': 9468, 'deceased': 22, 'recovered': 8263, 'delta': {'confirmed': 152, 'deceased': 0, 'recovered': 79}})\n"
     ]
    }
   ],
   "source": [
    "for i in kerala_details['districtData'].items():\n",
    "    print(i)"
   ]
  },
  {
   "cell_type": "code",
   "execution_count": 14,
   "metadata": {},
   "outputs": [],
   "source": [
    "def covid_19_details_total(district):\n",
    "    for i in kerala_details['districtData'].items():\n",
    "        if i[0]==district.title():\n",
    "            return(f\"{district} details so far\\nActive cases:   {i[1]['active']}\\nConfirmed Cases:{i[1]['confirmed']}\\nDeceased by:{i[1]['deceased']}\\nRecovered by:{i[1]['recovered']}\")\n",
    "    return('No such districts in kerala!Check whether your spellings are correct')"
   ]
  },
  {
   "cell_type": "code",
   "execution_count": 15,
   "metadata": {},
   "outputs": [
    {
     "name": "stdout",
     "output_type": "stream",
     "text": [
      "Alappuzha details so far\n",
      "Active cases:   6747\n",
      "Confirmed Cases:44031\n",
      "Deceased by:143\n",
      "Recovered by:37125\n"
     ]
    }
   ],
   "source": [
    "print(covid_19_details_total('Alappuzha'))"
   ]
  },
  {
   "cell_type": "code",
   "execution_count": 16,
   "metadata": {},
   "outputs": [],
   "source": [
    "def covid_19_details_current(district):\n",
    "    for i in kerala_details['districtData'].items():\n",
    "        if i[0]==district.title():\n",
    "            return(f\"{district} todays details so far\\nConfirmed Cases:{i[1]['delta']['confirmed']}\\nDeceased by:{i[1]['deceased']}\\nRecovered by:{i[1]['delta']['recovered']}\")\n",
    "    return('No such districts in kerala!Check whether your spellings are correct')"
   ]
  },
  {
   "cell_type": "code",
   "execution_count": 17,
   "metadata": {},
   "outputs": [
    {
     "name": "stdout",
     "output_type": "stream",
     "text": [
      "Wayanad todays details so far\n",
      "Confirmed Cases:152\n",
      "Deceased by:22\n",
      "Recovered by:79\n"
     ]
    }
   ],
   "source": [
    "print(covid_19_details_current('Wayanad'))"
   ]
  },
  {
   "cell_type": "code",
   "execution_count": 18,
   "metadata": {},
   "outputs": [],
   "source": [
    "def total_covid_19():\n",
    "    total_confirmed=0\n",
    "    total_recovered=0\n",
    "    total_death=0\n",
    "    for i in kerala_details['districtData'].items():\n",
    "        total_confirmed+=i[1]['delta']['confirmed']\n",
    "        total_recovered+=i[1]['delta']['recovered']\n",
    "        total_death+=i[1]['delta']['deceased']\n",
    "    if(total_confirmed==0 and total_recovered==0 and total_death==0):\n",
    "        return (\"Sorry I didn't get the information yet! Please Try after sometime \")\n",
    "    return (f\"Today's Total confirmed:  {total_confirmed}\\n Today's Total Recovered:  {total_recovered}\\n Today's Total Deaths:  {total_death}\")    "
   ]
  },
  {
   "cell_type": "code",
   "execution_count": 19,
   "metadata": {},
   "outputs": [
    {
     "name": "stdout",
     "output_type": "stream",
     "text": [
      "Today's Total confirmed:  5772\n",
      " Today's Total Recovered:  6719\n",
      " Today's Total Deaths:  25\n"
     ]
    }
   ],
   "source": [
    "print(total_covid_19())"
   ]
  },
  {
   "cell_type": "code",
   "execution_count": 15,
   "metadata": {},
   "outputs": [],
   "source": []
  },
  {
   "cell_type": "code",
   "execution_count": 71,
   "metadata": {},
   "outputs": [
    {
     "name": "stdout",
     "output_type": "stream",
     "text": [
      "6\n",
      "c=   4\n"
     ]
    }
   ],
   "source": [
    "similar_to('kolalm','kollam')"
   ]
  },
  {
   "cell_type": "code",
   "execution_count": 4,
   "metadata": {},
   "outputs": [],
   "source": [
    "p='kolam'+' '*2"
   ]
  },
  {
   "cell_type": "code",
   "execution_count": 64,
   "metadata": {},
   "outputs": [
    {
     "name": "stdout",
     "output_type": "stream",
     "text": [
      "5\n",
      "4\n"
     ]
    }
   ],
   "source": [
    "max_word='kollam'\n",
    "for i in range(len(max_word)-1,3,-1):\n",
    "            print(i)"
   ]
  },
  {
   "cell_type": "code",
   "execution_count": 8,
   "metadata": {},
   "outputs": [
    {
     "data": {
      "text/plain": [
       "100.0"
      ]
     },
     "execution_count": 8,
     "metadata": {},
     "output_type": "execute_result"
    }
   ],
   "source": [
    "6*100/"
   ]
  },
  {
   "cell_type": "code",
   "execution_count": 32,
   "metadata": {},
   "outputs": [
    {
     "name": "stdout",
     "output_type": "stream",
     "text": [
      "4\n",
      "3\n",
      "2\n"
     ]
    }
   ],
   "source": [
    "a='arjun'\n",
    "for i in range(len(a)-1,1,-1):\n",
    "    print(i)"
   ]
  },
  {
   "cell_type": "code",
   "execution_count": null,
   "metadata": {},
   "outputs": [],
   "source": []
  }
 ],
 "metadata": {
  "kernelspec": {
   "display_name": "Python 3",
   "language": "python",
   "name": "python3"
  },
  "language_info": {
   "codemirror_mode": {
    "name": "ipython",
    "version": 3
   },
   "file_extension": ".py",
   "mimetype": "text/x-python",
   "name": "python",
   "nbconvert_exporter": "python",
   "pygments_lexer": "ipython3",
   "version": "3.7.6"
  }
 },
 "nbformat": 4,
 "nbformat_minor": 4
}
