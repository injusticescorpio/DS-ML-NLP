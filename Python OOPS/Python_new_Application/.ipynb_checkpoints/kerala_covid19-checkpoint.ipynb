{
 "cells": [
  {
   "cell_type": "code",
   "execution_count": 1,
   "metadata": {},
   "outputs": [],
   "source": [
    "import requests\n",
    "import json"
   ]
  },
  {
   "cell_type": "code",
   "execution_count": 4,
   "metadata": {},
   "outputs": [],
   "source": [
    "response=requests.get('https://api.covid19india.org/state_district_wise.json').json()"
   ]
  },
  {
   "cell_type": "code",
   "execution_count": 5,
   "metadata": {},
   "outputs": [],
   "source": [
    "kerala_details=response['Kerala']"
   ]
  },
  {
   "cell_type": "code",
   "execution_count": 9,
   "metadata": {},
   "outputs": [
    {
     "name": "stdout",
     "output_type": "stream",
     "text": [
      "('Other State', {'notes': '', 'active': 0, 'confirmed': 0, 'deceased': 0, 'recovered': 0, 'delta': {'confirmed': 0, 'deceased': 0, 'recovered': 0}})\n",
      "('Alappuzha', {'notes': '', 'active': 8021, 'confirmed': 41499, 'deceased': 129, 'recovered': 33333, 'delta': {'confirmed': 496, 'deceased': 0, 'recovered': 623}})\n",
      "('Ernakulam', {'notes': '', 'active': 9619, 'confirmed': 57049, 'deceased': 188, 'recovered': 47231, 'delta': {'confirmed': 489, 'deceased': 0, 'recovered': 828}})\n",
      "('Idukki', {'notes': '', 'active': 2084, 'confirmed': 9240, 'deceased': 10, 'recovered': 7144, 'delta': {'confirmed': 165, 'deceased': 0, 'recovered': 70}})\n",
      "('Kannur', {'notes': '', 'active': 4303, 'confirmed': 29159, 'deceased': 137, 'recovered': 24714, 'delta': {'confirmed': 203, 'deceased': 4, 'recovered': 336}})\n",
      "('Kasaragod', {'notes': '', 'active': 1934, 'confirmed': 20401, 'deceased': 74, 'recovered': 18389, 'delta': {'confirmed': 62, 'deceased': 0, 'recovered': 117}})\n",
      "('Kollam', {'notes': '', 'active': 4984, 'confirmed': 41412, 'deceased': 139, 'recovered': 36282, 'delta': {'confirmed': 341, 'deceased': 0, 'recovered': 591}})\n",
      "('Kottayam', {'notes': '', 'active': 4834, 'confirmed': 29828, 'deceased': 72, 'recovered': 24920, 'delta': {'confirmed': 266, 'deceased': 0, 'recovered': 470}})\n",
      "('Kozhikode', {'notes': '', 'active': 7702, 'confirmed': 59148, 'deceased': 157, 'recovered': 51282, 'delta': {'confirmed': 574, 'deceased': 0, 'recovered': 831}})\n",
      "('Malappuram', {'notes': '', 'active': 6686, 'confirmed': 60905, 'deceased': 190, 'recovered': 54020, 'delta': {'confirmed': 558, 'deceased': 3, 'recovered': 725}})\n",
      "('Palakkad', {'notes': '', 'active': 6795, 'confirmed': 32301, 'deceased': 70, 'recovered': 25434, 'delta': {'confirmed': 416, 'deceased': 3, 'recovered': 340}})\n",
      "('Pathanamthitta', {'notes': '', 'active': 2013, 'confirmed': 17653, 'deceased': 16, 'recovered': 15623, 'delta': {'confirmed': 171, 'deceased': 0, 'recovered': 164}})\n",
      "('Thiruvananthapuram', {'notes': '', 'active': 6208, 'confirmed': 66472, 'deceased': 489, 'recovered': 59730, 'delta': {'confirmed': 314, 'deceased': 6, 'recovered': 571}})\n",
      "('Thrissur', {'notes': '', 'active': 8523, 'confirmed': 51157, 'deceased': 177, 'recovered': 42450, 'delta': {'confirmed': 425, 'deceased': 4, 'recovered': 892}})\n",
      "('Wayanad', {'notes': '', 'active': 1099, 'confirmed': 8775, 'deceased': 21, 'recovered': 7655, 'delta': {'confirmed': 101, 'deceased': 1, 'recovered': 126}})\n"
     ]
    }
   ],
   "source": [
    "for i in kerala_details['districtData'].items():\n",
    "    print(i)"
   ]
  },
  {
   "cell_type": "code",
   "execution_count": 19,
   "metadata": {},
   "outputs": [],
   "source": [
    "def covid_19_details_total(district):\n",
    "    for i in kerala_details['districtData'].items():\n",
    "        if i[0]==district.title():\n",
    "            return(f\"{district} details so far\\nActive cases:   {i[1]['active']}\\nConfirmed Cases:{i[1]['confirmed']}\\nDeceased by:{i[1]['deceased']}\\nRecovered by:{i[1]['recovered']}\")\n",
    "    return('No such districts in kerala!Check whether your spellings are correct')"
   ]
  },
  {
   "cell_type": "code",
   "execution_count": 20,
   "metadata": {},
   "outputs": [
    {
     "name": "stdout",
     "output_type": "stream",
     "text": [
      "Alappuzha details so far\n",
      "Active cases:   8021\n",
      "Confirmed Cases:41499\n",
      "Deceased by:129\n",
      "Recovered by:33333\n"
     ]
    }
   ],
   "source": [
    "print(covid_19_details_total('Alappuzha'))"
   ]
  },
  {
   "cell_type": "code",
   "execution_count": 21,
   "metadata": {},
   "outputs": [],
   "source": [
    "def covid_19_details_current(district):\n",
    "    for i in kerala_details['districtData'].items():\n",
    "        if i[0]==district.title():\n",
    "            return(f\"{district} todays details so far\\nConfirmed Cases:{i[1]['delta']['confirmed']}\\nDeceased by:{i[1]['deceased']}\\nRecovered by:{i[1]['delta']['recovered']}\")\n",
    "    return('No such districts in kerala!Check whether your spellings are correct')"
   ]
  },
  {
   "cell_type": "code",
   "execution_count": 22,
   "metadata": {},
   "outputs": [
    {
     "name": "stdout",
     "output_type": "stream",
     "text": [
      "Wayanad todays details so far\n",
      "Confirmed Cases:101\n",
      "Deceased by:21\n",
      "Recovered by:126\n"
     ]
    }
   ],
   "source": [
    "print(covid_19_details_current('Wayanad'))"
   ]
  },
  {
   "cell_type": "code",
   "execution_count": 25,
   "metadata": {},
   "outputs": [],
   "source": [
    "def total_covid_19():\n",
    "    total_confirmed=0\n",
    "    total_recovered=0\n",
    "    for i in kerala_details['districtData'].items():\n",
    "        total_confirmed+=i[1]['delta']['confirmed']\n",
    "        total_recovered+=i[1]['delta']['recovered']\n",
    "    if(total_confirmed==0 and total_recovered==0):\n",
    "        return (\"Sorry I didn't get the information yet! Please Try after sometime \")\n",
    "    return (f\"Today's Total confirmed:  {total_confirmed}\\n Today's Total Recovered:  {total_recovered}\")    "
   ]
  },
  {
   "cell_type": "code",
   "execution_count": 26,
   "metadata": {},
   "outputs": [
    {
     "data": {
      "text/plain": [
       "\"Today's Total confirmed:  4581\\n Today's Total Recovered:  6684\""
      ]
     },
     "execution_count": 26,
     "metadata": {},
     "output_type": "execute_result"
    }
   ],
   "source": [
    "total_covid_19()"
   ]
  },
  {
   "cell_type": "code",
   "execution_count": 70,
   "metadata": {},
   "outputs": [],
   "source": [
    "def similar_to(user_word,original_word):\n",
    "    max_word=0\n",
    "    if(len(user_word)>len(original_word)):\n",
    "        max_word=user_word\n",
    "        original_word=original_word+' '*(len(user_word)-len(original_word))\n",
    "    else:\n",
    "        max_word=original_word\n",
    "        user_word=user_word+' '*(len(original_word)-len(user_word))\n",
    "        \n",
    "    if user_word[0]==original_word[0] and user_word[1]==original_word[1]:\n",
    "        c=0\n",
    "        for i in range(len(max_word),):\n",
    "            if user_word[i]==original_word[i]:\n",
    "                c+=1\n",
    "            else:\n",
    "                break\n",
    "        print(len(max_word) )\n",
    "        for i in range(len(max_word)-1,3,-1):\n",
    "            if user_word[i]==original_word[i]:\n",
    "\n",
    "                c+=1\n",
    "            else:\n",
    "                break\n",
    "                \n",
    "        print(f'c=   {c}')\n",
    "    else:\n",
    "        return user_word\n",
    "                "
   ]
  },
  {
   "cell_type": "code",
   "execution_count": 71,
   "metadata": {},
   "outputs": [
    {
     "name": "stdout",
     "output_type": "stream",
     "text": [
      "6\n",
      "c=   4\n"
     ]
    }
   ],
   "source": [
    "similar_to('kolalm','kollam')"
   ]
  },
  {
   "cell_type": "code",
   "execution_count": 4,
   "metadata": {},
   "outputs": [],
   "source": [
    "p='kolam'+' '*2"
   ]
  },
  {
   "cell_type": "code",
   "execution_count": 64,
   "metadata": {},
   "outputs": [
    {
     "name": "stdout",
     "output_type": "stream",
     "text": [
      "5\n",
      "4\n"
     ]
    }
   ],
   "source": [
    "max_word='kollam'\n",
    "for i in range(len(max_word)-1,3,-1):\n",
    "            print(i)"
   ]
  },
  {
   "cell_type": "code",
   "execution_count": 8,
   "metadata": {},
   "outputs": [
    {
     "data": {
      "text/plain": [
       "100.0"
      ]
     },
     "execution_count": 8,
     "metadata": {},
     "output_type": "execute_result"
    }
   ],
   "source": [
    "6*100/"
   ]
  },
  {
   "cell_type": "code",
   "execution_count": 32,
   "metadata": {},
   "outputs": [
    {
     "name": "stdout",
     "output_type": "stream",
     "text": [
      "4\n",
      "3\n",
      "2\n"
     ]
    }
   ],
   "source": [
    "a='arjun'\n",
    "for i in range(len(a)-1,1,-1):\n",
    "    print(i)"
   ]
  },
  {
   "cell_type": "code",
   "execution_count": null,
   "metadata": {},
   "outputs": [],
   "source": []
  }
 ],
 "metadata": {
  "kernelspec": {
   "display_name": "Python 3",
   "language": "python",
   "name": "python3"
  },
  "language_info": {
   "codemirror_mode": {
    "name": "ipython",
    "version": 3
   },
   "file_extension": ".py",
   "mimetype": "text/x-python",
   "name": "python",
   "nbconvert_exporter": "python",
   "pygments_lexer": "ipython3",
   "version": "3.7.6"
  }
 },
 "nbformat": 4,
 "nbformat_minor": 4
}
