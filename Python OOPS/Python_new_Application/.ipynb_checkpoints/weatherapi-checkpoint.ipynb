{
 "cells": [
  {
   "cell_type": "code",
   "execution_count": 1,
   "metadata": {},
   "outputs": [],
   "source": [
    "import requests\n",
    "import json"
   ]
  },
  {
   "cell_type": "code",
   "execution_count": 18,
   "metadata": {},
   "outputs": [],
   "source": [
    "response=requests.get(\"https://api.openweathermap.org/data/2.5/weather?q=chengannur&units=metric&appid=10aaed3df6b5c193532978c9f86aee1e\").json()"
   ]
  },
  {
   "cell_type": "code",
   "execution_count": 19,
   "metadata": {},
   "outputs": [
    {
     "data": {
      "text/plain": [
       "{'coord': {'lon': 76.6333, 'lat': 9.3333},\n",
       " 'weather': [{'id': 804,\n",
       "   'main': 'Clouds',\n",
       "   'description': 'overcast clouds',\n",
       "   'icon': '04d'}],\n",
       " 'base': 'stations',\n",
       " 'main': {'temp': 27.37,\n",
       "  'feels_like': 31.18,\n",
       "  'temp_min': 27.37,\n",
       "  'temp_max': 27.37,\n",
       "  'pressure': 1007,\n",
       "  'humidity': 85,\n",
       "  'sea_level': 1007,\n",
       "  'grnd_level': 1005},\n",
       " 'visibility': 10000,\n",
       " 'wind': {'speed': 1.68, 'deg': 217, 'gust': 2.82},\n",
       " 'clouds': {'all': 100},\n",
       " 'dt': 1620217885,\n",
       " 'sys': {'country': 'IN', 'sunrise': 1620174938, 'sunset': 1620219877},\n",
       " 'timezone': 19800,\n",
       " 'id': 1274428,\n",
       " 'name': 'Chengannūr',\n",
       " 'cod': 200}"
      ]
     },
     "execution_count": 19,
     "metadata": {},
     "output_type": "execute_result"
    }
   ],
   "source": [
    "response"
   ]
  },
  {
   "cell_type": "code",
   "execution_count": 17,
   "metadata": {},
   "outputs": [
    {
     "data": {
      "text/plain": [
       "{'temp': 302.09,\n",
       " 'feels_like': 307.51,\n",
       " 'temp_min': 302.09,\n",
       " 'temp_max': 302.09,\n",
       " 'pressure': 1006,\n",
       " 'humidity': 79,\n",
       " 'sea_level': 1006,\n",
       " 'grnd_level': 1004}"
      ]
     },
     "execution_count": 17,
     "metadata": {},
     "output_type": "execute_result"
    }
   ],
   "source": [
    "response['main']"
   ]
  },
  {
   "cell_type": "code",
   "execution_count": null,
   "metadata": {},
   "outputs": [],
   "source": []
  }
 ],
 "metadata": {
  "kernelspec": {
   "display_name": "Python 3",
   "language": "python",
   "name": "python3"
  },
  "language_info": {
   "codemirror_mode": {
    "name": "ipython",
    "version": 3
   },
   "file_extension": ".py",
   "mimetype": "text/x-python",
   "name": "python",
   "nbconvert_exporter": "python",
   "pygments_lexer": "ipython3",
   "version": "3.8.5"
  }
 },
 "nbformat": 4,
 "nbformat_minor": 4
}
