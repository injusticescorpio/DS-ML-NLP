{
 "cells": [
  {
   "cell_type": "code",
   "execution_count": 1,
   "metadata": {},
   "outputs": [],
   "source": [
    "import requests\n",
    "import json"
   ]
  },
  {
   "cell_type": "code",
   "execution_count": 2,
   "metadata": {},
   "outputs": [],
   "source": [
    "response=requests.get('https://api.covid19india.org/state_district_wise.json').json()"
   ]
  },
  {
   "cell_type": "code",
   "execution_count": 3,
   "metadata": {},
   "outputs": [],
   "source": [
    "response1=response['Kerala']"
   ]
  },
  {
   "cell_type": "code",
   "execution_count": 5,
   "metadata": {
    "scrolled": true
   },
   "outputs": [
    {
     "data": {
      "text/plain": [
       "{'districtData': {'Other State': {'notes': '',\n",
       "   'active': 0,\n",
       "   'confirmed': 0,\n",
       "   'deceased': 0,\n",
       "   'recovered': 0,\n",
       "   'delta': {'confirmed': 0, 'deceased': 0, 'recovered': 0}},\n",
       "  'Alappuzha': {'notes': '',\n",
       "   'active': 8148,\n",
       "   'confirmed': 41003,\n",
       "   'deceased': 129,\n",
       "   'recovered': 32710,\n",
       "   'delta': {'confirmed': 0, 'deceased': 0, 'recovered': 0}},\n",
       "  'Ernakulam': {'notes': '',\n",
       "   'active': 9958,\n",
       "   'confirmed': 56560,\n",
       "   'deceased': 188,\n",
       "   'recovered': 46403,\n",
       "   'delta': {'confirmed': 0, 'deceased': 0, 'recovered': 0}},\n",
       "  'Idukki': {'notes': '',\n",
       "   'active': 1989,\n",
       "   'confirmed': 9075,\n",
       "   'deceased': 10,\n",
       "   'recovered': 7074,\n",
       "   'delta': {'confirmed': 0, 'deceased': 0, 'recovered': 0}},\n",
       "  'Kannur': {'notes': '',\n",
       "   'active': 4440,\n",
       "   'confirmed': 28956,\n",
       "   'deceased': 133,\n",
       "   'recovered': 24378,\n",
       "   'delta': {'confirmed': 0, 'deceased': 0, 'recovered': 0}},\n",
       "  'Kasaragod': {'notes': '',\n",
       "   'active': 1989,\n",
       "   'confirmed': 20339,\n",
       "   'deceased': 74,\n",
       "   'recovered': 18272,\n",
       "   'delta': {'confirmed': 0, 'deceased': 0, 'recovered': 0}},\n",
       "  'Kollam': {'notes': '',\n",
       "   'active': 5234,\n",
       "   'confirmed': 41071,\n",
       "   'deceased': 139,\n",
       "   'recovered': 35691,\n",
       "   'delta': {'confirmed': 0, 'deceased': 0, 'recovered': 0}},\n",
       "  'Kottayam': {'notes': '',\n",
       "   'active': 5038,\n",
       "   'confirmed': 29562,\n",
       "   'deceased': 72,\n",
       "   'recovered': 24450,\n",
       "   'delta': {'confirmed': 0, 'deceased': 0, 'recovered': 0}},\n",
       "  'Kozhikode': {'notes': '',\n",
       "   'active': 7959,\n",
       "   'confirmed': 58574,\n",
       "   'deceased': 157,\n",
       "   'recovered': 50451,\n",
       "   'delta': {'confirmed': 0, 'deceased': 0, 'recovered': 0}},\n",
       "  'Malappuram': {'notes': '',\n",
       "   'active': 6856,\n",
       "   'confirmed': 60347,\n",
       "   'deceased': 187,\n",
       "   'recovered': 53295,\n",
       "   'delta': {'confirmed': 0, 'deceased': 0, 'recovered': 0}},\n",
       "  'Palakkad': {'notes': '',\n",
       "   'active': 6722,\n",
       "   'confirmed': 31885,\n",
       "   'deceased': 67,\n",
       "   'recovered': 25094,\n",
       "   'delta': {'confirmed': 0, 'deceased': 0, 'recovered': 0}},\n",
       "  'Pathanamthitta': {'notes': '',\n",
       "   'active': 2006,\n",
       "   'confirmed': 17482,\n",
       "   'deceased': 16,\n",
       "   'recovered': 15459,\n",
       "   'delta': {'confirmed': 0, 'deceased': 0, 'recovered': 0}},\n",
       "  'Thiruvananthapuram': {'notes': '',\n",
       "   'active': 6471,\n",
       "   'confirmed': 66158,\n",
       "   'deceased': 483,\n",
       "   'recovered': 59159,\n",
       "   'delta': {'confirmed': 0, 'deceased': 0, 'recovered': 0}},\n",
       "  'Thrissur': {'notes': '',\n",
       "   'active': 8994,\n",
       "   'confirmed': 50732,\n",
       "   'deceased': 173,\n",
       "   'recovered': 41558,\n",
       "   'delta': {'confirmed': 0, 'deceased': 0, 'recovered': 0}},\n",
       "  'Wayanad': {'notes': '',\n",
       "   'active': 1125,\n",
       "   'confirmed': 8674,\n",
       "   'deceased': 20,\n",
       "   'recovered': 7529,\n",
       "   'delta': {'confirmed': 0, 'deceased': 0, 'recovered': 0}}},\n",
       " 'statecode': 'KL'}"
      ]
     },
     "execution_count": 5,
     "metadata": {},
     "output_type": "execute_result"
    }
   ],
   "source": [
    "response1"
   ]
  },
  {
   "cell_type": "code",
   "execution_count": 6,
   "metadata": {},
   "outputs": [
    {
     "name": "stdout",
     "output_type": "stream",
     "text": [
      "Other State\n",
      "Alappuzha\n",
      "Ernakulam\n",
      "Idukki\n",
      "Kannur\n",
      "Kasaragod\n",
      "Kollam\n",
      "Kottayam\n",
      "Kozhikode\n",
      "Malappuram\n",
      "Palakkad\n",
      "Pathanamthitta\n",
      "Thiruvananthapuram\n",
      "Thrissur\n",
      "Wayanad\n"
     ]
    }
   ],
   "source": [
    "for i in response1['districtData'].items():\n",
    "    print(i[0])"
   ]
  },
  {
   "cell_type": "code",
   "execution_count": 7,
   "metadata": {},
   "outputs": [],
   "source": [
    "response2=y = json.dumps(response1)"
   ]
  },
  {
   "cell_type": "code",
   "execution_count": 8,
   "metadata": {},
   "outputs": [
    {
     "data": {
      "text/plain": [
       "'{\"districtData\": {\"Other State\": {\"notes\": \"\", \"active\": 0, \"confirmed\": 0, \"deceased\": 0, \"recovered\": 0, \"delta\": {\"confirmed\": 0, \"deceased\": 0, \"recovered\": 0}}, \"Alappuzha\": {\"notes\": \"\", \"active\": 8148, \"confirmed\": 41003, \"deceased\": 129, \"recovered\": 32710, \"delta\": {\"confirmed\": 0, \"deceased\": 0, \"recovered\": 0}}, \"Ernakulam\": {\"notes\": \"\", \"active\": 9958, \"confirmed\": 56560, \"deceased\": 188, \"recovered\": 46403, \"delta\": {\"confirmed\": 0, \"deceased\": 0, \"recovered\": 0}}, \"Idukki\": {\"notes\": \"\", \"active\": 1989, \"confirmed\": 9075, \"deceased\": 10, \"recovered\": 7074, \"delta\": {\"confirmed\": 0, \"deceased\": 0, \"recovered\": 0}}, \"Kannur\": {\"notes\": \"\", \"active\": 4440, \"confirmed\": 28956, \"deceased\": 133, \"recovered\": 24378, \"delta\": {\"confirmed\": 0, \"deceased\": 0, \"recovered\": 0}}, \"Kasaragod\": {\"notes\": \"\", \"active\": 1989, \"confirmed\": 20339, \"deceased\": 74, \"recovered\": 18272, \"delta\": {\"confirmed\": 0, \"deceased\": 0, \"recovered\": 0}}, \"Kollam\": {\"notes\": \"\", \"active\": 5234, \"confirmed\": 41071, \"deceased\": 139, \"recovered\": 35691, \"delta\": {\"confirmed\": 0, \"deceased\": 0, \"recovered\": 0}}, \"Kottayam\": {\"notes\": \"\", \"active\": 5038, \"confirmed\": 29562, \"deceased\": 72, \"recovered\": 24450, \"delta\": {\"confirmed\": 0, \"deceased\": 0, \"recovered\": 0}}, \"Kozhikode\": {\"notes\": \"\", \"active\": 7959, \"confirmed\": 58574, \"deceased\": 157, \"recovered\": 50451, \"delta\": {\"confirmed\": 0, \"deceased\": 0, \"recovered\": 0}}, \"Malappuram\": {\"notes\": \"\", \"active\": 6856, \"confirmed\": 60347, \"deceased\": 187, \"recovered\": 53295, \"delta\": {\"confirmed\": 0, \"deceased\": 0, \"recovered\": 0}}, \"Palakkad\": {\"notes\": \"\", \"active\": 6722, \"confirmed\": 31885, \"deceased\": 67, \"recovered\": 25094, \"delta\": {\"confirmed\": 0, \"deceased\": 0, \"recovered\": 0}}, \"Pathanamthitta\": {\"notes\": \"\", \"active\": 2006, \"confirmed\": 17482, \"deceased\": 16, \"recovered\": 15459, \"delta\": {\"confirmed\": 0, \"deceased\": 0, \"recovered\": 0}}, \"Thiruvananthapuram\": {\"notes\": \"\", \"active\": 6471, \"confirmed\": 66158, \"deceased\": 483, \"recovered\": 59159, \"delta\": {\"confirmed\": 0, \"deceased\": 0, \"recovered\": 0}}, \"Thrissur\": {\"notes\": \"\", \"active\": 8994, \"confirmed\": 50732, \"deceased\": 173, \"recovered\": 41558, \"delta\": {\"confirmed\": 0, \"deceased\": 0, \"recovered\": 0}}, \"Wayanad\": {\"notes\": \"\", \"active\": 1125, \"confirmed\": 8674, \"deceased\": 20, \"recovered\": 7529, \"delta\": {\"confirmed\": 0, \"deceased\": 0, \"recovered\": 0}}}, \"statecode\": \"KL\"}'"
      ]
     },
     "execution_count": 8,
     "metadata": {},
     "output_type": "execute_result"
    }
   ],
   "source": [
    "response2"
   ]
  },
  {
   "cell_type": "code",
   "execution_count": 9,
   "metadata": {},
   "outputs": [],
   "source": [
    "y = json.loads(response2)"
   ]
  },
  {
   "cell_type": "code",
   "execution_count": 10,
   "metadata": {},
   "outputs": [
    {
     "data": {
      "text/plain": [
       "{'districtData': {'Other State': {'notes': '',\n",
       "   'active': 0,\n",
       "   'confirmed': 0,\n",
       "   'deceased': 0,\n",
       "   'recovered': 0,\n",
       "   'delta': {'confirmed': 0, 'deceased': 0, 'recovered': 0}},\n",
       "  'Alappuzha': {'notes': '',\n",
       "   'active': 8148,\n",
       "   'confirmed': 41003,\n",
       "   'deceased': 129,\n",
       "   'recovered': 32710,\n",
       "   'delta': {'confirmed': 0, 'deceased': 0, 'recovered': 0}},\n",
       "  'Ernakulam': {'notes': '',\n",
       "   'active': 9958,\n",
       "   'confirmed': 56560,\n",
       "   'deceased': 188,\n",
       "   'recovered': 46403,\n",
       "   'delta': {'confirmed': 0, 'deceased': 0, 'recovered': 0}},\n",
       "  'Idukki': {'notes': '',\n",
       "   'active': 1989,\n",
       "   'confirmed': 9075,\n",
       "   'deceased': 10,\n",
       "   'recovered': 7074,\n",
       "   'delta': {'confirmed': 0, 'deceased': 0, 'recovered': 0}},\n",
       "  'Kannur': {'notes': '',\n",
       "   'active': 4440,\n",
       "   'confirmed': 28956,\n",
       "   'deceased': 133,\n",
       "   'recovered': 24378,\n",
       "   'delta': {'confirmed': 0, 'deceased': 0, 'recovered': 0}},\n",
       "  'Kasaragod': {'notes': '',\n",
       "   'active': 1989,\n",
       "   'confirmed': 20339,\n",
       "   'deceased': 74,\n",
       "   'recovered': 18272,\n",
       "   'delta': {'confirmed': 0, 'deceased': 0, 'recovered': 0}},\n",
       "  'Kollam': {'notes': '',\n",
       "   'active': 5234,\n",
       "   'confirmed': 41071,\n",
       "   'deceased': 139,\n",
       "   'recovered': 35691,\n",
       "   'delta': {'confirmed': 0, 'deceased': 0, 'recovered': 0}},\n",
       "  'Kottayam': {'notes': '',\n",
       "   'active': 5038,\n",
       "   'confirmed': 29562,\n",
       "   'deceased': 72,\n",
       "   'recovered': 24450,\n",
       "   'delta': {'confirmed': 0, 'deceased': 0, 'recovered': 0}},\n",
       "  'Kozhikode': {'notes': '',\n",
       "   'active': 7959,\n",
       "   'confirmed': 58574,\n",
       "   'deceased': 157,\n",
       "   'recovered': 50451,\n",
       "   'delta': {'confirmed': 0, 'deceased': 0, 'recovered': 0}},\n",
       "  'Malappuram': {'notes': '',\n",
       "   'active': 6856,\n",
       "   'confirmed': 60347,\n",
       "   'deceased': 187,\n",
       "   'recovered': 53295,\n",
       "   'delta': {'confirmed': 0, 'deceased': 0, 'recovered': 0}},\n",
       "  'Palakkad': {'notes': '',\n",
       "   'active': 6722,\n",
       "   'confirmed': 31885,\n",
       "   'deceased': 67,\n",
       "   'recovered': 25094,\n",
       "   'delta': {'confirmed': 0, 'deceased': 0, 'recovered': 0}},\n",
       "  'Pathanamthitta': {'notes': '',\n",
       "   'active': 2006,\n",
       "   'confirmed': 17482,\n",
       "   'deceased': 16,\n",
       "   'recovered': 15459,\n",
       "   'delta': {'confirmed': 0, 'deceased': 0, 'recovered': 0}},\n",
       "  'Thiruvananthapuram': {'notes': '',\n",
       "   'active': 6471,\n",
       "   'confirmed': 66158,\n",
       "   'deceased': 483,\n",
       "   'recovered': 59159,\n",
       "   'delta': {'confirmed': 0, 'deceased': 0, 'recovered': 0}},\n",
       "  'Thrissur': {'notes': '',\n",
       "   'active': 8994,\n",
       "   'confirmed': 50732,\n",
       "   'deceased': 173,\n",
       "   'recovered': 41558,\n",
       "   'delta': {'confirmed': 0, 'deceased': 0, 'recovered': 0}},\n",
       "  'Wayanad': {'notes': '',\n",
       "   'active': 1125,\n",
       "   'confirmed': 8674,\n",
       "   'deceased': 20,\n",
       "   'recovered': 7529,\n",
       "   'delta': {'confirmed': 0, 'deceased': 0, 'recovered': 0}}},\n",
       " 'statecode': 'KL'}"
      ]
     },
     "execution_count": 10,
     "metadata": {},
     "output_type": "execute_result"
    }
   ],
   "source": [
    "y"
   ]
  },
  {
   "cell_type": "code",
   "execution_count": 11,
   "metadata": {},
   "outputs": [
    {
     "name": "stdout",
     "output_type": "stream",
     "text": [
      "('Other State', {'notes': '', 'active': 0, 'confirmed': 0, 'deceased': 0, 'recovered': 0, 'delta': {'confirmed': 0, 'deceased': 0, 'recovered': 0}})\n",
      "('Alappuzha', {'notes': '', 'active': 8148, 'confirmed': 41003, 'deceased': 129, 'recovered': 32710, 'delta': {'confirmed': 0, 'deceased': 0, 'recovered': 0}})\n",
      "('Ernakulam', {'notes': '', 'active': 9958, 'confirmed': 56560, 'deceased': 188, 'recovered': 46403, 'delta': {'confirmed': 0, 'deceased': 0, 'recovered': 0}})\n",
      "('Idukki', {'notes': '', 'active': 1989, 'confirmed': 9075, 'deceased': 10, 'recovered': 7074, 'delta': {'confirmed': 0, 'deceased': 0, 'recovered': 0}})\n",
      "('Kannur', {'notes': '', 'active': 4440, 'confirmed': 28956, 'deceased': 133, 'recovered': 24378, 'delta': {'confirmed': 0, 'deceased': 0, 'recovered': 0}})\n",
      "('Kasaragod', {'notes': '', 'active': 1989, 'confirmed': 20339, 'deceased': 74, 'recovered': 18272, 'delta': {'confirmed': 0, 'deceased': 0, 'recovered': 0}})\n",
      "('Kollam', {'notes': '', 'active': 5234, 'confirmed': 41071, 'deceased': 139, 'recovered': 35691, 'delta': {'confirmed': 0, 'deceased': 0, 'recovered': 0}})\n",
      "('Kottayam', {'notes': '', 'active': 5038, 'confirmed': 29562, 'deceased': 72, 'recovered': 24450, 'delta': {'confirmed': 0, 'deceased': 0, 'recovered': 0}})\n",
      "('Kozhikode', {'notes': '', 'active': 7959, 'confirmed': 58574, 'deceased': 157, 'recovered': 50451, 'delta': {'confirmed': 0, 'deceased': 0, 'recovered': 0}})\n",
      "('Malappuram', {'notes': '', 'active': 6856, 'confirmed': 60347, 'deceased': 187, 'recovered': 53295, 'delta': {'confirmed': 0, 'deceased': 0, 'recovered': 0}})\n",
      "('Palakkad', {'notes': '', 'active': 6722, 'confirmed': 31885, 'deceased': 67, 'recovered': 25094, 'delta': {'confirmed': 0, 'deceased': 0, 'recovered': 0}})\n",
      "('Pathanamthitta', {'notes': '', 'active': 2006, 'confirmed': 17482, 'deceased': 16, 'recovered': 15459, 'delta': {'confirmed': 0, 'deceased': 0, 'recovered': 0}})\n",
      "('Thiruvananthapuram', {'notes': '', 'active': 6471, 'confirmed': 66158, 'deceased': 483, 'recovered': 59159, 'delta': {'confirmed': 0, 'deceased': 0, 'recovered': 0}})\n",
      "('Thrissur', {'notes': '', 'active': 8994, 'confirmed': 50732, 'deceased': 173, 'recovered': 41558, 'delta': {'confirmed': 0, 'deceased': 0, 'recovered': 0}})\n",
      "('Wayanad', {'notes': '', 'active': 1125, 'confirmed': 8674, 'deceased': 20, 'recovered': 7529, 'delta': {'confirmed': 0, 'deceased': 0, 'recovered': 0}})\n"
     ]
    }
   ],
   "source": [
    "for i in y['districtData'].items():\n",
    "    print(i)"
   ]
  },
  {
   "cell_type": "code",
   "execution_count": 12,
   "metadata": {},
   "outputs": [
    {
     "name": "stdout",
     "output_type": "stream",
     "text": [
      "('Other State', {'notes': '', 'active': 0, 'confirmed': 0, 'deceased': 0, 'recovered': 0, 'delta': {'confirmed': 0, 'deceased': 0, 'recovered': 0}})\n",
      "('Alappuzha', {'notes': '', 'active': 8148, 'confirmed': 41003, 'deceased': 129, 'recovered': 32710, 'delta': {'confirmed': 0, 'deceased': 0, 'recovered': 0}})\n",
      "('Ernakulam', {'notes': '', 'active': 9958, 'confirmed': 56560, 'deceased': 188, 'recovered': 46403, 'delta': {'confirmed': 0, 'deceased': 0, 'recovered': 0}})\n",
      "('Idukki', {'notes': '', 'active': 1989, 'confirmed': 9075, 'deceased': 10, 'recovered': 7074, 'delta': {'confirmed': 0, 'deceased': 0, 'recovered': 0}})\n",
      "('Kannur', {'notes': '', 'active': 4440, 'confirmed': 28956, 'deceased': 133, 'recovered': 24378, 'delta': {'confirmed': 0, 'deceased': 0, 'recovered': 0}})\n",
      "('Kasaragod', {'notes': '', 'active': 1989, 'confirmed': 20339, 'deceased': 74, 'recovered': 18272, 'delta': {'confirmed': 0, 'deceased': 0, 'recovered': 0}})\n",
      "('Kollam', {'notes': '', 'active': 5234, 'confirmed': 41071, 'deceased': 139, 'recovered': 35691, 'delta': {'confirmed': 0, 'deceased': 0, 'recovered': 0}})\n",
      "('Kottayam', {'notes': '', 'active': 5038, 'confirmed': 29562, 'deceased': 72, 'recovered': 24450, 'delta': {'confirmed': 0, 'deceased': 0, 'recovered': 0}})\n",
      "('Kozhikode', {'notes': '', 'active': 7959, 'confirmed': 58574, 'deceased': 157, 'recovered': 50451, 'delta': {'confirmed': 0, 'deceased': 0, 'recovered': 0}})\n",
      "('Malappuram', {'notes': '', 'active': 6856, 'confirmed': 60347, 'deceased': 187, 'recovered': 53295, 'delta': {'confirmed': 0, 'deceased': 0, 'recovered': 0}})\n",
      "('Palakkad', {'notes': '', 'active': 6722, 'confirmed': 31885, 'deceased': 67, 'recovered': 25094, 'delta': {'confirmed': 0, 'deceased': 0, 'recovered': 0}})\n",
      "('Pathanamthitta', {'notes': '', 'active': 2006, 'confirmed': 17482, 'deceased': 16, 'recovered': 15459, 'delta': {'confirmed': 0, 'deceased': 0, 'recovered': 0}})\n",
      "('Thiruvananthapuram', {'notes': '', 'active': 6471, 'confirmed': 66158, 'deceased': 483, 'recovered': 59159, 'delta': {'confirmed': 0, 'deceased': 0, 'recovered': 0}})\n",
      "('Thrissur', {'notes': '', 'active': 8994, 'confirmed': 50732, 'deceased': 173, 'recovered': 41558, 'delta': {'confirmed': 0, 'deceased': 0, 'recovered': 0}})\n",
      "('Wayanad', {'notes': '', 'active': 1125, 'confirmed': 8674, 'deceased': 20, 'recovered': 7529, 'delta': {'confirmed': 0, 'deceased': 0, 'recovered': 0}})\n"
     ]
    }
   ],
   "source": [
    "for i in response1['districtData'].items():\n",
    "    print(i)"
   ]
  },
  {
   "cell_type": "code",
   "execution_count": null,
   "metadata": {},
   "outputs": [],
   "source": []
  }
 ],
 "metadata": {
  "kernelspec": {
   "display_name": "Python 3",
   "language": "python",
   "name": "python3"
  },
  "language_info": {
   "codemirror_mode": {
    "name": "ipython",
    "version": 3
   },
   "file_extension": ".py",
   "mimetype": "text/x-python",
   "name": "python",
   "nbconvert_exporter": "python",
   "pygments_lexer": "ipython3",
   "version": "3.8.5"
  }
 },
 "nbformat": 4,
 "nbformat_minor": 4
}
