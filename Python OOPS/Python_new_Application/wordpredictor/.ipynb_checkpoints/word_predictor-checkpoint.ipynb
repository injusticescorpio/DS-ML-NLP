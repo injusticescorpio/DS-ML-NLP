{
 "cells": [
  {
   "cell_type": "code",
   "execution_count": 1,
   "metadata": {},
   "outputs": [
    {
     "name": "stdout",
     "output_type": "stream",
     "text": [
      "{'word': 'a', 'results': [{'definition': 'one of the four nucleotides used in building DNA; all four nucleotides have a common phosphate group and a sugar (ribose)', 'partOfSpeech': 'noun', 'synonyms': ['deoxyadenosine monophosphate'], 'typeOf': ['nucleotide', 'base']}, {'definition': 'the blood group whose red cells carry the A antigen', 'partOfSpeech': 'noun', 'synonyms': ['group a', 'type a'], 'typeOf': ['blood group', 'blood type']}, {'definition': 'any of several fat-soluble vitamins essential for normal vision; prevents night blindness or inflammation or dryness of the eyes', 'partOfSpeech': 'noun', 'synonyms': ['antiophthalmic factor', 'axerophthol', 'vitamin a'], 'typeOf': ['fat-soluble vitamin'], 'hasTypes': ['vitamin a2', 'dehydroretinol', 'retinol', 'vitamin a1']}, {'definition': \"the basic unit of electric current adopted under the Systeme International d'Unites\", 'partOfSpeech': 'noun', 'synonyms': ['amp', 'ampere'], 'typeOf': ['current unit'], 'hasParts': ['milliampere', 'ma'], 'partOf': ['abamp', 'abampere'], 'examples': ['a typical household circuit carries 15 to 50 amps']}, {'definition': 'a metric unit of length equal to one ten billionth of a meter (or 0.0001 micron); used to specify wavelengths of electromagnetic radiation', 'partOfSpeech': 'noun', 'synonyms': ['angstrom', 'angstrom unit'], 'typeOf': ['metric linear unit'], 'hasParts': ['picometer', 'micromicron', 'picometre'], 'partOf': ['micromillimetre', 'nanometer', 'millimicron', 'nanometre', 'nm', 'micromillimeter']}, {'definition': '(biochemistry) purine base found in DNA and RNA; pairs with thymine in DNA and with uracil in RNA', 'partOfSpeech': 'noun', 'synonyms': ['adenine'], 'inCategory': ['biochemistry'], 'typeOf': ['purine'], 'substanceOf': ['dna', 'desoxyribonucleic acid', 'ribonucleic acid', 'deoxyribonucleic acid', 'rna']}, {'definition': 'the 1st letter of the Roman alphabet', 'partOfSpeech': 'noun', 'typeOf': ['letter', 'alphabetic character', 'letter of the alphabet'], 'memberOf': ['latin alphabet', 'roman alphabet']}], 'pronunciation': {'all': 'eɪ'}, 'frequency': 7.28}\n"
     ]
    }
   ],
   "source": [
    "import requests\n",
    "\n",
    "url = \"https://wordsapiv1.p.rapidapi.com/words/a\"\n",
    "\n",
    "headers = {\n",
    "    'x-rapidapi-key': \"c60191a8a7msh4004897010daabbp199d7djsnb9249f5c7c0c\",\n",
    "    'x-rapidapi-host': \"wordsapiv1.p.rapidapi.com\"\n",
    "    }\n",
    "\n",
    "response = requests.request(\"GET\", url, headers=headers).json()\n",
    "\n",
    "print(response)"
   ]
  },
  {
   "cell_type": "code",
   "execution_count": 5,
   "metadata": {},
   "outputs": [
    {
     "data": {
      "text/plain": [
       "'a'"
      ]
     },
     "execution_count": 5,
     "metadata": {},
     "output_type": "execute_result"
    }
   ],
   "source": [
    "response['word']"
   ]
  },
  {
   "cell_type": "code",
   "execution_count": 29,
   "metadata": {},
   "outputs": [],
   "source": [
    "with open('words.txt','r') as f:\n",
    "    word_file = f.read()"
   ]
  },
  {
   "cell_type": "code",
   "execution_count": 30,
   "metadata": {},
   "outputs": [],
   "source": [
    "words=word_file.split('\\n')"
   ]
  },
  {
   "cell_type": "code",
   "execution_count": 32,
   "metadata": {},
   "outputs": [],
   "source": [
    "import string\n",
    "alphabet=list(string.ascii_lowercase)"
   ]
  },
  {
   "cell_type": "code",
   "execution_count": 33,
   "metadata": {},
   "outputs": [
    {
     "data": {
      "text/plain": [
       "['a',\n",
       " 'b',\n",
       " 'c',\n",
       " 'd',\n",
       " 'e',\n",
       " 'f',\n",
       " 'g',\n",
       " 'h',\n",
       " 'i',\n",
       " 'j',\n",
       " 'k',\n",
       " 'l',\n",
       " 'm',\n",
       " 'n',\n",
       " 'o',\n",
       " 'p',\n",
       " 'q',\n",
       " 'r',\n",
       " 's',\n",
       " 't',\n",
       " 'u',\n",
       " 'v',\n",
       " 'w',\n",
       " 'x',\n",
       " 'y',\n",
       " 'z']"
      ]
     },
     "execution_count": 33,
     "metadata": {},
     "output_type": "execute_result"
    }
   ],
   "source": [
    "alphabet"
   ]
  },
  {
   "cell_type": "code",
   "execution_count": 31,
   "metadata": {},
   "outputs": [
    {
     "data": {
      "text/plain": [
       "'a'"
      ]
     },
     "execution_count": 31,
     "metadata": {},
     "output_type": "execute_result"
    }
   ],
   "source": [
    "wor\n",
    "for i in alphabet:\n",
    "    for j in words:\n",
    "        if i==j[0]:\n",
    "            word_dict\n"
   ]
  },
  {
   "cell_type": "code",
   "execution_count": 49,
   "metadata": {},
   "outputs": [],
   "source": [
    "a=[1,2,3,4]\n",
    "d={}\n",
    "for i in 'ab':\n",
    "    li=[]\n",
    "    for j in range(len(a)):\n",
    "        li.append(j)\n",
    "    d[i]=li\n",
    "        \n",
    "    "
   ]
  },
  {
   "cell_type": "code",
   "execution_count": 50,
   "metadata": {},
   "outputs": [
    {
     "data": {
      "text/plain": [
       "{'a': [0, 1, 2, 3], 'b': [0, 1, 2, 3]}"
      ]
     },
     "execution_count": 50,
     "metadata": {},
     "output_type": "execute_result"
    }
   ],
   "source": [
    "d"
   ]
  },
  {
   "cell_type": "code",
   "execution_count": null,
   "metadata": {},
   "outputs": [],
   "source": []
  }
 ],
 "metadata": {
  "kernelspec": {
   "display_name": "Python 3",
   "language": "python",
   "name": "python3"
  },
  "language_info": {
   "codemirror_mode": {
    "name": "ipython",
    "version": 3
   },
   "file_extension": ".py",
   "mimetype": "text/x-python",
   "name": "python",
   "nbconvert_exporter": "python",
   "pygments_lexer": "ipython3",
   "version": "3.7.6"
  }
 },
 "nbformat": 4,
 "nbformat_minor": 4
}
