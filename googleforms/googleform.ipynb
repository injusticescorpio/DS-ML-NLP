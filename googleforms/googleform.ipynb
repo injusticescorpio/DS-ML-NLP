{
 "cells": [
  {
   "cell_type": "code",
   "execution_count": 1,
   "metadata": {},
   "outputs": [],
   "source": [
    "import chart_studio.plotly as py#plotly used for interactive visualization .cufflinks is used for connecting plotly with pandas\n",
    "import pandas as pd\n",
    "import numpy as np"
   ]
  },
  {
   "cell_type": "code",
   "execution_count": 2,
   "metadata": {},
   "outputs": [],
   "source": [
    "import cufflinks as cf"
   ]
  },
  {
   "cell_type": "code",
   "execution_count": 3,
   "metadata": {},
   "outputs": [],
   "source": [
    "from plotly.offline import download_plotlyjs,init_notebook_mode,iplot"
   ]
  },
  {
   "cell_type": "code",
   "execution_count": 4,
   "metadata": {},
   "outputs": [
    {
     "data": {
      "text/html": [
       "        <script type=\"text/javascript\">\n",
       "        window.PlotlyConfig = {MathJaxConfig: 'local'};\n",
       "        if (window.MathJax) {MathJax.Hub.Config({SVG: {font: \"STIX-Web\"}});}\n",
       "        if (typeof require !== 'undefined') {\n",
       "        require.undef(\"plotly\");\n",
       "        requirejs.config({\n",
       "            paths: {\n",
       "                'plotly': ['https://cdn.plot.ly/plotly-latest.min']\n",
       "            }\n",
       "        });\n",
       "        require(['plotly'], function(Plotly) {\n",
       "            window._Plotly = Plotly;\n",
       "        });\n",
       "        }\n",
       "        </script>\n",
       "        "
      ]
     },
     "metadata": {},
     "output_type": "display_data"
    }
   ],
   "source": [
    "init_notebook_mode(connected=True)"
   ]
  },
  {
   "cell_type": "code",
   "execution_count": 5,
   "metadata": {},
   "outputs": [
    {
     "data": {
      "text/html": [
       "        <script type=\"text/javascript\">\n",
       "        window.PlotlyConfig = {MathJaxConfig: 'local'};\n",
       "        if (window.MathJax) {MathJax.Hub.Config({SVG: {font: \"STIX-Web\"}});}\n",
       "        if (typeof require !== 'undefined') {\n",
       "        require.undef(\"plotly\");\n",
       "        requirejs.config({\n",
       "            paths: {\n",
       "                'plotly': ['https://cdn.plot.ly/plotly-latest.min']\n",
       "            }\n",
       "        });\n",
       "        require(['plotly'], function(Plotly) {\n",
       "            window._Plotly = Plotly;\n",
       "        });\n",
       "        }\n",
       "        </script>\n",
       "        "
      ]
     },
     "metadata": {},
     "output_type": "display_data"
    }
   ],
   "source": [
    "init_notebook_mode(connected=True)"
   ]
  },
  {
   "cell_type": "code",
   "execution_count": 6,
   "metadata": {},
   "outputs": [],
   "source": [
    "df=pd.read_csv('Untitled form.csv')"
   ]
  },
  {
   "cell_type": "code",
   "execution_count": 7,
   "metadata": {},
   "outputs": [
    {
     "data": {
      "text/html": [
       "<div>\n",
       "<style scoped>\n",
       "    .dataframe tbody tr th:only-of-type {\n",
       "        vertical-align: middle;\n",
       "    }\n",
       "\n",
       "    .dataframe tbody tr th {\n",
       "        vertical-align: top;\n",
       "    }\n",
       "\n",
       "    .dataframe thead th {\n",
       "        text-align: right;\n",
       "    }\n",
       "</style>\n",
       "<table border=\"1\" class=\"dataframe\">\n",
       "  <thead>\n",
       "    <tr style=\"text-align: right;\">\n",
       "      <th></th>\n",
       "      <th>Timestamp</th>\n",
       "      <th>Enter your Name:</th>\n",
       "      <th>1. What is your opinion on creating a medical chatbot?</th>\n",
       "      <th>2. Have you ever felt that the charges issued by the hospitals is higher than you expected?</th>\n",
       "      <th>3. Have you ever felt shy to go to the hospital alone?</th>\n",
       "      <th>5. What is your opinion for adding additional features like Weather prediction, Covid-19 live tracker, Healthy tips etc?</th>\n",
       "      <th>6. What is the charge (both consulting and medicines) issued by the hospital now a days for a simple fever ?</th>\n",
       "      <th>7. Have you ever  waited so long to meet a doctor in a hospital?</th>\n",
       "      <th>8. Suggest some add-ons if any for our chatbot.</th>\n",
       "    </tr>\n",
       "  </thead>\n",
       "  <tbody>\n",
       "    <tr>\n",
       "      <th>0</th>\n",
       "      <td>2020/11/16 10:04:09 PM GMT+5:30</td>\n",
       "      <td>Nandagopal J</td>\n",
       "      <td>Good</td>\n",
       "      <td>Yes</td>\n",
       "      <td>No</td>\n",
       "      <td>Positive</td>\n",
       "      <td>100 &gt;= charge &lt;= 1000</td>\n",
       "      <td>Yes</td>\n",
       "      <td>NaN</td>\n",
       "    </tr>\n",
       "    <tr>\n",
       "      <th>1</th>\n",
       "      <td>2020/11/16 10:17:14 PM GMT+5:30</td>\n",
       "      <td>Jebin</td>\n",
       "      <td>Yes it would be a great idea.</td>\n",
       "      <td>Yes</td>\n",
       "      <td>No</td>\n",
       "      <td>Positive</td>\n",
       "      <td>100 &gt;= charge &lt;= 1000</td>\n",
       "      <td>Yes</td>\n",
       "      <td>It should be able to recommend and book an onl...</td>\n",
       "    </tr>\n",
       "    <tr>\n",
       "      <th>2</th>\n",
       "      <td>2020/11/16 10:18:45 PM GMT+5:30</td>\n",
       "      <td>Helen</td>\n",
       "      <td>Good to have medical chatbot</td>\n",
       "      <td>Yes</td>\n",
       "      <td>Can't say</td>\n",
       "      <td>Positive</td>\n",
       "      <td>100 &gt;= charge &lt;= 1000</td>\n",
       "      <td>No</td>\n",
       "      <td>NaN</td>\n",
       "    </tr>\n",
       "    <tr>\n",
       "      <th>3</th>\n",
       "      <td>2020/11/16 10:20:10 PM GMT+5:30</td>\n",
       "      <td>Amie Elsuba Scaria</td>\n",
       "      <td>It will be beneficial for a whole lot of peopl...</td>\n",
       "      <td>Yes</td>\n",
       "      <td>No</td>\n",
       "      <td>Positive</td>\n",
       "      <td>100 &gt;= charge &lt;= 1000</td>\n",
       "      <td>Yes</td>\n",
       "      <td>NaN</td>\n",
       "    </tr>\n",
       "    <tr>\n",
       "      <th>4</th>\n",
       "      <td>2020/11/16 10:20:10 PM GMT+5:30</td>\n",
       "      <td>Merril</td>\n",
       "      <td>Nyx</td>\n",
       "      <td>Yes</td>\n",
       "      <td>No</td>\n",
       "      <td>Positive</td>\n",
       "      <td>100 &gt;= charge &lt;= 1000</td>\n",
       "      <td>Yes</td>\n",
       "      <td>NaN</td>\n",
       "    </tr>\n",
       "  </tbody>\n",
       "</table>\n",
       "</div>"
      ],
      "text/plain": [
       "                         Timestamp    Enter your Name:  \\\n",
       "0  2020/11/16 10:04:09 PM GMT+5:30        Nandagopal J   \n",
       "1  2020/11/16 10:17:14 PM GMT+5:30              Jebin    \n",
       "2  2020/11/16 10:18:45 PM GMT+5:30               Helen   \n",
       "3  2020/11/16 10:20:10 PM GMT+5:30  Amie Elsuba Scaria   \n",
       "4  2020/11/16 10:20:10 PM GMT+5:30              Merril   \n",
       "\n",
       "  1. What is your opinion on creating a medical chatbot?  \\\n",
       "0                                               Good       \n",
       "1                      Yes it would be a great idea.       \n",
       "2                       Good to have medical chatbot       \n",
       "3  It will be beneficial for a whole lot of peopl...       \n",
       "4                                                Nyx       \n",
       "\n",
       "  2. Have you ever felt that the charges issued by the hospitals is higher than you expected?  \\\n",
       "0                                                Yes                                            \n",
       "1                                                Yes                                            \n",
       "2                                                Yes                                            \n",
       "3                                                Yes                                            \n",
       "4                                                Yes                                            \n",
       "\n",
       "  3. Have you ever felt shy to go to the hospital alone?  \\\n",
       "0                                                 No       \n",
       "1                                                 No       \n",
       "2                                          Can't say       \n",
       "3                                                 No       \n",
       "4                                                 No       \n",
       "\n",
       "  5. What is your opinion for adding additional features like Weather prediction, Covid-19 live tracker, Healthy tips etc?  \\\n",
       "0                                           Positive                                                                         \n",
       "1                                           Positive                                                                         \n",
       "2                                           Positive                                                                         \n",
       "3                                           Positive                                                                         \n",
       "4                                           Positive                                                                         \n",
       "\n",
       "  6. What is the charge (both consulting and medicines) issued by the hospital now a days for a simple fever ?  \\\n",
       "0                              100 >= charge <= 1000                                                             \n",
       "1                              100 >= charge <= 1000                                                             \n",
       "2                              100 >= charge <= 1000                                                             \n",
       "3                              100 >= charge <= 1000                                                             \n",
       "4                              100 >= charge <= 1000                                                             \n",
       "\n",
       "  7. Have you ever  waited so long to meet a doctor in a hospital?  \\\n",
       "0                                                Yes                 \n",
       "1                                                Yes                 \n",
       "2                                                 No                 \n",
       "3                                                Yes                 \n",
       "4                                                Yes                 \n",
       "\n",
       "     8. Suggest some add-ons if any for our chatbot.  \n",
       "0                                                NaN  \n",
       "1  It should be able to recommend and book an onl...  \n",
       "2                                                NaN  \n",
       "3                                                NaN  \n",
       "4                                                NaN  "
      ]
     },
     "execution_count": 7,
     "metadata": {},
     "output_type": "execute_result"
    }
   ],
   "source": [
    "df.head()"
   ]
  },
  {
   "cell_type": "code",
   "execution_count": 8,
   "metadata": {},
   "outputs": [],
   "source": [
    "df.drop(['Enter your Name:','1. What is your opinion on creating a medical chatbot?','8. Suggest some add-ons if any for our chatbot.'],axis=1,inplace=True)"
   ]
  },
  {
   "cell_type": "code",
   "execution_count": 9,
   "metadata": {},
   "outputs": [
    {
     "data": {
      "text/html": [
       "<div>\n",
       "<style scoped>\n",
       "    .dataframe tbody tr th:only-of-type {\n",
       "        vertical-align: middle;\n",
       "    }\n",
       "\n",
       "    .dataframe tbody tr th {\n",
       "        vertical-align: top;\n",
       "    }\n",
       "\n",
       "    .dataframe thead th {\n",
       "        text-align: right;\n",
       "    }\n",
       "</style>\n",
       "<table border=\"1\" class=\"dataframe\">\n",
       "  <thead>\n",
       "    <tr style=\"text-align: right;\">\n",
       "      <th></th>\n",
       "      <th>Timestamp</th>\n",
       "      <th>2. Have you ever felt that the charges issued by the hospitals is higher than you expected?</th>\n",
       "      <th>3. Have you ever felt shy to go to the hospital alone?</th>\n",
       "      <th>5. What is your opinion for adding additional features like Weather prediction, Covid-19 live tracker, Healthy tips etc?</th>\n",
       "      <th>6. What is the charge (both consulting and medicines) issued by the hospital now a days for a simple fever ?</th>\n",
       "      <th>7. Have you ever  waited so long to meet a doctor in a hospital?</th>\n",
       "    </tr>\n",
       "  </thead>\n",
       "  <tbody>\n",
       "    <tr>\n",
       "      <th>0</th>\n",
       "      <td>2020/11/16 10:04:09 PM GMT+5:30</td>\n",
       "      <td>Yes</td>\n",
       "      <td>No</td>\n",
       "      <td>Positive</td>\n",
       "      <td>100 &gt;= charge &lt;= 1000</td>\n",
       "      <td>Yes</td>\n",
       "    </tr>\n",
       "    <tr>\n",
       "      <th>1</th>\n",
       "      <td>2020/11/16 10:17:14 PM GMT+5:30</td>\n",
       "      <td>Yes</td>\n",
       "      <td>No</td>\n",
       "      <td>Positive</td>\n",
       "      <td>100 &gt;= charge &lt;= 1000</td>\n",
       "      <td>Yes</td>\n",
       "    </tr>\n",
       "    <tr>\n",
       "      <th>2</th>\n",
       "      <td>2020/11/16 10:18:45 PM GMT+5:30</td>\n",
       "      <td>Yes</td>\n",
       "      <td>Can't say</td>\n",
       "      <td>Positive</td>\n",
       "      <td>100 &gt;= charge &lt;= 1000</td>\n",
       "      <td>No</td>\n",
       "    </tr>\n",
       "    <tr>\n",
       "      <th>3</th>\n",
       "      <td>2020/11/16 10:20:10 PM GMT+5:30</td>\n",
       "      <td>Yes</td>\n",
       "      <td>No</td>\n",
       "      <td>Positive</td>\n",
       "      <td>100 &gt;= charge &lt;= 1000</td>\n",
       "      <td>Yes</td>\n",
       "    </tr>\n",
       "    <tr>\n",
       "      <th>4</th>\n",
       "      <td>2020/11/16 10:20:10 PM GMT+5:30</td>\n",
       "      <td>Yes</td>\n",
       "      <td>No</td>\n",
       "      <td>Positive</td>\n",
       "      <td>100 &gt;= charge &lt;= 1000</td>\n",
       "      <td>Yes</td>\n",
       "    </tr>\n",
       "    <tr>\n",
       "      <th>5</th>\n",
       "      <td>2020/11/16 10:20:24 PM GMT+5:30</td>\n",
       "      <td>Yes</td>\n",
       "      <td>Can't say</td>\n",
       "      <td>Positive</td>\n",
       "      <td>charge &gt;1000</td>\n",
       "      <td>Yes</td>\n",
       "    </tr>\n",
       "    <tr>\n",
       "      <th>6</th>\n",
       "      <td>2020/11/16 10:20:34 PM GMT+5:30</td>\n",
       "      <td>Yes</td>\n",
       "      <td>No</td>\n",
       "      <td>Neutral</td>\n",
       "      <td>100 &gt;= charge &lt;= 1000</td>\n",
       "      <td>No</td>\n",
       "    </tr>\n",
       "    <tr>\n",
       "      <th>7</th>\n",
       "      <td>2020/11/16 10:21:05 PM GMT+5:30</td>\n",
       "      <td>Yes</td>\n",
       "      <td>No</td>\n",
       "      <td>Neutral</td>\n",
       "      <td>100 &gt;= charge &lt;= 1000</td>\n",
       "      <td>Yes</td>\n",
       "    </tr>\n",
       "    <tr>\n",
       "      <th>8</th>\n",
       "      <td>2020/11/16 10:21:13 PM GMT+5:30</td>\n",
       "      <td>Yes</td>\n",
       "      <td>Can't say</td>\n",
       "      <td>Positive</td>\n",
       "      <td>charge &gt;1000</td>\n",
       "      <td>Yes</td>\n",
       "    </tr>\n",
       "    <tr>\n",
       "      <th>9</th>\n",
       "      <td>2020/11/16 10:22:35 PM GMT+5:30</td>\n",
       "      <td>Yes</td>\n",
       "      <td>Yes</td>\n",
       "      <td>Positive</td>\n",
       "      <td>100 &gt;= charge &lt;= 1000</td>\n",
       "      <td>Yes</td>\n",
       "    </tr>\n",
       "    <tr>\n",
       "      <th>10</th>\n",
       "      <td>2020/11/16 10:23:09 PM GMT+5:30</td>\n",
       "      <td>Yes</td>\n",
       "      <td>Yes</td>\n",
       "      <td>Positive</td>\n",
       "      <td>100 &gt;= charge &lt;= 1000</td>\n",
       "      <td>Yes</td>\n",
       "    </tr>\n",
       "    <tr>\n",
       "      <th>11</th>\n",
       "      <td>2020/11/16 10:23:21 PM GMT+5:30</td>\n",
       "      <td>Yes</td>\n",
       "      <td>No</td>\n",
       "      <td>Negative</td>\n",
       "      <td>100 &gt;= charge &lt;= 1000</td>\n",
       "      <td>Yes</td>\n",
       "    </tr>\n",
       "    <tr>\n",
       "      <th>12</th>\n",
       "      <td>2020/11/16 10:24:30 PM GMT+5:30</td>\n",
       "      <td>Yes</td>\n",
       "      <td>No</td>\n",
       "      <td>Positive</td>\n",
       "      <td>100 &gt;= charge &lt;= 1000</td>\n",
       "      <td>Yes</td>\n",
       "    </tr>\n",
       "    <tr>\n",
       "      <th>13</th>\n",
       "      <td>2020/11/16 10:30:03 PM GMT+5:30</td>\n",
       "      <td>Yes</td>\n",
       "      <td>No</td>\n",
       "      <td>Neutral</td>\n",
       "      <td>100 &gt;= charge &lt;= 1000</td>\n",
       "      <td>Yes</td>\n",
       "    </tr>\n",
       "    <tr>\n",
       "      <th>14</th>\n",
       "      <td>2020/11/16 10:33:58 PM GMT+5:30</td>\n",
       "      <td>Yes</td>\n",
       "      <td>No</td>\n",
       "      <td>Positive</td>\n",
       "      <td>100 &gt;= charge &lt;= 1000</td>\n",
       "      <td>Yes</td>\n",
       "    </tr>\n",
       "    <tr>\n",
       "      <th>15</th>\n",
       "      <td>2020/11/16 10:36:42 PM GMT+5:30</td>\n",
       "      <td>Yes</td>\n",
       "      <td>No</td>\n",
       "      <td>Positive</td>\n",
       "      <td>100 &gt;= charge &lt;= 1000</td>\n",
       "      <td>Yes</td>\n",
       "    </tr>\n",
       "    <tr>\n",
       "      <th>16</th>\n",
       "      <td>2020/11/16 10:46:11 PM GMT+5:30</td>\n",
       "      <td>Yes</td>\n",
       "      <td>Yes</td>\n",
       "      <td>Positive</td>\n",
       "      <td>100 &gt;= charge &lt;= 1000</td>\n",
       "      <td>Yes</td>\n",
       "    </tr>\n",
       "    <tr>\n",
       "      <th>17</th>\n",
       "      <td>2020/11/16 10:53:38 PM GMT+5:30</td>\n",
       "      <td>Yes</td>\n",
       "      <td>No</td>\n",
       "      <td>Positive</td>\n",
       "      <td>charge &gt;1000</td>\n",
       "      <td>Yes</td>\n",
       "    </tr>\n",
       "    <tr>\n",
       "      <th>18</th>\n",
       "      <td>2020/11/16 10:54:24 PM GMT+5:30</td>\n",
       "      <td>Yes</td>\n",
       "      <td>No</td>\n",
       "      <td>Neutral</td>\n",
       "      <td>100 &gt;= charge &lt;= 1000</td>\n",
       "      <td>Yes</td>\n",
       "    </tr>\n",
       "    <tr>\n",
       "      <th>19</th>\n",
       "      <td>2020/11/16 10:55:41 PM GMT+5:30</td>\n",
       "      <td>Yes</td>\n",
       "      <td>No</td>\n",
       "      <td>Positive</td>\n",
       "      <td>100 &gt;= charge &lt;= 1000</td>\n",
       "      <td>Yes</td>\n",
       "    </tr>\n",
       "    <tr>\n",
       "      <th>20</th>\n",
       "      <td>2020/11/16 10:57:38 PM GMT+5:30</td>\n",
       "      <td>Yes</td>\n",
       "      <td>No</td>\n",
       "      <td>Positive</td>\n",
       "      <td>100 &gt;= charge &lt;= 1000</td>\n",
       "      <td>Yes</td>\n",
       "    </tr>\n",
       "    <tr>\n",
       "      <th>21</th>\n",
       "      <td>2020/11/16 11:02:11 PM GMT+5:30</td>\n",
       "      <td>Yes</td>\n",
       "      <td>Yes</td>\n",
       "      <td>Positive</td>\n",
       "      <td>charge &gt;1000</td>\n",
       "      <td>Yes</td>\n",
       "    </tr>\n",
       "    <tr>\n",
       "      <th>22</th>\n",
       "      <td>2020/11/16 11:13:53 PM GMT+5:30</td>\n",
       "      <td>Yes</td>\n",
       "      <td>No</td>\n",
       "      <td>Positive</td>\n",
       "      <td>100 &gt;= charge &lt;= 1000</td>\n",
       "      <td>Yes</td>\n",
       "    </tr>\n",
       "    <tr>\n",
       "      <th>23</th>\n",
       "      <td>2020/11/16 11:26:05 PM GMT+5:30</td>\n",
       "      <td>Yes</td>\n",
       "      <td>Yes</td>\n",
       "      <td>Positive</td>\n",
       "      <td>100 &gt;= charge &lt;= 1000</td>\n",
       "      <td>Yes</td>\n",
       "    </tr>\n",
       "    <tr>\n",
       "      <th>24</th>\n",
       "      <td>2020/11/16 11:28:59 PM GMT+5:30</td>\n",
       "      <td>Yes</td>\n",
       "      <td>Yes</td>\n",
       "      <td>Positive</td>\n",
       "      <td>None of the above</td>\n",
       "      <td>Yes</td>\n",
       "    </tr>\n",
       "    <tr>\n",
       "      <th>25</th>\n",
       "      <td>2020/11/16 11:37:15 PM GMT+5:30</td>\n",
       "      <td>Yes</td>\n",
       "      <td>No</td>\n",
       "      <td>Positive</td>\n",
       "      <td>100 &gt;= charge &lt;= 1000</td>\n",
       "      <td>Yes</td>\n",
       "    </tr>\n",
       "    <tr>\n",
       "      <th>26</th>\n",
       "      <td>2020/11/16 11:40:50 PM GMT+5:30</td>\n",
       "      <td>Yes</td>\n",
       "      <td>No</td>\n",
       "      <td>Positive</td>\n",
       "      <td>charge &gt;1000</td>\n",
       "      <td>Yes</td>\n",
       "    </tr>\n",
       "    <tr>\n",
       "      <th>27</th>\n",
       "      <td>2020/11/16 11:47:05 PM GMT+5:30</td>\n",
       "      <td>Yes</td>\n",
       "      <td>No</td>\n",
       "      <td>Neutral</td>\n",
       "      <td>100 &gt;= charge &lt;= 1000</td>\n",
       "      <td>Yes</td>\n",
       "    </tr>\n",
       "    <tr>\n",
       "      <th>28</th>\n",
       "      <td>2020/11/16 11:59:02 PM GMT+5:30</td>\n",
       "      <td>Yes</td>\n",
       "      <td>No</td>\n",
       "      <td>Positive</td>\n",
       "      <td>100 &gt;= charge &lt;= 1000</td>\n",
       "      <td>Yes</td>\n",
       "    </tr>\n",
       "    <tr>\n",
       "      <th>29</th>\n",
       "      <td>2020/11/17 12:31:43 AM GMT+5:30</td>\n",
       "      <td>Yes</td>\n",
       "      <td>No</td>\n",
       "      <td>Positive</td>\n",
       "      <td>100 &gt;= charge &lt;= 1000</td>\n",
       "      <td>Yes</td>\n",
       "    </tr>\n",
       "    <tr>\n",
       "      <th>30</th>\n",
       "      <td>2020/11/17 1:22:20 AM GMT+5:30</td>\n",
       "      <td>Yes</td>\n",
       "      <td>No</td>\n",
       "      <td>Positive</td>\n",
       "      <td>100 &gt;= charge &lt;= 1000</td>\n",
       "      <td>Yes</td>\n",
       "    </tr>\n",
       "    <tr>\n",
       "      <th>31</th>\n",
       "      <td>2020/11/17 1:32:20 AM GMT+5:30</td>\n",
       "      <td>Yes</td>\n",
       "      <td>Yes</td>\n",
       "      <td>Positive</td>\n",
       "      <td>100 &gt;= charge &lt;= 1000</td>\n",
       "      <td>Yes</td>\n",
       "    </tr>\n",
       "    <tr>\n",
       "      <th>32</th>\n",
       "      <td>2020/11/17 6:10:23 AM GMT+5:30</td>\n",
       "      <td>Yes</td>\n",
       "      <td>No</td>\n",
       "      <td>Positive</td>\n",
       "      <td>100 &gt;= charge &lt;= 1000</td>\n",
       "      <td>Yes</td>\n",
       "    </tr>\n",
       "    <tr>\n",
       "      <th>33</th>\n",
       "      <td>2020/11/17 6:48:43 AM GMT+5:30</td>\n",
       "      <td>Yes</td>\n",
       "      <td>No</td>\n",
       "      <td>Positive</td>\n",
       "      <td>100 &gt;= charge &lt;= 1000</td>\n",
       "      <td>Yes</td>\n",
       "    </tr>\n",
       "    <tr>\n",
       "      <th>34</th>\n",
       "      <td>2020/11/17 7:54:53 AM GMT+5:30</td>\n",
       "      <td>Yes</td>\n",
       "      <td>No</td>\n",
       "      <td>Positive</td>\n",
       "      <td>100 &gt;= charge &lt;= 1000</td>\n",
       "      <td>Yes</td>\n",
       "    </tr>\n",
       "    <tr>\n",
       "      <th>35</th>\n",
       "      <td>2020/11/17 8:18:14 AM GMT+5:30</td>\n",
       "      <td>Yes</td>\n",
       "      <td>No</td>\n",
       "      <td>Neutral</td>\n",
       "      <td>100 &gt;= charge &lt;= 1000</td>\n",
       "      <td>Yes</td>\n",
       "    </tr>\n",
       "    <tr>\n",
       "      <th>36</th>\n",
       "      <td>2020/11/17 8:21:26 AM GMT+5:30</td>\n",
       "      <td>Yes</td>\n",
       "      <td>No</td>\n",
       "      <td>Positive</td>\n",
       "      <td>100 &gt;= charge &lt;= 1000</td>\n",
       "      <td>Prefer not say</td>\n",
       "    </tr>\n",
       "    <tr>\n",
       "      <th>37</th>\n",
       "      <td>2020/11/17 8:28:10 AM GMT+5:30</td>\n",
       "      <td>No</td>\n",
       "      <td>No</td>\n",
       "      <td>Neutral</td>\n",
       "      <td>charge &gt;1000</td>\n",
       "      <td>Yes</td>\n",
       "    </tr>\n",
       "    <tr>\n",
       "      <th>38</th>\n",
       "      <td>2020/11/17 8:28:53 AM GMT+5:30</td>\n",
       "      <td>Yes</td>\n",
       "      <td>No</td>\n",
       "      <td>Positive</td>\n",
       "      <td>100 &gt;= charge &lt;= 1000</td>\n",
       "      <td>Yes</td>\n",
       "    </tr>\n",
       "    <tr>\n",
       "      <th>39</th>\n",
       "      <td>2020/11/17 8:33:04 AM GMT+5:30</td>\n",
       "      <td>Yes</td>\n",
       "      <td>Can't say</td>\n",
       "      <td>Neutral</td>\n",
       "      <td>100 &gt;= charge &lt;= 1000</td>\n",
       "      <td>Yes</td>\n",
       "    </tr>\n",
       "    <tr>\n",
       "      <th>40</th>\n",
       "      <td>2020/11/17 8:36:39 AM GMT+5:30</td>\n",
       "      <td>Yes</td>\n",
       "      <td>No</td>\n",
       "      <td>Negative</td>\n",
       "      <td>100 &gt;= charge &lt;= 1000</td>\n",
       "      <td>Prefer not say</td>\n",
       "    </tr>\n",
       "    <tr>\n",
       "      <th>41</th>\n",
       "      <td>2020/11/17 8:43:43 AM GMT+5:30</td>\n",
       "      <td>No</td>\n",
       "      <td>No</td>\n",
       "      <td>Positive</td>\n",
       "      <td>charge &gt;1000</td>\n",
       "      <td>Yes</td>\n",
       "    </tr>\n",
       "    <tr>\n",
       "      <th>42</th>\n",
       "      <td>2020/11/17 8:44:57 AM GMT+5:30</td>\n",
       "      <td>Yes</td>\n",
       "      <td>Can't say</td>\n",
       "      <td>Positive</td>\n",
       "      <td>100 &gt;= charge &lt;= 1000</td>\n",
       "      <td>Yes</td>\n",
       "    </tr>\n",
       "    <tr>\n",
       "      <th>43</th>\n",
       "      <td>2020/11/17 8:54:26 AM GMT+5:30</td>\n",
       "      <td>Yes</td>\n",
       "      <td>Can't say</td>\n",
       "      <td>Positive</td>\n",
       "      <td>charge &gt;1000</td>\n",
       "      <td>Yes</td>\n",
       "    </tr>\n",
       "    <tr>\n",
       "      <th>44</th>\n",
       "      <td>2020/11/17 8:54:51 AM GMT+5:30</td>\n",
       "      <td>Yes</td>\n",
       "      <td>No</td>\n",
       "      <td>Positive</td>\n",
       "      <td>None of the above</td>\n",
       "      <td>Yes</td>\n",
       "    </tr>\n",
       "    <tr>\n",
       "      <th>45</th>\n",
       "      <td>2020/11/17 9:24:03 AM GMT+5:30</td>\n",
       "      <td>Yes</td>\n",
       "      <td>No</td>\n",
       "      <td>Positive</td>\n",
       "      <td>100 &gt;= charge &lt;= 1000</td>\n",
       "      <td>Yes</td>\n",
       "    </tr>\n",
       "    <tr>\n",
       "      <th>46</th>\n",
       "      <td>2020/11/17 10:13:51 AM GMT+5:30</td>\n",
       "      <td>Yes</td>\n",
       "      <td>No</td>\n",
       "      <td>Positive</td>\n",
       "      <td>100 &gt;= charge &lt;= 1000</td>\n",
       "      <td>Yes</td>\n",
       "    </tr>\n",
       "    <tr>\n",
       "      <th>47</th>\n",
       "      <td>2020/11/17 11:12:34 AM GMT+5:30</td>\n",
       "      <td>Yes</td>\n",
       "      <td>No</td>\n",
       "      <td>Positive</td>\n",
       "      <td>100 &gt;= charge &lt;= 1000</td>\n",
       "      <td>Yes</td>\n",
       "    </tr>\n",
       "    <tr>\n",
       "      <th>48</th>\n",
       "      <td>2020/11/17 2:26:59 PM GMT+5:30</td>\n",
       "      <td>Yes</td>\n",
       "      <td>No</td>\n",
       "      <td>Positive</td>\n",
       "      <td>100 &gt;= charge &lt;= 1000</td>\n",
       "      <td>Yes</td>\n",
       "    </tr>\n",
       "    <tr>\n",
       "      <th>49</th>\n",
       "      <td>2020/11/17 7:15:10 PM GMT+5:30</td>\n",
       "      <td>Yes</td>\n",
       "      <td>No</td>\n",
       "      <td>Positive</td>\n",
       "      <td>100 &gt;= charge &lt;= 1000</td>\n",
       "      <td>Yes</td>\n",
       "    </tr>\n",
       "    <tr>\n",
       "      <th>50</th>\n",
       "      <td>2020/11/17 9:08:32 PM GMT+5:30</td>\n",
       "      <td>Yes</td>\n",
       "      <td>No</td>\n",
       "      <td>Neutral</td>\n",
       "      <td>100 &gt;= charge &lt;= 1000</td>\n",
       "      <td>Prefer not say</td>\n",
       "    </tr>\n",
       "    <tr>\n",
       "      <th>51</th>\n",
       "      <td>2020/11/17 9:32:14 PM GMT+5:30</td>\n",
       "      <td>Yes</td>\n",
       "      <td>No</td>\n",
       "      <td>Neutral</td>\n",
       "      <td>100 &gt;= charge &lt;= 1000</td>\n",
       "      <td>Yes</td>\n",
       "    </tr>\n",
       "    <tr>\n",
       "      <th>52</th>\n",
       "      <td>2020/11/18 10:02:14 AM GMT+5:30</td>\n",
       "      <td>Yes</td>\n",
       "      <td>Yes</td>\n",
       "      <td>Positive</td>\n",
       "      <td>100 &gt;= charge &lt;= 1000</td>\n",
       "      <td>Yes</td>\n",
       "    </tr>\n",
       "    <tr>\n",
       "      <th>53</th>\n",
       "      <td>2020/11/18 11:42:37 AM GMT+5:30</td>\n",
       "      <td>Yes</td>\n",
       "      <td>No</td>\n",
       "      <td>Positive</td>\n",
       "      <td>100 &gt;= charge &lt;= 1000</td>\n",
       "      <td>Yes</td>\n",
       "    </tr>\n",
       "    <tr>\n",
       "      <th>54</th>\n",
       "      <td>2020/11/18 11:51:05 AM GMT+5:30</td>\n",
       "      <td>Yes</td>\n",
       "      <td>No</td>\n",
       "      <td>Positive</td>\n",
       "      <td>100 &gt;= charge &lt;= 1000</td>\n",
       "      <td>Yes</td>\n",
       "    </tr>\n",
       "    <tr>\n",
       "      <th>55</th>\n",
       "      <td>2020/11/18 1:24:38 PM GMT+5:30</td>\n",
       "      <td>Yes</td>\n",
       "      <td>No</td>\n",
       "      <td>Positive</td>\n",
       "      <td>100 &gt;= charge &lt;= 1000</td>\n",
       "      <td>Yes</td>\n",
       "    </tr>\n",
       "  </tbody>\n",
       "</table>\n",
       "</div>"
      ],
      "text/plain": [
       "                          Timestamp  \\\n",
       "0   2020/11/16 10:04:09 PM GMT+5:30   \n",
       "1   2020/11/16 10:17:14 PM GMT+5:30   \n",
       "2   2020/11/16 10:18:45 PM GMT+5:30   \n",
       "3   2020/11/16 10:20:10 PM GMT+5:30   \n",
       "4   2020/11/16 10:20:10 PM GMT+5:30   \n",
       "5   2020/11/16 10:20:24 PM GMT+5:30   \n",
       "6   2020/11/16 10:20:34 PM GMT+5:30   \n",
       "7   2020/11/16 10:21:05 PM GMT+5:30   \n",
       "8   2020/11/16 10:21:13 PM GMT+5:30   \n",
       "9   2020/11/16 10:22:35 PM GMT+5:30   \n",
       "10  2020/11/16 10:23:09 PM GMT+5:30   \n",
       "11  2020/11/16 10:23:21 PM GMT+5:30   \n",
       "12  2020/11/16 10:24:30 PM GMT+5:30   \n",
       "13  2020/11/16 10:30:03 PM GMT+5:30   \n",
       "14  2020/11/16 10:33:58 PM GMT+5:30   \n",
       "15  2020/11/16 10:36:42 PM GMT+5:30   \n",
       "16  2020/11/16 10:46:11 PM GMT+5:30   \n",
       "17  2020/11/16 10:53:38 PM GMT+5:30   \n",
       "18  2020/11/16 10:54:24 PM GMT+5:30   \n",
       "19  2020/11/16 10:55:41 PM GMT+5:30   \n",
       "20  2020/11/16 10:57:38 PM GMT+5:30   \n",
       "21  2020/11/16 11:02:11 PM GMT+5:30   \n",
       "22  2020/11/16 11:13:53 PM GMT+5:30   \n",
       "23  2020/11/16 11:26:05 PM GMT+5:30   \n",
       "24  2020/11/16 11:28:59 PM GMT+5:30   \n",
       "25  2020/11/16 11:37:15 PM GMT+5:30   \n",
       "26  2020/11/16 11:40:50 PM GMT+5:30   \n",
       "27  2020/11/16 11:47:05 PM GMT+5:30   \n",
       "28  2020/11/16 11:59:02 PM GMT+5:30   \n",
       "29  2020/11/17 12:31:43 AM GMT+5:30   \n",
       "30   2020/11/17 1:22:20 AM GMT+5:30   \n",
       "31   2020/11/17 1:32:20 AM GMT+5:30   \n",
       "32   2020/11/17 6:10:23 AM GMT+5:30   \n",
       "33   2020/11/17 6:48:43 AM GMT+5:30   \n",
       "34   2020/11/17 7:54:53 AM GMT+5:30   \n",
       "35   2020/11/17 8:18:14 AM GMT+5:30   \n",
       "36   2020/11/17 8:21:26 AM GMT+5:30   \n",
       "37   2020/11/17 8:28:10 AM GMT+5:30   \n",
       "38   2020/11/17 8:28:53 AM GMT+5:30   \n",
       "39   2020/11/17 8:33:04 AM GMT+5:30   \n",
       "40   2020/11/17 8:36:39 AM GMT+5:30   \n",
       "41   2020/11/17 8:43:43 AM GMT+5:30   \n",
       "42   2020/11/17 8:44:57 AM GMT+5:30   \n",
       "43   2020/11/17 8:54:26 AM GMT+5:30   \n",
       "44   2020/11/17 8:54:51 AM GMT+5:30   \n",
       "45   2020/11/17 9:24:03 AM GMT+5:30   \n",
       "46  2020/11/17 10:13:51 AM GMT+5:30   \n",
       "47  2020/11/17 11:12:34 AM GMT+5:30   \n",
       "48   2020/11/17 2:26:59 PM GMT+5:30   \n",
       "49   2020/11/17 7:15:10 PM GMT+5:30   \n",
       "50   2020/11/17 9:08:32 PM GMT+5:30   \n",
       "51   2020/11/17 9:32:14 PM GMT+5:30   \n",
       "52  2020/11/18 10:02:14 AM GMT+5:30   \n",
       "53  2020/11/18 11:42:37 AM GMT+5:30   \n",
       "54  2020/11/18 11:51:05 AM GMT+5:30   \n",
       "55   2020/11/18 1:24:38 PM GMT+5:30   \n",
       "\n",
       "   2. Have you ever felt that the charges issued by the hospitals is higher than you expected?  \\\n",
       "0                                                 Yes                                            \n",
       "1                                                 Yes                                            \n",
       "2                                                 Yes                                            \n",
       "3                                                 Yes                                            \n",
       "4                                                 Yes                                            \n",
       "5                                                 Yes                                            \n",
       "6                                                 Yes                                            \n",
       "7                                                 Yes                                            \n",
       "8                                                 Yes                                            \n",
       "9                                                 Yes                                            \n",
       "10                                                Yes                                            \n",
       "11                                                Yes                                            \n",
       "12                                                Yes                                            \n",
       "13                                                Yes                                            \n",
       "14                                                Yes                                            \n",
       "15                                                Yes                                            \n",
       "16                                                Yes                                            \n",
       "17                                                Yes                                            \n",
       "18                                                Yes                                            \n",
       "19                                                Yes                                            \n",
       "20                                                Yes                                            \n",
       "21                                                Yes                                            \n",
       "22                                                Yes                                            \n",
       "23                                                Yes                                            \n",
       "24                                                Yes                                            \n",
       "25                                                Yes                                            \n",
       "26                                                Yes                                            \n",
       "27                                                Yes                                            \n",
       "28                                                Yes                                            \n",
       "29                                                Yes                                            \n",
       "30                                                Yes                                            \n",
       "31                                                Yes                                            \n",
       "32                                                Yes                                            \n",
       "33                                                Yes                                            \n",
       "34                                                Yes                                            \n",
       "35                                                Yes                                            \n",
       "36                                                Yes                                            \n",
       "37                                                 No                                            \n",
       "38                                                Yes                                            \n",
       "39                                                Yes                                            \n",
       "40                                                Yes                                            \n",
       "41                                                 No                                            \n",
       "42                                                Yes                                            \n",
       "43                                                Yes                                            \n",
       "44                                                Yes                                            \n",
       "45                                                Yes                                            \n",
       "46                                                Yes                                            \n",
       "47                                                Yes                                            \n",
       "48                                                Yes                                            \n",
       "49                                                Yes                                            \n",
       "50                                                Yes                                            \n",
       "51                                                Yes                                            \n",
       "52                                                Yes                                            \n",
       "53                                                Yes                                            \n",
       "54                                                Yes                                            \n",
       "55                                                Yes                                            \n",
       "\n",
       "   3. Have you ever felt shy to go to the hospital alone?  \\\n",
       "0                                                  No       \n",
       "1                                                  No       \n",
       "2                                           Can't say       \n",
       "3                                                  No       \n",
       "4                                                  No       \n",
       "5                                           Can't say       \n",
       "6                                                  No       \n",
       "7                                                  No       \n",
       "8                                           Can't say       \n",
       "9                                                 Yes       \n",
       "10                                                Yes       \n",
       "11                                                 No       \n",
       "12                                                 No       \n",
       "13                                                 No       \n",
       "14                                                 No       \n",
       "15                                                 No       \n",
       "16                                                Yes       \n",
       "17                                                 No       \n",
       "18                                                 No       \n",
       "19                                                 No       \n",
       "20                                                 No       \n",
       "21                                                Yes       \n",
       "22                                                 No       \n",
       "23                                                Yes       \n",
       "24                                                Yes       \n",
       "25                                                 No       \n",
       "26                                                 No       \n",
       "27                                                 No       \n",
       "28                                                 No       \n",
       "29                                                 No       \n",
       "30                                                 No       \n",
       "31                                                Yes       \n",
       "32                                                 No       \n",
       "33                                                 No       \n",
       "34                                                 No       \n",
       "35                                                 No       \n",
       "36                                                 No       \n",
       "37                                                 No       \n",
       "38                                                 No       \n",
       "39                                          Can't say       \n",
       "40                                                 No       \n",
       "41                                                 No       \n",
       "42                                          Can't say       \n",
       "43                                          Can't say       \n",
       "44                                                 No       \n",
       "45                                                 No       \n",
       "46                                                 No       \n",
       "47                                                 No       \n",
       "48                                                 No       \n",
       "49                                                 No       \n",
       "50                                                 No       \n",
       "51                                                 No       \n",
       "52                                                Yes       \n",
       "53                                                 No       \n",
       "54                                                 No       \n",
       "55                                                 No       \n",
       "\n",
       "   5. What is your opinion for adding additional features like Weather prediction, Covid-19 live tracker, Healthy tips etc?  \\\n",
       "0                                            Positive                                                                         \n",
       "1                                            Positive                                                                         \n",
       "2                                            Positive                                                                         \n",
       "3                                            Positive                                                                         \n",
       "4                                            Positive                                                                         \n",
       "5                                            Positive                                                                         \n",
       "6                                             Neutral                                                                         \n",
       "7                                             Neutral                                                                         \n",
       "8                                            Positive                                                                         \n",
       "9                                            Positive                                                                         \n",
       "10                                           Positive                                                                         \n",
       "11                                           Negative                                                                         \n",
       "12                                           Positive                                                                         \n",
       "13                                            Neutral                                                                         \n",
       "14                                           Positive                                                                         \n",
       "15                                           Positive                                                                         \n",
       "16                                           Positive                                                                         \n",
       "17                                           Positive                                                                         \n",
       "18                                            Neutral                                                                         \n",
       "19                                           Positive                                                                         \n",
       "20                                           Positive                                                                         \n",
       "21                                           Positive                                                                         \n",
       "22                                           Positive                                                                         \n",
       "23                                           Positive                                                                         \n",
       "24                                           Positive                                                                         \n",
       "25                                           Positive                                                                         \n",
       "26                                           Positive                                                                         \n",
       "27                                            Neutral                                                                         \n",
       "28                                           Positive                                                                         \n",
       "29                                           Positive                                                                         \n",
       "30                                           Positive                                                                         \n",
       "31                                           Positive                                                                         \n",
       "32                                           Positive                                                                         \n",
       "33                                           Positive                                                                         \n",
       "34                                           Positive                                                                         \n",
       "35                                            Neutral                                                                         \n",
       "36                                           Positive                                                                         \n",
       "37                                            Neutral                                                                         \n",
       "38                                           Positive                                                                         \n",
       "39                                            Neutral                                                                         \n",
       "40                                           Negative                                                                         \n",
       "41                                           Positive                                                                         \n",
       "42                                           Positive                                                                         \n",
       "43                                           Positive                                                                         \n",
       "44                                           Positive                                                                         \n",
       "45                                           Positive                                                                         \n",
       "46                                           Positive                                                                         \n",
       "47                                           Positive                                                                         \n",
       "48                                           Positive                                                                         \n",
       "49                                           Positive                                                                         \n",
       "50                                            Neutral                                                                         \n",
       "51                                            Neutral                                                                         \n",
       "52                                           Positive                                                                         \n",
       "53                                           Positive                                                                         \n",
       "54                                           Positive                                                                         \n",
       "55                                           Positive                                                                         \n",
       "\n",
       "   6. What is the charge (both consulting and medicines) issued by the hospital now a days for a simple fever ?  \\\n",
       "0                               100 >= charge <= 1000                                                             \n",
       "1                               100 >= charge <= 1000                                                             \n",
       "2                               100 >= charge <= 1000                                                             \n",
       "3                               100 >= charge <= 1000                                                             \n",
       "4                               100 >= charge <= 1000                                                             \n",
       "5                                        charge >1000                                                             \n",
       "6                               100 >= charge <= 1000                                                             \n",
       "7                               100 >= charge <= 1000                                                             \n",
       "8                                        charge >1000                                                             \n",
       "9                               100 >= charge <= 1000                                                             \n",
       "10                              100 >= charge <= 1000                                                             \n",
       "11                              100 >= charge <= 1000                                                             \n",
       "12                              100 >= charge <= 1000                                                             \n",
       "13                              100 >= charge <= 1000                                                             \n",
       "14                              100 >= charge <= 1000                                                             \n",
       "15                              100 >= charge <= 1000                                                             \n",
       "16                              100 >= charge <= 1000                                                             \n",
       "17                                       charge >1000                                                             \n",
       "18                              100 >= charge <= 1000                                                             \n",
       "19                              100 >= charge <= 1000                                                             \n",
       "20                              100 >= charge <= 1000                                                             \n",
       "21                                       charge >1000                                                             \n",
       "22                              100 >= charge <= 1000                                                             \n",
       "23                              100 >= charge <= 1000                                                             \n",
       "24                                  None of the above                                                             \n",
       "25                              100 >= charge <= 1000                                                             \n",
       "26                                       charge >1000                                                             \n",
       "27                              100 >= charge <= 1000                                                             \n",
       "28                              100 >= charge <= 1000                                                             \n",
       "29                              100 >= charge <= 1000                                                             \n",
       "30                              100 >= charge <= 1000                                                             \n",
       "31                              100 >= charge <= 1000                                                             \n",
       "32                              100 >= charge <= 1000                                                             \n",
       "33                              100 >= charge <= 1000                                                             \n",
       "34                              100 >= charge <= 1000                                                             \n",
       "35                              100 >= charge <= 1000                                                             \n",
       "36                              100 >= charge <= 1000                                                             \n",
       "37                                       charge >1000                                                             \n",
       "38                              100 >= charge <= 1000                                                             \n",
       "39                              100 >= charge <= 1000                                                             \n",
       "40                              100 >= charge <= 1000                                                             \n",
       "41                                       charge >1000                                                             \n",
       "42                              100 >= charge <= 1000                                                             \n",
       "43                                       charge >1000                                                             \n",
       "44                                  None of the above                                                             \n",
       "45                              100 >= charge <= 1000                                                             \n",
       "46                              100 >= charge <= 1000                                                             \n",
       "47                              100 >= charge <= 1000                                                             \n",
       "48                              100 >= charge <= 1000                                                             \n",
       "49                              100 >= charge <= 1000                                                             \n",
       "50                              100 >= charge <= 1000                                                             \n",
       "51                              100 >= charge <= 1000                                                             \n",
       "52                              100 >= charge <= 1000                                                             \n",
       "53                              100 >= charge <= 1000                                                             \n",
       "54                              100 >= charge <= 1000                                                             \n",
       "55                              100 >= charge <= 1000                                                             \n",
       "\n",
       "   7. Have you ever  waited so long to meet a doctor in a hospital?  \n",
       "0                                                 Yes                \n",
       "1                                                 Yes                \n",
       "2                                                  No                \n",
       "3                                                 Yes                \n",
       "4                                                 Yes                \n",
       "5                                                 Yes                \n",
       "6                                                  No                \n",
       "7                                                 Yes                \n",
       "8                                                 Yes                \n",
       "9                                                 Yes                \n",
       "10                                                Yes                \n",
       "11                                                Yes                \n",
       "12                                                Yes                \n",
       "13                                                Yes                \n",
       "14                                                Yes                \n",
       "15                                                Yes                \n",
       "16                                                Yes                \n",
       "17                                                Yes                \n",
       "18                                                Yes                \n",
       "19                                                Yes                \n",
       "20                                                Yes                \n",
       "21                                                Yes                \n",
       "22                                                Yes                \n",
       "23                                                Yes                \n",
       "24                                                Yes                \n",
       "25                                                Yes                \n",
       "26                                                Yes                \n",
       "27                                                Yes                \n",
       "28                                                Yes                \n",
       "29                                                Yes                \n",
       "30                                                Yes                \n",
       "31                                                Yes                \n",
       "32                                                Yes                \n",
       "33                                                Yes                \n",
       "34                                                Yes                \n",
       "35                                                Yes                \n",
       "36                                     Prefer not say                \n",
       "37                                                Yes                \n",
       "38                                                Yes                \n",
       "39                                                Yes                \n",
       "40                                     Prefer not say                \n",
       "41                                                Yes                \n",
       "42                                                Yes                \n",
       "43                                                Yes                \n",
       "44                                                Yes                \n",
       "45                                                Yes                \n",
       "46                                                Yes                \n",
       "47                                                Yes                \n",
       "48                                                Yes                \n",
       "49                                                Yes                \n",
       "50                                     Prefer not say                \n",
       "51                                                Yes                \n",
       "52                                                Yes                \n",
       "53                                                Yes                \n",
       "54                                                Yes                \n",
       "55                                                Yes                "
      ]
     },
     "execution_count": 9,
     "metadata": {},
     "output_type": "execute_result"
    }
   ],
   "source": [
    "df"
   ]
  },
  {
   "cell_type": "code",
   "execution_count": 10,
   "metadata": {},
   "outputs": [],
   "source": [
    "df.drop(['6. What is the charge (both consulting and medicines) issued by the hospital now a days for a simple fever ?'],axis=1,inplace=True)"
   ]
  },
  {
   "cell_type": "code",
   "execution_count": 11,
   "metadata": {},
   "outputs": [
    {
     "data": {
      "text/html": [
       "<div>\n",
       "<style scoped>\n",
       "    .dataframe tbody tr th:only-of-type {\n",
       "        vertical-align: middle;\n",
       "    }\n",
       "\n",
       "    .dataframe tbody tr th {\n",
       "        vertical-align: top;\n",
       "    }\n",
       "\n",
       "    .dataframe thead th {\n",
       "        text-align: right;\n",
       "    }\n",
       "</style>\n",
       "<table border=\"1\" class=\"dataframe\">\n",
       "  <thead>\n",
       "    <tr style=\"text-align: right;\">\n",
       "      <th></th>\n",
       "      <th>Timestamp</th>\n",
       "      <th>2. Have you ever felt that the charges issued by the hospitals is higher than you expected?</th>\n",
       "      <th>3. Have you ever felt shy to go to the hospital alone?</th>\n",
       "      <th>5. What is your opinion for adding additional features like Weather prediction, Covid-19 live tracker, Healthy tips etc?</th>\n",
       "      <th>7. Have you ever  waited so long to meet a doctor in a hospital?</th>\n",
       "    </tr>\n",
       "  </thead>\n",
       "  <tbody>\n",
       "    <tr>\n",
       "      <th>0</th>\n",
       "      <td>2020/11/16 10:04:09 PM GMT+5:30</td>\n",
       "      <td>Yes</td>\n",
       "      <td>No</td>\n",
       "      <td>Positive</td>\n",
       "      <td>Yes</td>\n",
       "    </tr>\n",
       "    <tr>\n",
       "      <th>1</th>\n",
       "      <td>2020/11/16 10:17:14 PM GMT+5:30</td>\n",
       "      <td>Yes</td>\n",
       "      <td>No</td>\n",
       "      <td>Positive</td>\n",
       "      <td>Yes</td>\n",
       "    </tr>\n",
       "    <tr>\n",
       "      <th>2</th>\n",
       "      <td>2020/11/16 10:18:45 PM GMT+5:30</td>\n",
       "      <td>Yes</td>\n",
       "      <td>Can't say</td>\n",
       "      <td>Positive</td>\n",
       "      <td>No</td>\n",
       "    </tr>\n",
       "    <tr>\n",
       "      <th>3</th>\n",
       "      <td>2020/11/16 10:20:10 PM GMT+5:30</td>\n",
       "      <td>Yes</td>\n",
       "      <td>No</td>\n",
       "      <td>Positive</td>\n",
       "      <td>Yes</td>\n",
       "    </tr>\n",
       "    <tr>\n",
       "      <th>4</th>\n",
       "      <td>2020/11/16 10:20:10 PM GMT+5:30</td>\n",
       "      <td>Yes</td>\n",
       "      <td>No</td>\n",
       "      <td>Positive</td>\n",
       "      <td>Yes</td>\n",
       "    </tr>\n",
       "  </tbody>\n",
       "</table>\n",
       "</div>"
      ],
      "text/plain": [
       "                         Timestamp  \\\n",
       "0  2020/11/16 10:04:09 PM GMT+5:30   \n",
       "1  2020/11/16 10:17:14 PM GMT+5:30   \n",
       "2  2020/11/16 10:18:45 PM GMT+5:30   \n",
       "3  2020/11/16 10:20:10 PM GMT+5:30   \n",
       "4  2020/11/16 10:20:10 PM GMT+5:30   \n",
       "\n",
       "  2. Have you ever felt that the charges issued by the hospitals is higher than you expected?  \\\n",
       "0                                                Yes                                            \n",
       "1                                                Yes                                            \n",
       "2                                                Yes                                            \n",
       "3                                                Yes                                            \n",
       "4                                                Yes                                            \n",
       "\n",
       "  3. Have you ever felt shy to go to the hospital alone?  \\\n",
       "0                                                 No       \n",
       "1                                                 No       \n",
       "2                                          Can't say       \n",
       "3                                                 No       \n",
       "4                                                 No       \n",
       "\n",
       "  5. What is your opinion for adding additional features like Weather prediction, Covid-19 live tracker, Healthy tips etc?  \\\n",
       "0                                           Positive                                                                         \n",
       "1                                           Positive                                                                         \n",
       "2                                           Positive                                                                         \n",
       "3                                           Positive                                                                         \n",
       "4                                           Positive                                                                         \n",
       "\n",
       "  7. Have you ever  waited so long to meet a doctor in a hospital?  \n",
       "0                                                Yes                \n",
       "1                                                Yes                \n",
       "2                                                 No                \n",
       "3                                                Yes                \n",
       "4                                                Yes                "
      ]
     },
     "execution_count": 11,
     "metadata": {},
     "output_type": "execute_result"
    }
   ],
   "source": [
    "df.head()"
   ]
  },
  {
   "cell_type": "code",
   "execution_count": 12,
   "metadata": {},
   "outputs": [],
   "source": [
    "from plotly.offline import download_plotlyjs,init_notebook_mode,iplot"
   ]
  },
  {
   "cell_type": "code",
   "execution_count": null,
   "metadata": {
    "scrolled": true
   },
   "outputs": [],
   "source": [
    "\n"
   ]
  },
  {
   "cell_type": "code",
   "execution_count": 13,
   "metadata": {},
   "outputs": [
    {
     "data": {
      "application/vnd.plotly.v1+json": {
       "config": {
        "plotlyServerURL": "https://plot.ly"
       },
       "data": [
        {
         "insidetextorientation": "radial",
         "labels": [
          "Oxygen",
          "Hydrogen",
          "Carbon_Dioxide",
          "Nitrogen"
         ],
         "textinfo": "label+percent",
         "type": "pie",
         "values": [
          1000,
          2500,
          2500,
          1053,
          500
         ]
        }
       ],
       "layout": {
        "template": {
         "data": {
          "bar": [
           {
            "error_x": {
             "color": "#2a3f5f"
            },
            "error_y": {
             "color": "#2a3f5f"
            },
            "marker": {
             "line": {
              "color": "#E5ECF6",
              "width": 0.5
             }
            },
            "type": "bar"
           }
          ],
          "barpolar": [
           {
            "marker": {
             "line": {
              "color": "#E5ECF6",
              "width": 0.5
             }
            },
            "type": "barpolar"
           }
          ],
          "carpet": [
           {
            "aaxis": {
             "endlinecolor": "#2a3f5f",
             "gridcolor": "white",
             "linecolor": "white",
             "minorgridcolor": "white",
             "startlinecolor": "#2a3f5f"
            },
            "baxis": {
             "endlinecolor": "#2a3f5f",
             "gridcolor": "white",
             "linecolor": "white",
             "minorgridcolor": "white",
             "startlinecolor": "#2a3f5f"
            },
            "type": "carpet"
           }
          ],
          "choropleth": [
           {
            "colorbar": {
             "outlinewidth": 0,
             "ticks": ""
            },
            "type": "choropleth"
           }
          ],
          "contour": [
           {
            "colorbar": {
             "outlinewidth": 0,
             "ticks": ""
            },
            "colorscale": [
             [
              0,
              "#0d0887"
             ],
             [
              0.1111111111111111,
              "#46039f"
             ],
             [
              0.2222222222222222,
              "#7201a8"
             ],
             [
              0.3333333333333333,
              "#9c179e"
             ],
             [
              0.4444444444444444,
              "#bd3786"
             ],
             [
              0.5555555555555556,
              "#d8576b"
             ],
             [
              0.6666666666666666,
              "#ed7953"
             ],
             [
              0.7777777777777778,
              "#fb9f3a"
             ],
             [
              0.8888888888888888,
              "#fdca26"
             ],
             [
              1,
              "#f0f921"
             ]
            ],
            "type": "contour"
           }
          ],
          "contourcarpet": [
           {
            "colorbar": {
             "outlinewidth": 0,
             "ticks": ""
            },
            "type": "contourcarpet"
           }
          ],
          "heatmap": [
           {
            "colorbar": {
             "outlinewidth": 0,
             "ticks": ""
            },
            "colorscale": [
             [
              0,
              "#0d0887"
             ],
             [
              0.1111111111111111,
              "#46039f"
             ],
             [
              0.2222222222222222,
              "#7201a8"
             ],
             [
              0.3333333333333333,
              "#9c179e"
             ],
             [
              0.4444444444444444,
              "#bd3786"
             ],
             [
              0.5555555555555556,
              "#d8576b"
             ],
             [
              0.6666666666666666,
              "#ed7953"
             ],
             [
              0.7777777777777778,
              "#fb9f3a"
             ],
             [
              0.8888888888888888,
              "#fdca26"
             ],
             [
              1,
              "#f0f921"
             ]
            ],
            "type": "heatmap"
           }
          ],
          "heatmapgl": [
           {
            "colorbar": {
             "outlinewidth": 0,
             "ticks": ""
            },
            "colorscale": [
             [
              0,
              "#0d0887"
             ],
             [
              0.1111111111111111,
              "#46039f"
             ],
             [
              0.2222222222222222,
              "#7201a8"
             ],
             [
              0.3333333333333333,
              "#9c179e"
             ],
             [
              0.4444444444444444,
              "#bd3786"
             ],
             [
              0.5555555555555556,
              "#d8576b"
             ],
             [
              0.6666666666666666,
              "#ed7953"
             ],
             [
              0.7777777777777778,
              "#fb9f3a"
             ],
             [
              0.8888888888888888,
              "#fdca26"
             ],
             [
              1,
              "#f0f921"
             ]
            ],
            "type": "heatmapgl"
           }
          ],
          "histogram": [
           {
            "marker": {
             "colorbar": {
              "outlinewidth": 0,
              "ticks": ""
             }
            },
            "type": "histogram"
           }
          ],
          "histogram2d": [
           {
            "colorbar": {
             "outlinewidth": 0,
             "ticks": ""
            },
            "colorscale": [
             [
              0,
              "#0d0887"
             ],
             [
              0.1111111111111111,
              "#46039f"
             ],
             [
              0.2222222222222222,
              "#7201a8"
             ],
             [
              0.3333333333333333,
              "#9c179e"
             ],
             [
              0.4444444444444444,
              "#bd3786"
             ],
             [
              0.5555555555555556,
              "#d8576b"
             ],
             [
              0.6666666666666666,
              "#ed7953"
             ],
             [
              0.7777777777777778,
              "#fb9f3a"
             ],
             [
              0.8888888888888888,
              "#fdca26"
             ],
             [
              1,
              "#f0f921"
             ]
            ],
            "type": "histogram2d"
           }
          ],
          "histogram2dcontour": [
           {
            "colorbar": {
             "outlinewidth": 0,
             "ticks": ""
            },
            "colorscale": [
             [
              0,
              "#0d0887"
             ],
             [
              0.1111111111111111,
              "#46039f"
             ],
             [
              0.2222222222222222,
              "#7201a8"
             ],
             [
              0.3333333333333333,
              "#9c179e"
             ],
             [
              0.4444444444444444,
              "#bd3786"
             ],
             [
              0.5555555555555556,
              "#d8576b"
             ],
             [
              0.6666666666666666,
              "#ed7953"
             ],
             [
              0.7777777777777778,
              "#fb9f3a"
             ],
             [
              0.8888888888888888,
              "#fdca26"
             ],
             [
              1,
              "#f0f921"
             ]
            ],
            "type": "histogram2dcontour"
           }
          ],
          "mesh3d": [
           {
            "colorbar": {
             "outlinewidth": 0,
             "ticks": ""
            },
            "type": "mesh3d"
           }
          ],
          "parcoords": [
           {
            "line": {
             "colorbar": {
              "outlinewidth": 0,
              "ticks": ""
             }
            },
            "type": "parcoords"
           }
          ],
          "pie": [
           {
            "automargin": true,
            "type": "pie"
           }
          ],
          "scatter": [
           {
            "marker": {
             "colorbar": {
              "outlinewidth": 0,
              "ticks": ""
             }
            },
            "type": "scatter"
           }
          ],
          "scatter3d": [
           {
            "line": {
             "colorbar": {
              "outlinewidth": 0,
              "ticks": ""
             }
            },
            "marker": {
             "colorbar": {
              "outlinewidth": 0,
              "ticks": ""
             }
            },
            "type": "scatter3d"
           }
          ],
          "scattercarpet": [
           {
            "marker": {
             "colorbar": {
              "outlinewidth": 0,
              "ticks": ""
             }
            },
            "type": "scattercarpet"
           }
          ],
          "scattergeo": [
           {
            "marker": {
             "colorbar": {
              "outlinewidth": 0,
              "ticks": ""
             }
            },
            "type": "scattergeo"
           }
          ],
          "scattergl": [
           {
            "marker": {
             "colorbar": {
              "outlinewidth": 0,
              "ticks": ""
             }
            },
            "type": "scattergl"
           }
          ],
          "scattermapbox": [
           {
            "marker": {
             "colorbar": {
              "outlinewidth": 0,
              "ticks": ""
             }
            },
            "type": "scattermapbox"
           }
          ],
          "scatterpolar": [
           {
            "marker": {
             "colorbar": {
              "outlinewidth": 0,
              "ticks": ""
             }
            },
            "type": "scatterpolar"
           }
          ],
          "scatterpolargl": [
           {
            "marker": {
             "colorbar": {
              "outlinewidth": 0,
              "ticks": ""
             }
            },
            "type": "scatterpolargl"
           }
          ],
          "scatterternary": [
           {
            "marker": {
             "colorbar": {
              "outlinewidth": 0,
              "ticks": ""
             }
            },
            "type": "scatterternary"
           }
          ],
          "surface": [
           {
            "colorbar": {
             "outlinewidth": 0,
             "ticks": ""
            },
            "colorscale": [
             [
              0,
              "#0d0887"
             ],
             [
              0.1111111111111111,
              "#46039f"
             ],
             [
              0.2222222222222222,
              "#7201a8"
             ],
             [
              0.3333333333333333,
              "#9c179e"
             ],
             [
              0.4444444444444444,
              "#bd3786"
             ],
             [
              0.5555555555555556,
              "#d8576b"
             ],
             [
              0.6666666666666666,
              "#ed7953"
             ],
             [
              0.7777777777777778,
              "#fb9f3a"
             ],
             [
              0.8888888888888888,
              "#fdca26"
             ],
             [
              1,
              "#f0f921"
             ]
            ],
            "type": "surface"
           }
          ],
          "table": [
           {
            "cells": {
             "fill": {
              "color": "#EBF0F8"
             },
             "line": {
              "color": "white"
             }
            },
            "header": {
             "fill": {
              "color": "#C8D4E3"
             },
             "line": {
              "color": "white"
             }
            },
            "type": "table"
           }
          ]
         },
         "layout": {
          "annotationdefaults": {
           "arrowcolor": "#2a3f5f",
           "arrowhead": 0,
           "arrowwidth": 1
          },
          "coloraxis": {
           "colorbar": {
            "outlinewidth": 0,
            "ticks": ""
           }
          },
          "colorscale": {
           "diverging": [
            [
             0,
             "#8e0152"
            ],
            [
             0.1,
             "#c51b7d"
            ],
            [
             0.2,
             "#de77ae"
            ],
            [
             0.3,
             "#f1b6da"
            ],
            [
             0.4,
             "#fde0ef"
            ],
            [
             0.5,
             "#f7f7f7"
            ],
            [
             0.6,
             "#e6f5d0"
            ],
            [
             0.7,
             "#b8e186"
            ],
            [
             0.8,
             "#7fbc41"
            ],
            [
             0.9,
             "#4d9221"
            ],
            [
             1,
             "#276419"
            ]
           ],
           "sequential": [
            [
             0,
             "#0d0887"
            ],
            [
             0.1111111111111111,
             "#46039f"
            ],
            [
             0.2222222222222222,
             "#7201a8"
            ],
            [
             0.3333333333333333,
             "#9c179e"
            ],
            [
             0.4444444444444444,
             "#bd3786"
            ],
            [
             0.5555555555555556,
             "#d8576b"
            ],
            [
             0.6666666666666666,
             "#ed7953"
            ],
            [
             0.7777777777777778,
             "#fb9f3a"
            ],
            [
             0.8888888888888888,
             "#fdca26"
            ],
            [
             1,
             "#f0f921"
            ]
           ],
           "sequentialminus": [
            [
             0,
             "#0d0887"
            ],
            [
             0.1111111111111111,
             "#46039f"
            ],
            [
             0.2222222222222222,
             "#7201a8"
            ],
            [
             0.3333333333333333,
             "#9c179e"
            ],
            [
             0.4444444444444444,
             "#bd3786"
            ],
            [
             0.5555555555555556,
             "#d8576b"
            ],
            [
             0.6666666666666666,
             "#ed7953"
            ],
            [
             0.7777777777777778,
             "#fb9f3a"
            ],
            [
             0.8888888888888888,
             "#fdca26"
            ],
            [
             1,
             "#f0f921"
            ]
           ]
          },
          "colorway": [
           "#636efa",
           "#EF553B",
           "#00cc96",
           "#ab63fa",
           "#FFA15A",
           "#19d3f3",
           "#FF6692",
           "#B6E880",
           "#FF97FF",
           "#FECB52"
          ],
          "font": {
           "color": "#2a3f5f"
          },
          "geo": {
           "bgcolor": "white",
           "lakecolor": "white",
           "landcolor": "#E5ECF6",
           "showlakes": true,
           "showland": true,
           "subunitcolor": "white"
          },
          "hoverlabel": {
           "align": "left"
          },
          "hovermode": "closest",
          "mapbox": {
           "style": "light"
          },
          "paper_bgcolor": "white",
          "plot_bgcolor": "#E5ECF6",
          "polar": {
           "angularaxis": {
            "gridcolor": "white",
            "linecolor": "white",
            "ticks": ""
           },
           "bgcolor": "#E5ECF6",
           "radialaxis": {
            "gridcolor": "white",
            "linecolor": "white",
            "ticks": ""
           }
          },
          "scene": {
           "xaxis": {
            "backgroundcolor": "#E5ECF6",
            "gridcolor": "white",
            "gridwidth": 2,
            "linecolor": "white",
            "showbackground": true,
            "ticks": "",
            "zerolinecolor": "white"
           },
           "yaxis": {
            "backgroundcolor": "#E5ECF6",
            "gridcolor": "white",
            "gridwidth": 2,
            "linecolor": "white",
            "showbackground": true,
            "ticks": "",
            "zerolinecolor": "white"
           },
           "zaxis": {
            "backgroundcolor": "#E5ECF6",
            "gridcolor": "white",
            "gridwidth": 2,
            "linecolor": "white",
            "showbackground": true,
            "ticks": "",
            "zerolinecolor": "white"
           }
          },
          "shapedefaults": {
           "line": {
            "color": "#2a3f5f"
           }
          },
          "ternary": {
           "aaxis": {
            "gridcolor": "white",
            "linecolor": "white",
            "ticks": ""
           },
           "baxis": {
            "gridcolor": "white",
            "linecolor": "white",
            "ticks": ""
           },
           "bgcolor": "#E5ECF6",
           "caxis": {
            "gridcolor": "white",
            "linecolor": "white",
            "ticks": ""
           }
          },
          "title": {
           "x": 0.05
          },
          "xaxis": {
           "automargin": true,
           "gridcolor": "white",
           "linecolor": "white",
           "ticks": "",
           "title": {
            "standoff": 15
           },
           "zerolinecolor": "white",
           "zerolinewidth": 2
          },
          "yaxis": {
           "automargin": true,
           "gridcolor": "white",
           "linecolor": "white",
           "ticks": "",
           "title": {
            "standoff": 15
           },
           "zerolinecolor": "white",
           "zerolinewidth": 2
          }
         }
        }
       }
      },
      "text/html": [
       "<div>                            <div id=\"a94e7865-be14-4ca2-96cb-f220f7deb4d4\" class=\"plotly-graph-div\" style=\"height:525px; width:100%;\"></div>            <script type=\"text/javascript\">                require([\"plotly\"], function(Plotly) {                    window.PLOTLYENV=window.PLOTLYENV || {};                                    if (document.getElementById(\"a94e7865-be14-4ca2-96cb-f220f7deb4d4\")) {                    Plotly.newPlot(                        \"a94e7865-be14-4ca2-96cb-f220f7deb4d4\",                        [{\"insidetextorientation\": \"radial\", \"labels\": [\"Oxygen\", \"Hydrogen\", \"Carbon_Dioxide\", \"Nitrogen\"], \"textinfo\": \"label+percent\", \"type\": \"pie\", \"values\": [1000, 2500, 2500, 1053, 500]}],                        {\"template\": {\"data\": {\"bar\": [{\"error_x\": {\"color\": \"#2a3f5f\"}, \"error_y\": {\"color\": \"#2a3f5f\"}, \"marker\": {\"line\": {\"color\": \"#E5ECF6\", \"width\": 0.5}}, \"type\": \"bar\"}], \"barpolar\": [{\"marker\": {\"line\": {\"color\": \"#E5ECF6\", \"width\": 0.5}}, \"type\": \"barpolar\"}], \"carpet\": [{\"aaxis\": {\"endlinecolor\": \"#2a3f5f\", \"gridcolor\": \"white\", \"linecolor\": \"white\", \"minorgridcolor\": \"white\", \"startlinecolor\": \"#2a3f5f\"}, \"baxis\": {\"endlinecolor\": \"#2a3f5f\", \"gridcolor\": \"white\", \"linecolor\": \"white\", \"minorgridcolor\": \"white\", \"startlinecolor\": \"#2a3f5f\"}, \"type\": \"carpet\"}], \"choropleth\": [{\"colorbar\": {\"outlinewidth\": 0, \"ticks\": \"\"}, \"type\": \"choropleth\"}], \"contour\": [{\"colorbar\": {\"outlinewidth\": 0, \"ticks\": \"\"}, \"colorscale\": [[0.0, \"#0d0887\"], [0.1111111111111111, \"#46039f\"], [0.2222222222222222, \"#7201a8\"], [0.3333333333333333, \"#9c179e\"], [0.4444444444444444, \"#bd3786\"], [0.5555555555555556, \"#d8576b\"], [0.6666666666666666, \"#ed7953\"], [0.7777777777777778, \"#fb9f3a\"], [0.8888888888888888, \"#fdca26\"], [1.0, \"#f0f921\"]], \"type\": \"contour\"}], \"contourcarpet\": [{\"colorbar\": {\"outlinewidth\": 0, \"ticks\": \"\"}, \"type\": \"contourcarpet\"}], \"heatmap\": [{\"colorbar\": {\"outlinewidth\": 0, \"ticks\": \"\"}, \"colorscale\": [[0.0, \"#0d0887\"], [0.1111111111111111, \"#46039f\"], [0.2222222222222222, \"#7201a8\"], [0.3333333333333333, \"#9c179e\"], [0.4444444444444444, \"#bd3786\"], [0.5555555555555556, \"#d8576b\"], [0.6666666666666666, \"#ed7953\"], [0.7777777777777778, \"#fb9f3a\"], [0.8888888888888888, \"#fdca26\"], [1.0, \"#f0f921\"]], \"type\": \"heatmap\"}], \"heatmapgl\": [{\"colorbar\": {\"outlinewidth\": 0, \"ticks\": \"\"}, \"colorscale\": [[0.0, \"#0d0887\"], [0.1111111111111111, \"#46039f\"], [0.2222222222222222, \"#7201a8\"], [0.3333333333333333, \"#9c179e\"], [0.4444444444444444, \"#bd3786\"], [0.5555555555555556, \"#d8576b\"], [0.6666666666666666, \"#ed7953\"], [0.7777777777777778, \"#fb9f3a\"], [0.8888888888888888, \"#fdca26\"], [1.0, \"#f0f921\"]], \"type\": \"heatmapgl\"}], \"histogram\": [{\"marker\": {\"colorbar\": {\"outlinewidth\": 0, \"ticks\": \"\"}}, \"type\": \"histogram\"}], \"histogram2d\": [{\"colorbar\": {\"outlinewidth\": 0, \"ticks\": \"\"}, \"colorscale\": [[0.0, \"#0d0887\"], [0.1111111111111111, \"#46039f\"], [0.2222222222222222, \"#7201a8\"], [0.3333333333333333, \"#9c179e\"], [0.4444444444444444, \"#bd3786\"], [0.5555555555555556, \"#d8576b\"], [0.6666666666666666, \"#ed7953\"], [0.7777777777777778, \"#fb9f3a\"], [0.8888888888888888, \"#fdca26\"], [1.0, \"#f0f921\"]], \"type\": \"histogram2d\"}], \"histogram2dcontour\": [{\"colorbar\": {\"outlinewidth\": 0, \"ticks\": \"\"}, \"colorscale\": [[0.0, \"#0d0887\"], [0.1111111111111111, \"#46039f\"], [0.2222222222222222, \"#7201a8\"], [0.3333333333333333, \"#9c179e\"], [0.4444444444444444, \"#bd3786\"], [0.5555555555555556, \"#d8576b\"], [0.6666666666666666, \"#ed7953\"], [0.7777777777777778, \"#fb9f3a\"], [0.8888888888888888, \"#fdca26\"], [1.0, \"#f0f921\"]], \"type\": \"histogram2dcontour\"}], \"mesh3d\": [{\"colorbar\": {\"outlinewidth\": 0, \"ticks\": \"\"}, \"type\": \"mesh3d\"}], \"parcoords\": [{\"line\": {\"colorbar\": {\"outlinewidth\": 0, \"ticks\": \"\"}}, \"type\": \"parcoords\"}], \"pie\": [{\"automargin\": true, \"type\": \"pie\"}], \"scatter\": [{\"marker\": {\"colorbar\": {\"outlinewidth\": 0, \"ticks\": \"\"}}, \"type\": \"scatter\"}], \"scatter3d\": [{\"line\": {\"colorbar\": {\"outlinewidth\": 0, \"ticks\": \"\"}}, \"marker\": {\"colorbar\": {\"outlinewidth\": 0, \"ticks\": \"\"}}, \"type\": \"scatter3d\"}], \"scattercarpet\": [{\"marker\": {\"colorbar\": {\"outlinewidth\": 0, \"ticks\": \"\"}}, \"type\": \"scattercarpet\"}], \"scattergeo\": [{\"marker\": {\"colorbar\": {\"outlinewidth\": 0, \"ticks\": \"\"}}, \"type\": \"scattergeo\"}], \"scattergl\": [{\"marker\": {\"colorbar\": {\"outlinewidth\": 0, \"ticks\": \"\"}}, \"type\": \"scattergl\"}], \"scattermapbox\": [{\"marker\": {\"colorbar\": {\"outlinewidth\": 0, \"ticks\": \"\"}}, \"type\": \"scattermapbox\"}], \"scatterpolar\": [{\"marker\": {\"colorbar\": {\"outlinewidth\": 0, \"ticks\": \"\"}}, \"type\": \"scatterpolar\"}], \"scatterpolargl\": [{\"marker\": {\"colorbar\": {\"outlinewidth\": 0, \"ticks\": \"\"}}, \"type\": \"scatterpolargl\"}], \"scatterternary\": [{\"marker\": {\"colorbar\": {\"outlinewidth\": 0, \"ticks\": \"\"}}, \"type\": \"scatterternary\"}], \"surface\": [{\"colorbar\": {\"outlinewidth\": 0, \"ticks\": \"\"}, \"colorscale\": [[0.0, \"#0d0887\"], [0.1111111111111111, \"#46039f\"], [0.2222222222222222, \"#7201a8\"], [0.3333333333333333, \"#9c179e\"], [0.4444444444444444, \"#bd3786\"], [0.5555555555555556, \"#d8576b\"], [0.6666666666666666, \"#ed7953\"], [0.7777777777777778, \"#fb9f3a\"], [0.8888888888888888, \"#fdca26\"], [1.0, \"#f0f921\"]], \"type\": \"surface\"}], \"table\": [{\"cells\": {\"fill\": {\"color\": \"#EBF0F8\"}, \"line\": {\"color\": \"white\"}}, \"header\": {\"fill\": {\"color\": \"#C8D4E3\"}, \"line\": {\"color\": \"white\"}}, \"type\": \"table\"}]}, \"layout\": {\"annotationdefaults\": {\"arrowcolor\": \"#2a3f5f\", \"arrowhead\": 0, \"arrowwidth\": 1}, \"coloraxis\": {\"colorbar\": {\"outlinewidth\": 0, \"ticks\": \"\"}}, \"colorscale\": {\"diverging\": [[0, \"#8e0152\"], [0.1, \"#c51b7d\"], [0.2, \"#de77ae\"], [0.3, \"#f1b6da\"], [0.4, \"#fde0ef\"], [0.5, \"#f7f7f7\"], [0.6, \"#e6f5d0\"], [0.7, \"#b8e186\"], [0.8, \"#7fbc41\"], [0.9, \"#4d9221\"], [1, \"#276419\"]], \"sequential\": [[0.0, \"#0d0887\"], [0.1111111111111111, \"#46039f\"], [0.2222222222222222, \"#7201a8\"], [0.3333333333333333, \"#9c179e\"], [0.4444444444444444, \"#bd3786\"], [0.5555555555555556, \"#d8576b\"], [0.6666666666666666, \"#ed7953\"], [0.7777777777777778, \"#fb9f3a\"], [0.8888888888888888, \"#fdca26\"], [1.0, \"#f0f921\"]], \"sequentialminus\": [[0.0, \"#0d0887\"], [0.1111111111111111, \"#46039f\"], [0.2222222222222222, \"#7201a8\"], [0.3333333333333333, \"#9c179e\"], [0.4444444444444444, \"#bd3786\"], [0.5555555555555556, \"#d8576b\"], [0.6666666666666666, \"#ed7953\"], [0.7777777777777778, \"#fb9f3a\"], [0.8888888888888888, \"#fdca26\"], [1.0, \"#f0f921\"]]}, \"colorway\": [\"#636efa\", \"#EF553B\", \"#00cc96\", \"#ab63fa\", \"#FFA15A\", \"#19d3f3\", \"#FF6692\", \"#B6E880\", \"#FF97FF\", \"#FECB52\"], \"font\": {\"color\": \"#2a3f5f\"}, \"geo\": {\"bgcolor\": \"white\", \"lakecolor\": \"white\", \"landcolor\": \"#E5ECF6\", \"showlakes\": true, \"showland\": true, \"subunitcolor\": \"white\"}, \"hoverlabel\": {\"align\": \"left\"}, \"hovermode\": \"closest\", \"mapbox\": {\"style\": \"light\"}, \"paper_bgcolor\": \"white\", \"plot_bgcolor\": \"#E5ECF6\", \"polar\": {\"angularaxis\": {\"gridcolor\": \"white\", \"linecolor\": \"white\", \"ticks\": \"\"}, \"bgcolor\": \"#E5ECF6\", \"radialaxis\": {\"gridcolor\": \"white\", \"linecolor\": \"white\", \"ticks\": \"\"}}, \"scene\": {\"xaxis\": {\"backgroundcolor\": \"#E5ECF6\", \"gridcolor\": \"white\", \"gridwidth\": 2, \"linecolor\": \"white\", \"showbackground\": true, \"ticks\": \"\", \"zerolinecolor\": \"white\"}, \"yaxis\": {\"backgroundcolor\": \"#E5ECF6\", \"gridcolor\": \"white\", \"gridwidth\": 2, \"linecolor\": \"white\", \"showbackground\": true, \"ticks\": \"\", \"zerolinecolor\": \"white\"}, \"zaxis\": {\"backgroundcolor\": \"#E5ECF6\", \"gridcolor\": \"white\", \"gridwidth\": 2, \"linecolor\": \"white\", \"showbackground\": true, \"ticks\": \"\", \"zerolinecolor\": \"white\"}}, \"shapedefaults\": {\"line\": {\"color\": \"#2a3f5f\"}}, \"ternary\": {\"aaxis\": {\"gridcolor\": \"white\", \"linecolor\": \"white\", \"ticks\": \"\"}, \"baxis\": {\"gridcolor\": \"white\", \"linecolor\": \"white\", \"ticks\": \"\"}, \"bgcolor\": \"#E5ECF6\", \"caxis\": {\"gridcolor\": \"white\", \"linecolor\": \"white\", \"ticks\": \"\"}}, \"title\": {\"x\": 0.05}, \"xaxis\": {\"automargin\": true, \"gridcolor\": \"white\", \"linecolor\": \"white\", \"ticks\": \"\", \"title\": {\"standoff\": 15}, \"zerolinecolor\": \"white\", \"zerolinewidth\": 2}, \"yaxis\": {\"automargin\": true, \"gridcolor\": \"white\", \"linecolor\": \"white\", \"ticks\": \"\", \"title\": {\"standoff\": 15}, \"zerolinecolor\": \"white\", \"zerolinewidth\": 2}}}},                        {\"responsive\": true}                    ).then(function(){\n",
       "                            \n",
       "var gd = document.getElementById('a94e7865-be14-4ca2-96cb-f220f7deb4d4');\n",
       "var x = new MutationObserver(function (mutations, observer) {{\n",
       "        var display = window.getComputedStyle(gd).display;\n",
       "        if (!display || display === 'none') {{\n",
       "            console.log([gd, 'removed!']);\n",
       "            Plotly.purge(gd);\n",
       "            observer.disconnect();\n",
       "        }}\n",
       "}});\n",
       "\n",
       "// Listen for the removal of the full notebook cells\n",
       "var notebookContainer = gd.closest('#notebook-container');\n",
       "if (notebookContainer) {{\n",
       "    x.observe(notebookContainer, {childList: true});\n",
       "}}\n",
       "\n",
       "// Listen for the clearing of the current output cell\n",
       "var outputEl = gd.closest('.output');\n",
       "if (outputEl) {{\n",
       "    x.observe(outputEl, {childList: true});\n",
       "}}\n",
       "\n",
       "                        })                };                });            </script>        </div>"
      ]
     },
     "metadata": {},
     "output_type": "display_data"
    }
   ],
   "source": [
    "import plotly.graph_objects as go\n",
    "\n",
    "labels = ['Oxygen','Hydrogen','Carbon_Dioxide','Nitrogen']\n",
    "values = [1000,2500, 2500, 1053, 500]\n",
    "\n",
    "fig = go.Figure(data=[go.Pie(labels=labels, values=values, textinfo='label+percent',\n",
    "                             insidetextorientation='radial'\n",
    "                            )])\n",
    "fig.show()"
   ]
  },
  {
   "cell_type": "code",
   "execution_count": 63,
   "metadata": {},
   "outputs": [],
   "source": [
    "value=[]\n"
   ]
  },
  {
   "cell_type": "code",
   "execution_count": 64,
   "metadata": {},
   "outputs": [],
   "source": [
    "a=0\n",
    "a1=0\n",
    "b=0\n",
    "b1=0\n",
    "c=0\n",
    "c1=0\n",
    "for i in df['2. Have you ever felt that the charges issued by the hospitals is higher than you expected?']:\n",
    "    if i.lower()=='yes':\n",
    "        a+=1\n",
    "    else:\n",
    "        a1+=1\n",
    "value.append([a,a1])\n",
    "for i in df['3. Have you ever felt shy to go to the hospital alone?']:\n",
    "    if i.lower()=='yes':\n",
    "        b+=1\n",
    "    else:\n",
    "        b1+=1\n",
    "value.append([b,b1])\n",
    "for i in df['7. Have you ever  waited so long to meet a doctor in a hospital?']:\n",
    "    if i.lower()=='yes':\n",
    "        c+=1\n",
    "    else:\n",
    "        c1+=1\n",
    "value.append([c,c1])    "
   ]
  },
  {
   "cell_type": "code",
   "execution_count": 65,
   "metadata": {},
   "outputs": [
    {
     "data": {
      "text/plain": [
       "[[54, 2], [8, 48], [51, 5]]"
      ]
     },
     "execution_count": 65,
     "metadata": {},
     "output_type": "execute_result"
    }
   ],
   "source": [
    "value"
   ]
  },
  {
   "cell_type": "code",
   "execution_count": 80,
   "metadata": {},
   "outputs": [
    {
     "data": {
      "application/vnd.plotly.v1+json": {
       "config": {
        "plotlyServerURL": "https://plot.ly"
       },
       "data": [
        {
         "insidetextorientation": "radial",
         "labels": [
          "Yes",
          "No"
         ],
         "textinfo": "label+percent",
         "type": "pie",
         "values": [
          54,
          2
         ]
        }
       ],
       "layout": {
        "template": {
         "data": {
          "bar": [
           {
            "error_x": {
             "color": "#2a3f5f"
            },
            "error_y": {
             "color": "#2a3f5f"
            },
            "marker": {
             "line": {
              "color": "#E5ECF6",
              "width": 0.5
             }
            },
            "type": "bar"
           }
          ],
          "barpolar": [
           {
            "marker": {
             "line": {
              "color": "#E5ECF6",
              "width": 0.5
             }
            },
            "type": "barpolar"
           }
          ],
          "carpet": [
           {
            "aaxis": {
             "endlinecolor": "#2a3f5f",
             "gridcolor": "white",
             "linecolor": "white",
             "minorgridcolor": "white",
             "startlinecolor": "#2a3f5f"
            },
            "baxis": {
             "endlinecolor": "#2a3f5f",
             "gridcolor": "white",
             "linecolor": "white",
             "minorgridcolor": "white",
             "startlinecolor": "#2a3f5f"
            },
            "type": "carpet"
           }
          ],
          "choropleth": [
           {
            "colorbar": {
             "outlinewidth": 0,
             "ticks": ""
            },
            "type": "choropleth"
           }
          ],
          "contour": [
           {
            "colorbar": {
             "outlinewidth": 0,
             "ticks": ""
            },
            "colorscale": [
             [
              0,
              "#0d0887"
             ],
             [
              0.1111111111111111,
              "#46039f"
             ],
             [
              0.2222222222222222,
              "#7201a8"
             ],
             [
              0.3333333333333333,
              "#9c179e"
             ],
             [
              0.4444444444444444,
              "#bd3786"
             ],
             [
              0.5555555555555556,
              "#d8576b"
             ],
             [
              0.6666666666666666,
              "#ed7953"
             ],
             [
              0.7777777777777778,
              "#fb9f3a"
             ],
             [
              0.8888888888888888,
              "#fdca26"
             ],
             [
              1,
              "#f0f921"
             ]
            ],
            "type": "contour"
           }
          ],
          "contourcarpet": [
           {
            "colorbar": {
             "outlinewidth": 0,
             "ticks": ""
            },
            "type": "contourcarpet"
           }
          ],
          "heatmap": [
           {
            "colorbar": {
             "outlinewidth": 0,
             "ticks": ""
            },
            "colorscale": [
             [
              0,
              "#0d0887"
             ],
             [
              0.1111111111111111,
              "#46039f"
             ],
             [
              0.2222222222222222,
              "#7201a8"
             ],
             [
              0.3333333333333333,
              "#9c179e"
             ],
             [
              0.4444444444444444,
              "#bd3786"
             ],
             [
              0.5555555555555556,
              "#d8576b"
             ],
             [
              0.6666666666666666,
              "#ed7953"
             ],
             [
              0.7777777777777778,
              "#fb9f3a"
             ],
             [
              0.8888888888888888,
              "#fdca26"
             ],
             [
              1,
              "#f0f921"
             ]
            ],
            "type": "heatmap"
           }
          ],
          "heatmapgl": [
           {
            "colorbar": {
             "outlinewidth": 0,
             "ticks": ""
            },
            "colorscale": [
             [
              0,
              "#0d0887"
             ],
             [
              0.1111111111111111,
              "#46039f"
             ],
             [
              0.2222222222222222,
              "#7201a8"
             ],
             [
              0.3333333333333333,
              "#9c179e"
             ],
             [
              0.4444444444444444,
              "#bd3786"
             ],
             [
              0.5555555555555556,
              "#d8576b"
             ],
             [
              0.6666666666666666,
              "#ed7953"
             ],
             [
              0.7777777777777778,
              "#fb9f3a"
             ],
             [
              0.8888888888888888,
              "#fdca26"
             ],
             [
              1,
              "#f0f921"
             ]
            ],
            "type": "heatmapgl"
           }
          ],
          "histogram": [
           {
            "marker": {
             "colorbar": {
              "outlinewidth": 0,
              "ticks": ""
             }
            },
            "type": "histogram"
           }
          ],
          "histogram2d": [
           {
            "colorbar": {
             "outlinewidth": 0,
             "ticks": ""
            },
            "colorscale": [
             [
              0,
              "#0d0887"
             ],
             [
              0.1111111111111111,
              "#46039f"
             ],
             [
              0.2222222222222222,
              "#7201a8"
             ],
             [
              0.3333333333333333,
              "#9c179e"
             ],
             [
              0.4444444444444444,
              "#bd3786"
             ],
             [
              0.5555555555555556,
              "#d8576b"
             ],
             [
              0.6666666666666666,
              "#ed7953"
             ],
             [
              0.7777777777777778,
              "#fb9f3a"
             ],
             [
              0.8888888888888888,
              "#fdca26"
             ],
             [
              1,
              "#f0f921"
             ]
            ],
            "type": "histogram2d"
           }
          ],
          "histogram2dcontour": [
           {
            "colorbar": {
             "outlinewidth": 0,
             "ticks": ""
            },
            "colorscale": [
             [
              0,
              "#0d0887"
             ],
             [
              0.1111111111111111,
              "#46039f"
             ],
             [
              0.2222222222222222,
              "#7201a8"
             ],
             [
              0.3333333333333333,
              "#9c179e"
             ],
             [
              0.4444444444444444,
              "#bd3786"
             ],
             [
              0.5555555555555556,
              "#d8576b"
             ],
             [
              0.6666666666666666,
              "#ed7953"
             ],
             [
              0.7777777777777778,
              "#fb9f3a"
             ],
             [
              0.8888888888888888,
              "#fdca26"
             ],
             [
              1,
              "#f0f921"
             ]
            ],
            "type": "histogram2dcontour"
           }
          ],
          "mesh3d": [
           {
            "colorbar": {
             "outlinewidth": 0,
             "ticks": ""
            },
            "type": "mesh3d"
           }
          ],
          "parcoords": [
           {
            "line": {
             "colorbar": {
              "outlinewidth": 0,
              "ticks": ""
             }
            },
            "type": "parcoords"
           }
          ],
          "pie": [
           {
            "automargin": true,
            "type": "pie"
           }
          ],
          "scatter": [
           {
            "marker": {
             "colorbar": {
              "outlinewidth": 0,
              "ticks": ""
             }
            },
            "type": "scatter"
           }
          ],
          "scatter3d": [
           {
            "line": {
             "colorbar": {
              "outlinewidth": 0,
              "ticks": ""
             }
            },
            "marker": {
             "colorbar": {
              "outlinewidth": 0,
              "ticks": ""
             }
            },
            "type": "scatter3d"
           }
          ],
          "scattercarpet": [
           {
            "marker": {
             "colorbar": {
              "outlinewidth": 0,
              "ticks": ""
             }
            },
            "type": "scattercarpet"
           }
          ],
          "scattergeo": [
           {
            "marker": {
             "colorbar": {
              "outlinewidth": 0,
              "ticks": ""
             }
            },
            "type": "scattergeo"
           }
          ],
          "scattergl": [
           {
            "marker": {
             "colorbar": {
              "outlinewidth": 0,
              "ticks": ""
             }
            },
            "type": "scattergl"
           }
          ],
          "scattermapbox": [
           {
            "marker": {
             "colorbar": {
              "outlinewidth": 0,
              "ticks": ""
             }
            },
            "type": "scattermapbox"
           }
          ],
          "scatterpolar": [
           {
            "marker": {
             "colorbar": {
              "outlinewidth": 0,
              "ticks": ""
             }
            },
            "type": "scatterpolar"
           }
          ],
          "scatterpolargl": [
           {
            "marker": {
             "colorbar": {
              "outlinewidth": 0,
              "ticks": ""
             }
            },
            "type": "scatterpolargl"
           }
          ],
          "scatterternary": [
           {
            "marker": {
             "colorbar": {
              "outlinewidth": 0,
              "ticks": ""
             }
            },
            "type": "scatterternary"
           }
          ],
          "surface": [
           {
            "colorbar": {
             "outlinewidth": 0,
             "ticks": ""
            },
            "colorscale": [
             [
              0,
              "#0d0887"
             ],
             [
              0.1111111111111111,
              "#46039f"
             ],
             [
              0.2222222222222222,
              "#7201a8"
             ],
             [
              0.3333333333333333,
              "#9c179e"
             ],
             [
              0.4444444444444444,
              "#bd3786"
             ],
             [
              0.5555555555555556,
              "#d8576b"
             ],
             [
              0.6666666666666666,
              "#ed7953"
             ],
             [
              0.7777777777777778,
              "#fb9f3a"
             ],
             [
              0.8888888888888888,
              "#fdca26"
             ],
             [
              1,
              "#f0f921"
             ]
            ],
            "type": "surface"
           }
          ],
          "table": [
           {
            "cells": {
             "fill": {
              "color": "#EBF0F8"
             },
             "line": {
              "color": "white"
             }
            },
            "header": {
             "fill": {
              "color": "#C8D4E3"
             },
             "line": {
              "color": "white"
             }
            },
            "type": "table"
           }
          ]
         },
         "layout": {
          "annotationdefaults": {
           "arrowcolor": "#2a3f5f",
           "arrowhead": 0,
           "arrowwidth": 1
          },
          "coloraxis": {
           "colorbar": {
            "outlinewidth": 0,
            "ticks": ""
           }
          },
          "colorscale": {
           "diverging": [
            [
             0,
             "#8e0152"
            ],
            [
             0.1,
             "#c51b7d"
            ],
            [
             0.2,
             "#de77ae"
            ],
            [
             0.3,
             "#f1b6da"
            ],
            [
             0.4,
             "#fde0ef"
            ],
            [
             0.5,
             "#f7f7f7"
            ],
            [
             0.6,
             "#e6f5d0"
            ],
            [
             0.7,
             "#b8e186"
            ],
            [
             0.8,
             "#7fbc41"
            ],
            [
             0.9,
             "#4d9221"
            ],
            [
             1,
             "#276419"
            ]
           ],
           "sequential": [
            [
             0,
             "#0d0887"
            ],
            [
             0.1111111111111111,
             "#46039f"
            ],
            [
             0.2222222222222222,
             "#7201a8"
            ],
            [
             0.3333333333333333,
             "#9c179e"
            ],
            [
             0.4444444444444444,
             "#bd3786"
            ],
            [
             0.5555555555555556,
             "#d8576b"
            ],
            [
             0.6666666666666666,
             "#ed7953"
            ],
            [
             0.7777777777777778,
             "#fb9f3a"
            ],
            [
             0.8888888888888888,
             "#fdca26"
            ],
            [
             1,
             "#f0f921"
            ]
           ],
           "sequentialminus": [
            [
             0,
             "#0d0887"
            ],
            [
             0.1111111111111111,
             "#46039f"
            ],
            [
             0.2222222222222222,
             "#7201a8"
            ],
            [
             0.3333333333333333,
             "#9c179e"
            ],
            [
             0.4444444444444444,
             "#bd3786"
            ],
            [
             0.5555555555555556,
             "#d8576b"
            ],
            [
             0.6666666666666666,
             "#ed7953"
            ],
            [
             0.7777777777777778,
             "#fb9f3a"
            ],
            [
             0.8888888888888888,
             "#fdca26"
            ],
            [
             1,
             "#f0f921"
            ]
           ]
          },
          "colorway": [
           "#636efa",
           "#EF553B",
           "#00cc96",
           "#ab63fa",
           "#FFA15A",
           "#19d3f3",
           "#FF6692",
           "#B6E880",
           "#FF97FF",
           "#FECB52"
          ],
          "font": {
           "color": "#2a3f5f"
          },
          "geo": {
           "bgcolor": "white",
           "lakecolor": "white",
           "landcolor": "#E5ECF6",
           "showlakes": true,
           "showland": true,
           "subunitcolor": "white"
          },
          "hoverlabel": {
           "align": "left"
          },
          "hovermode": "closest",
          "mapbox": {
           "style": "light"
          },
          "paper_bgcolor": "white",
          "plot_bgcolor": "#E5ECF6",
          "polar": {
           "angularaxis": {
            "gridcolor": "white",
            "linecolor": "white",
            "ticks": ""
           },
           "bgcolor": "#E5ECF6",
           "radialaxis": {
            "gridcolor": "white",
            "linecolor": "white",
            "ticks": ""
           }
          },
          "scene": {
           "xaxis": {
            "backgroundcolor": "#E5ECF6",
            "gridcolor": "white",
            "gridwidth": 2,
            "linecolor": "white",
            "showbackground": true,
            "ticks": "",
            "zerolinecolor": "white"
           },
           "yaxis": {
            "backgroundcolor": "#E5ECF6",
            "gridcolor": "white",
            "gridwidth": 2,
            "linecolor": "white",
            "showbackground": true,
            "ticks": "",
            "zerolinecolor": "white"
           },
           "zaxis": {
            "backgroundcolor": "#E5ECF6",
            "gridcolor": "white",
            "gridwidth": 2,
            "linecolor": "white",
            "showbackground": true,
            "ticks": "",
            "zerolinecolor": "white"
           }
          },
          "shapedefaults": {
           "line": {
            "color": "#2a3f5f"
           }
          },
          "ternary": {
           "aaxis": {
            "gridcolor": "white",
            "linecolor": "white",
            "ticks": ""
           },
           "baxis": {
            "gridcolor": "white",
            "linecolor": "white",
            "ticks": ""
           },
           "bgcolor": "#E5ECF6",
           "caxis": {
            "gridcolor": "white",
            "linecolor": "white",
            "ticks": ""
           }
          },
          "title": {
           "x": 0.05
          },
          "xaxis": {
           "automargin": true,
           "gridcolor": "white",
           "linecolor": "white",
           "ticks": "",
           "title": {
            "standoff": 15
           },
           "zerolinecolor": "white",
           "zerolinewidth": 2
          },
          "yaxis": {
           "automargin": true,
           "gridcolor": "white",
           "linecolor": "white",
           "ticks": "",
           "title": {
            "standoff": 15
           },
           "zerolinecolor": "white",
           "zerolinewidth": 2
          }
         }
        },
        "title": {
         "text": "Have you ever felt that charge issued by hospitals higher than expected"
        }
       }
      },
      "text/html": [
       "<div>                            <div id=\"694afcdb-8164-4941-9b31-87a9b0c66a74\" class=\"plotly-graph-div\" style=\"height:525px; width:100%;\"></div>            <script type=\"text/javascript\">                require([\"plotly\"], function(Plotly) {                    window.PLOTLYENV=window.PLOTLYENV || {};                                    if (document.getElementById(\"694afcdb-8164-4941-9b31-87a9b0c66a74\")) {                    Plotly.newPlot(                        \"694afcdb-8164-4941-9b31-87a9b0c66a74\",                        [{\"insidetextorientation\": \"radial\", \"labels\": [\"Yes\", \"No\"], \"textinfo\": \"label+percent\", \"type\": \"pie\", \"values\": [54, 2]}],                        {\"template\": {\"data\": {\"bar\": [{\"error_x\": {\"color\": \"#2a3f5f\"}, \"error_y\": {\"color\": \"#2a3f5f\"}, \"marker\": {\"line\": {\"color\": \"#E5ECF6\", \"width\": 0.5}}, \"type\": \"bar\"}], \"barpolar\": [{\"marker\": {\"line\": {\"color\": \"#E5ECF6\", \"width\": 0.5}}, \"type\": \"barpolar\"}], \"carpet\": [{\"aaxis\": {\"endlinecolor\": \"#2a3f5f\", \"gridcolor\": \"white\", \"linecolor\": \"white\", \"minorgridcolor\": \"white\", \"startlinecolor\": \"#2a3f5f\"}, \"baxis\": {\"endlinecolor\": \"#2a3f5f\", \"gridcolor\": \"white\", \"linecolor\": \"white\", \"minorgridcolor\": \"white\", \"startlinecolor\": \"#2a3f5f\"}, \"type\": \"carpet\"}], \"choropleth\": [{\"colorbar\": {\"outlinewidth\": 0, \"ticks\": \"\"}, \"type\": \"choropleth\"}], \"contour\": [{\"colorbar\": {\"outlinewidth\": 0, \"ticks\": \"\"}, \"colorscale\": [[0.0, \"#0d0887\"], [0.1111111111111111, \"#46039f\"], [0.2222222222222222, \"#7201a8\"], [0.3333333333333333, \"#9c179e\"], [0.4444444444444444, \"#bd3786\"], [0.5555555555555556, \"#d8576b\"], [0.6666666666666666, \"#ed7953\"], [0.7777777777777778, \"#fb9f3a\"], [0.8888888888888888, \"#fdca26\"], [1.0, \"#f0f921\"]], \"type\": \"contour\"}], \"contourcarpet\": [{\"colorbar\": {\"outlinewidth\": 0, \"ticks\": \"\"}, \"type\": \"contourcarpet\"}], \"heatmap\": [{\"colorbar\": {\"outlinewidth\": 0, \"ticks\": \"\"}, \"colorscale\": [[0.0, \"#0d0887\"], [0.1111111111111111, \"#46039f\"], [0.2222222222222222, \"#7201a8\"], [0.3333333333333333, \"#9c179e\"], [0.4444444444444444, \"#bd3786\"], [0.5555555555555556, \"#d8576b\"], [0.6666666666666666, \"#ed7953\"], [0.7777777777777778, \"#fb9f3a\"], [0.8888888888888888, \"#fdca26\"], [1.0, \"#f0f921\"]], \"type\": \"heatmap\"}], \"heatmapgl\": [{\"colorbar\": {\"outlinewidth\": 0, \"ticks\": \"\"}, \"colorscale\": [[0.0, \"#0d0887\"], [0.1111111111111111, \"#46039f\"], [0.2222222222222222, \"#7201a8\"], [0.3333333333333333, \"#9c179e\"], [0.4444444444444444, \"#bd3786\"], [0.5555555555555556, \"#d8576b\"], [0.6666666666666666, \"#ed7953\"], [0.7777777777777778, \"#fb9f3a\"], [0.8888888888888888, \"#fdca26\"], [1.0, \"#f0f921\"]], \"type\": \"heatmapgl\"}], \"histogram\": [{\"marker\": {\"colorbar\": {\"outlinewidth\": 0, \"ticks\": \"\"}}, \"type\": \"histogram\"}], \"histogram2d\": [{\"colorbar\": {\"outlinewidth\": 0, \"ticks\": \"\"}, \"colorscale\": [[0.0, \"#0d0887\"], [0.1111111111111111, \"#46039f\"], [0.2222222222222222, \"#7201a8\"], [0.3333333333333333, \"#9c179e\"], [0.4444444444444444, \"#bd3786\"], [0.5555555555555556, \"#d8576b\"], [0.6666666666666666, \"#ed7953\"], [0.7777777777777778, \"#fb9f3a\"], [0.8888888888888888, \"#fdca26\"], [1.0, \"#f0f921\"]], \"type\": \"histogram2d\"}], \"histogram2dcontour\": [{\"colorbar\": {\"outlinewidth\": 0, \"ticks\": \"\"}, \"colorscale\": [[0.0, \"#0d0887\"], [0.1111111111111111, \"#46039f\"], [0.2222222222222222, \"#7201a8\"], [0.3333333333333333, \"#9c179e\"], [0.4444444444444444, \"#bd3786\"], [0.5555555555555556, \"#d8576b\"], [0.6666666666666666, \"#ed7953\"], [0.7777777777777778, \"#fb9f3a\"], [0.8888888888888888, \"#fdca26\"], [1.0, \"#f0f921\"]], \"type\": \"histogram2dcontour\"}], \"mesh3d\": [{\"colorbar\": {\"outlinewidth\": 0, \"ticks\": \"\"}, \"type\": \"mesh3d\"}], \"parcoords\": [{\"line\": {\"colorbar\": {\"outlinewidth\": 0, \"ticks\": \"\"}}, \"type\": \"parcoords\"}], \"pie\": [{\"automargin\": true, \"type\": \"pie\"}], \"scatter\": [{\"marker\": {\"colorbar\": {\"outlinewidth\": 0, \"ticks\": \"\"}}, \"type\": \"scatter\"}], \"scatter3d\": [{\"line\": {\"colorbar\": {\"outlinewidth\": 0, \"ticks\": \"\"}}, \"marker\": {\"colorbar\": {\"outlinewidth\": 0, \"ticks\": \"\"}}, \"type\": \"scatter3d\"}], \"scattercarpet\": [{\"marker\": {\"colorbar\": {\"outlinewidth\": 0, \"ticks\": \"\"}}, \"type\": \"scattercarpet\"}], \"scattergeo\": [{\"marker\": {\"colorbar\": {\"outlinewidth\": 0, \"ticks\": \"\"}}, \"type\": \"scattergeo\"}], \"scattergl\": [{\"marker\": {\"colorbar\": {\"outlinewidth\": 0, \"ticks\": \"\"}}, \"type\": \"scattergl\"}], \"scattermapbox\": [{\"marker\": {\"colorbar\": {\"outlinewidth\": 0, \"ticks\": \"\"}}, \"type\": \"scattermapbox\"}], \"scatterpolar\": [{\"marker\": {\"colorbar\": {\"outlinewidth\": 0, \"ticks\": \"\"}}, \"type\": \"scatterpolar\"}], \"scatterpolargl\": [{\"marker\": {\"colorbar\": {\"outlinewidth\": 0, \"ticks\": \"\"}}, \"type\": \"scatterpolargl\"}], \"scatterternary\": [{\"marker\": {\"colorbar\": {\"outlinewidth\": 0, \"ticks\": \"\"}}, \"type\": \"scatterternary\"}], \"surface\": [{\"colorbar\": {\"outlinewidth\": 0, \"ticks\": \"\"}, \"colorscale\": [[0.0, \"#0d0887\"], [0.1111111111111111, \"#46039f\"], [0.2222222222222222, \"#7201a8\"], [0.3333333333333333, \"#9c179e\"], [0.4444444444444444, \"#bd3786\"], [0.5555555555555556, \"#d8576b\"], [0.6666666666666666, \"#ed7953\"], [0.7777777777777778, \"#fb9f3a\"], [0.8888888888888888, \"#fdca26\"], [1.0, \"#f0f921\"]], \"type\": \"surface\"}], \"table\": [{\"cells\": {\"fill\": {\"color\": \"#EBF0F8\"}, \"line\": {\"color\": \"white\"}}, \"header\": {\"fill\": {\"color\": \"#C8D4E3\"}, \"line\": {\"color\": \"white\"}}, \"type\": \"table\"}]}, \"layout\": {\"annotationdefaults\": {\"arrowcolor\": \"#2a3f5f\", \"arrowhead\": 0, \"arrowwidth\": 1}, \"coloraxis\": {\"colorbar\": {\"outlinewidth\": 0, \"ticks\": \"\"}}, \"colorscale\": {\"diverging\": [[0, \"#8e0152\"], [0.1, \"#c51b7d\"], [0.2, \"#de77ae\"], [0.3, \"#f1b6da\"], [0.4, \"#fde0ef\"], [0.5, \"#f7f7f7\"], [0.6, \"#e6f5d0\"], [0.7, \"#b8e186\"], [0.8, \"#7fbc41\"], [0.9, \"#4d9221\"], [1, \"#276419\"]], \"sequential\": [[0.0, \"#0d0887\"], [0.1111111111111111, \"#46039f\"], [0.2222222222222222, \"#7201a8\"], [0.3333333333333333, \"#9c179e\"], [0.4444444444444444, \"#bd3786\"], [0.5555555555555556, \"#d8576b\"], [0.6666666666666666, \"#ed7953\"], [0.7777777777777778, \"#fb9f3a\"], [0.8888888888888888, \"#fdca26\"], [1.0, \"#f0f921\"]], \"sequentialminus\": [[0.0, \"#0d0887\"], [0.1111111111111111, \"#46039f\"], [0.2222222222222222, \"#7201a8\"], [0.3333333333333333, \"#9c179e\"], [0.4444444444444444, \"#bd3786\"], [0.5555555555555556, \"#d8576b\"], [0.6666666666666666, \"#ed7953\"], [0.7777777777777778, \"#fb9f3a\"], [0.8888888888888888, \"#fdca26\"], [1.0, \"#f0f921\"]]}, \"colorway\": [\"#636efa\", \"#EF553B\", \"#00cc96\", \"#ab63fa\", \"#FFA15A\", \"#19d3f3\", \"#FF6692\", \"#B6E880\", \"#FF97FF\", \"#FECB52\"], \"font\": {\"color\": \"#2a3f5f\"}, \"geo\": {\"bgcolor\": \"white\", \"lakecolor\": \"white\", \"landcolor\": \"#E5ECF6\", \"showlakes\": true, \"showland\": true, \"subunitcolor\": \"white\"}, \"hoverlabel\": {\"align\": \"left\"}, \"hovermode\": \"closest\", \"mapbox\": {\"style\": \"light\"}, \"paper_bgcolor\": \"white\", \"plot_bgcolor\": \"#E5ECF6\", \"polar\": {\"angularaxis\": {\"gridcolor\": \"white\", \"linecolor\": \"white\", \"ticks\": \"\"}, \"bgcolor\": \"#E5ECF6\", \"radialaxis\": {\"gridcolor\": \"white\", \"linecolor\": \"white\", \"ticks\": \"\"}}, \"scene\": {\"xaxis\": {\"backgroundcolor\": \"#E5ECF6\", \"gridcolor\": \"white\", \"gridwidth\": 2, \"linecolor\": \"white\", \"showbackground\": true, \"ticks\": \"\", \"zerolinecolor\": \"white\"}, \"yaxis\": {\"backgroundcolor\": \"#E5ECF6\", \"gridcolor\": \"white\", \"gridwidth\": 2, \"linecolor\": \"white\", \"showbackground\": true, \"ticks\": \"\", \"zerolinecolor\": \"white\"}, \"zaxis\": {\"backgroundcolor\": \"#E5ECF6\", \"gridcolor\": \"white\", \"gridwidth\": 2, \"linecolor\": \"white\", \"showbackground\": true, \"ticks\": \"\", \"zerolinecolor\": \"white\"}}, \"shapedefaults\": {\"line\": {\"color\": \"#2a3f5f\"}}, \"ternary\": {\"aaxis\": {\"gridcolor\": \"white\", \"linecolor\": \"white\", \"ticks\": \"\"}, \"baxis\": {\"gridcolor\": \"white\", \"linecolor\": \"white\", \"ticks\": \"\"}, \"bgcolor\": \"#E5ECF6\", \"caxis\": {\"gridcolor\": \"white\", \"linecolor\": \"white\", \"ticks\": \"\"}}, \"title\": {\"x\": 0.05}, \"xaxis\": {\"automargin\": true, \"gridcolor\": \"white\", \"linecolor\": \"white\", \"ticks\": \"\", \"title\": {\"standoff\": 15}, \"zerolinecolor\": \"white\", \"zerolinewidth\": 2}, \"yaxis\": {\"automargin\": true, \"gridcolor\": \"white\", \"linecolor\": \"white\", \"ticks\": \"\", \"title\": {\"standoff\": 15}, \"zerolinecolor\": \"white\", \"zerolinewidth\": 2}}}, \"title\": {\"text\": \"Have you ever felt that charge issued by hospitals higher than expected\"}},                        {\"responsive\": true}                    ).then(function(){\n",
       "                            \n",
       "var gd = document.getElementById('694afcdb-8164-4941-9b31-87a9b0c66a74');\n",
       "var x = new MutationObserver(function (mutations, observer) {{\n",
       "        var display = window.getComputedStyle(gd).display;\n",
       "        if (!display || display === 'none') {{\n",
       "            console.log([gd, 'removed!']);\n",
       "            Plotly.purge(gd);\n",
       "            observer.disconnect();\n",
       "        }}\n",
       "}});\n",
       "\n",
       "// Listen for the removal of the full notebook cells\n",
       "var notebookContainer = gd.closest('#notebook-container');\n",
       "if (notebookContainer) {{\n",
       "    x.observe(notebookContainer, {childList: true});\n",
       "}}\n",
       "\n",
       "// Listen for the clearing of the current output cell\n",
       "var outputEl = gd.closest('.output');\n",
       "if (outputEl) {{\n",
       "    x.observe(outputEl, {childList: true});\n",
       "}}\n",
       "\n",
       "                        })                };                });            </script>        </div>"
      ]
     },
     "metadata": {},
     "output_type": "display_data"
    }
   ],
   "source": [
    "import plotly.graph_objects as go\n",
    "\n",
    "labels = ['Yes','No']\n",
    "values = value[0]\n",
    "\n",
    "fig = go.Figure(data=[go.Pie(labels=labels, values=values, textinfo='label+percent',\n",
    "                             insidetextorientation='radial',\n",
    "                            )])\n",
    "\n",
    "fig.update_layout(\n",
    "\n",
    " title_text='Have you ever felt that charge issued by hospitals higher than expected'\n",
    "    \n",
    ")\n",
    "fig.show()"
   ]
  },
  {
   "cell_type": "code",
   "execution_count": 85,
   "metadata": {},
   "outputs": [],
   "source": [
    "import numpy as np"
   ]
  },
  {
   "cell_type": "code",
   "execution_count": 88,
   "metadata": {},
   "outputs": [],
   "source": [
    "val=np.array(value)"
   ]
  },
  {
   "cell_type": "code",
   "execution_count": 92,
   "metadata": {},
   "outputs": [
    {
     "data": {
      "text/plain": [
       "array([[54,  2],\n",
       "       [ 8, 48],\n",
       "       [51,  5]])"
      ]
     },
     "execution_count": 92,
     "metadata": {},
     "output_type": "execute_result"
    }
   ],
   "source": [
    "val.reshape(3,2)"
   ]
  },
  {
   "cell_type": "code",
   "execution_count": 93,
   "metadata": {},
   "outputs": [],
   "source": [
    "df1=pd.DataFrame(val.reshape(3,2),['Charge','shy','wait'],['Yes','No'],)"
   ]
  },
  {
   "cell_type": "code",
   "execution_count": 94,
   "metadata": {},
   "outputs": [
    {
     "data": {
      "text/html": [
       "<div>\n",
       "<style scoped>\n",
       "    .dataframe tbody tr th:only-of-type {\n",
       "        vertical-align: middle;\n",
       "    }\n",
       "\n",
       "    .dataframe tbody tr th {\n",
       "        vertical-align: top;\n",
       "    }\n",
       "\n",
       "    .dataframe thead th {\n",
       "        text-align: right;\n",
       "    }\n",
       "</style>\n",
       "<table border=\"1\" class=\"dataframe\">\n",
       "  <thead>\n",
       "    <tr style=\"text-align: right;\">\n",
       "      <th></th>\n",
       "      <th>Yes</th>\n",
       "      <th>No</th>\n",
       "    </tr>\n",
       "  </thead>\n",
       "  <tbody>\n",
       "    <tr>\n",
       "      <th>Charge</th>\n",
       "      <td>54</td>\n",
       "      <td>2</td>\n",
       "    </tr>\n",
       "    <tr>\n",
       "      <th>shy</th>\n",
       "      <td>8</td>\n",
       "      <td>48</td>\n",
       "    </tr>\n",
       "    <tr>\n",
       "      <th>wait</th>\n",
       "      <td>51</td>\n",
       "      <td>5</td>\n",
       "    </tr>\n",
       "  </tbody>\n",
       "</table>\n",
       "</div>"
      ],
      "text/plain": [
       "        Yes  No\n",
       "Charge   54   2\n",
       "shy       8  48\n",
       "wait     51   5"
      ]
     },
     "execution_count": 94,
     "metadata": {},
     "output_type": "execute_result"
    }
   ],
   "source": [
    "df1"
   ]
  },
  {
   "cell_type": "code",
   "execution_count": 98,
   "metadata": {},
   "outputs": [
    {
     "data": {
      "text/html": [
       "<div>\n",
       "<style scoped>\n",
       "    .dataframe tbody tr th:only-of-type {\n",
       "        vertical-align: middle;\n",
       "    }\n",
       "\n",
       "    .dataframe tbody tr th {\n",
       "        vertical-align: top;\n",
       "    }\n",
       "\n",
       "    .dataframe thead th {\n",
       "        text-align: right;\n",
       "    }\n",
       "</style>\n",
       "<table border=\"1\" class=\"dataframe\">\n",
       "  <thead>\n",
       "    <tr style=\"text-align: right;\">\n",
       "      <th></th>\n",
       "      <th>Timestamp</th>\n",
       "      <th>2. Have you ever felt that the charges issued by the hospitals is higher than you expected?</th>\n",
       "      <th>3. Have you ever felt shy to go to the hospital alone?</th>\n",
       "      <th>5. What is your opinion for adding additional features like Weather prediction, Covid-19 live tracker, Healthy tips etc?</th>\n",
       "      <th>7. Have you ever  waited so long to meet a doctor in a hospital?</th>\n",
       "    </tr>\n",
       "  </thead>\n",
       "  <tbody>\n",
       "    <tr>\n",
       "      <th>0</th>\n",
       "      <td>2020/11/16 10:04:09 PM GMT+5:30</td>\n",
       "      <td>Yes</td>\n",
       "      <td>No</td>\n",
       "      <td>Positive</td>\n",
       "      <td>Yes</td>\n",
       "    </tr>\n",
       "    <tr>\n",
       "      <th>1</th>\n",
       "      <td>2020/11/16 10:17:14 PM GMT+5:30</td>\n",
       "      <td>Yes</td>\n",
       "      <td>No</td>\n",
       "      <td>Positive</td>\n",
       "      <td>Yes</td>\n",
       "    </tr>\n",
       "    <tr>\n",
       "      <th>2</th>\n",
       "      <td>2020/11/16 10:18:45 PM GMT+5:30</td>\n",
       "      <td>Yes</td>\n",
       "      <td>Can't say</td>\n",
       "      <td>Positive</td>\n",
       "      <td>No</td>\n",
       "    </tr>\n",
       "    <tr>\n",
       "      <th>3</th>\n",
       "      <td>2020/11/16 10:20:10 PM GMT+5:30</td>\n",
       "      <td>Yes</td>\n",
       "      <td>No</td>\n",
       "      <td>Positive</td>\n",
       "      <td>Yes</td>\n",
       "    </tr>\n",
       "    <tr>\n",
       "      <th>4</th>\n",
       "      <td>2020/11/16 10:20:10 PM GMT+5:30</td>\n",
       "      <td>Yes</td>\n",
       "      <td>No</td>\n",
       "      <td>Positive</td>\n",
       "      <td>Yes</td>\n",
       "    </tr>\n",
       "    <tr>\n",
       "      <th>5</th>\n",
       "      <td>2020/11/16 10:20:24 PM GMT+5:30</td>\n",
       "      <td>Yes</td>\n",
       "      <td>Can't say</td>\n",
       "      <td>Positive</td>\n",
       "      <td>Yes</td>\n",
       "    </tr>\n",
       "    <tr>\n",
       "      <th>6</th>\n",
       "      <td>2020/11/16 10:20:34 PM GMT+5:30</td>\n",
       "      <td>Yes</td>\n",
       "      <td>No</td>\n",
       "      <td>Neutral</td>\n",
       "      <td>No</td>\n",
       "    </tr>\n",
       "    <tr>\n",
       "      <th>7</th>\n",
       "      <td>2020/11/16 10:21:05 PM GMT+5:30</td>\n",
       "      <td>Yes</td>\n",
       "      <td>No</td>\n",
       "      <td>Neutral</td>\n",
       "      <td>Yes</td>\n",
       "    </tr>\n",
       "    <tr>\n",
       "      <th>8</th>\n",
       "      <td>2020/11/16 10:21:13 PM GMT+5:30</td>\n",
       "      <td>Yes</td>\n",
       "      <td>Can't say</td>\n",
       "      <td>Positive</td>\n",
       "      <td>Yes</td>\n",
       "    </tr>\n",
       "    <tr>\n",
       "      <th>9</th>\n",
       "      <td>2020/11/16 10:22:35 PM GMT+5:30</td>\n",
       "      <td>Yes</td>\n",
       "      <td>Yes</td>\n",
       "      <td>Positive</td>\n",
       "      <td>Yes</td>\n",
       "    </tr>\n",
       "    <tr>\n",
       "      <th>10</th>\n",
       "      <td>2020/11/16 10:23:09 PM GMT+5:30</td>\n",
       "      <td>Yes</td>\n",
       "      <td>Yes</td>\n",
       "      <td>Positive</td>\n",
       "      <td>Yes</td>\n",
       "    </tr>\n",
       "    <tr>\n",
       "      <th>11</th>\n",
       "      <td>2020/11/16 10:23:21 PM GMT+5:30</td>\n",
       "      <td>Yes</td>\n",
       "      <td>No</td>\n",
       "      <td>Negative</td>\n",
       "      <td>Yes</td>\n",
       "    </tr>\n",
       "    <tr>\n",
       "      <th>12</th>\n",
       "      <td>2020/11/16 10:24:30 PM GMT+5:30</td>\n",
       "      <td>Yes</td>\n",
       "      <td>No</td>\n",
       "      <td>Positive</td>\n",
       "      <td>Yes</td>\n",
       "    </tr>\n",
       "    <tr>\n",
       "      <th>13</th>\n",
       "      <td>2020/11/16 10:30:03 PM GMT+5:30</td>\n",
       "      <td>Yes</td>\n",
       "      <td>No</td>\n",
       "      <td>Neutral</td>\n",
       "      <td>Yes</td>\n",
       "    </tr>\n",
       "    <tr>\n",
       "      <th>14</th>\n",
       "      <td>2020/11/16 10:33:58 PM GMT+5:30</td>\n",
       "      <td>Yes</td>\n",
       "      <td>No</td>\n",
       "      <td>Positive</td>\n",
       "      <td>Yes</td>\n",
       "    </tr>\n",
       "    <tr>\n",
       "      <th>15</th>\n",
       "      <td>2020/11/16 10:36:42 PM GMT+5:30</td>\n",
       "      <td>Yes</td>\n",
       "      <td>No</td>\n",
       "      <td>Positive</td>\n",
       "      <td>Yes</td>\n",
       "    </tr>\n",
       "    <tr>\n",
       "      <th>16</th>\n",
       "      <td>2020/11/16 10:46:11 PM GMT+5:30</td>\n",
       "      <td>Yes</td>\n",
       "      <td>Yes</td>\n",
       "      <td>Positive</td>\n",
       "      <td>Yes</td>\n",
       "    </tr>\n",
       "    <tr>\n",
       "      <th>17</th>\n",
       "      <td>2020/11/16 10:53:38 PM GMT+5:30</td>\n",
       "      <td>Yes</td>\n",
       "      <td>No</td>\n",
       "      <td>Positive</td>\n",
       "      <td>Yes</td>\n",
       "    </tr>\n",
       "    <tr>\n",
       "      <th>18</th>\n",
       "      <td>2020/11/16 10:54:24 PM GMT+5:30</td>\n",
       "      <td>Yes</td>\n",
       "      <td>No</td>\n",
       "      <td>Neutral</td>\n",
       "      <td>Yes</td>\n",
       "    </tr>\n",
       "    <tr>\n",
       "      <th>19</th>\n",
       "      <td>2020/11/16 10:55:41 PM GMT+5:30</td>\n",
       "      <td>Yes</td>\n",
       "      <td>No</td>\n",
       "      <td>Positive</td>\n",
       "      <td>Yes</td>\n",
       "    </tr>\n",
       "    <tr>\n",
       "      <th>20</th>\n",
       "      <td>2020/11/16 10:57:38 PM GMT+5:30</td>\n",
       "      <td>Yes</td>\n",
       "      <td>No</td>\n",
       "      <td>Positive</td>\n",
       "      <td>Yes</td>\n",
       "    </tr>\n",
       "    <tr>\n",
       "      <th>21</th>\n",
       "      <td>2020/11/16 11:02:11 PM GMT+5:30</td>\n",
       "      <td>Yes</td>\n",
       "      <td>Yes</td>\n",
       "      <td>Positive</td>\n",
       "      <td>Yes</td>\n",
       "    </tr>\n",
       "    <tr>\n",
       "      <th>22</th>\n",
       "      <td>2020/11/16 11:13:53 PM GMT+5:30</td>\n",
       "      <td>Yes</td>\n",
       "      <td>No</td>\n",
       "      <td>Positive</td>\n",
       "      <td>Yes</td>\n",
       "    </tr>\n",
       "    <tr>\n",
       "      <th>23</th>\n",
       "      <td>2020/11/16 11:26:05 PM GMT+5:30</td>\n",
       "      <td>Yes</td>\n",
       "      <td>Yes</td>\n",
       "      <td>Positive</td>\n",
       "      <td>Yes</td>\n",
       "    </tr>\n",
       "    <tr>\n",
       "      <th>24</th>\n",
       "      <td>2020/11/16 11:28:59 PM GMT+5:30</td>\n",
       "      <td>Yes</td>\n",
       "      <td>Yes</td>\n",
       "      <td>Positive</td>\n",
       "      <td>Yes</td>\n",
       "    </tr>\n",
       "    <tr>\n",
       "      <th>25</th>\n",
       "      <td>2020/11/16 11:37:15 PM GMT+5:30</td>\n",
       "      <td>Yes</td>\n",
       "      <td>No</td>\n",
       "      <td>Positive</td>\n",
       "      <td>Yes</td>\n",
       "    </tr>\n",
       "    <tr>\n",
       "      <th>26</th>\n",
       "      <td>2020/11/16 11:40:50 PM GMT+5:30</td>\n",
       "      <td>Yes</td>\n",
       "      <td>No</td>\n",
       "      <td>Positive</td>\n",
       "      <td>Yes</td>\n",
       "    </tr>\n",
       "    <tr>\n",
       "      <th>27</th>\n",
       "      <td>2020/11/16 11:47:05 PM GMT+5:30</td>\n",
       "      <td>Yes</td>\n",
       "      <td>No</td>\n",
       "      <td>Neutral</td>\n",
       "      <td>Yes</td>\n",
       "    </tr>\n",
       "    <tr>\n",
       "      <th>28</th>\n",
       "      <td>2020/11/16 11:59:02 PM GMT+5:30</td>\n",
       "      <td>Yes</td>\n",
       "      <td>No</td>\n",
       "      <td>Positive</td>\n",
       "      <td>Yes</td>\n",
       "    </tr>\n",
       "    <tr>\n",
       "      <th>29</th>\n",
       "      <td>2020/11/17 12:31:43 AM GMT+5:30</td>\n",
       "      <td>Yes</td>\n",
       "      <td>No</td>\n",
       "      <td>Positive</td>\n",
       "      <td>Yes</td>\n",
       "    </tr>\n",
       "    <tr>\n",
       "      <th>30</th>\n",
       "      <td>2020/11/17 1:22:20 AM GMT+5:30</td>\n",
       "      <td>Yes</td>\n",
       "      <td>No</td>\n",
       "      <td>Positive</td>\n",
       "      <td>Yes</td>\n",
       "    </tr>\n",
       "    <tr>\n",
       "      <th>31</th>\n",
       "      <td>2020/11/17 1:32:20 AM GMT+5:30</td>\n",
       "      <td>Yes</td>\n",
       "      <td>Yes</td>\n",
       "      <td>Positive</td>\n",
       "      <td>Yes</td>\n",
       "    </tr>\n",
       "    <tr>\n",
       "      <th>32</th>\n",
       "      <td>2020/11/17 6:10:23 AM GMT+5:30</td>\n",
       "      <td>Yes</td>\n",
       "      <td>No</td>\n",
       "      <td>Positive</td>\n",
       "      <td>Yes</td>\n",
       "    </tr>\n",
       "    <tr>\n",
       "      <th>33</th>\n",
       "      <td>2020/11/17 6:48:43 AM GMT+5:30</td>\n",
       "      <td>Yes</td>\n",
       "      <td>No</td>\n",
       "      <td>Positive</td>\n",
       "      <td>Yes</td>\n",
       "    </tr>\n",
       "    <tr>\n",
       "      <th>34</th>\n",
       "      <td>2020/11/17 7:54:53 AM GMT+5:30</td>\n",
       "      <td>Yes</td>\n",
       "      <td>No</td>\n",
       "      <td>Positive</td>\n",
       "      <td>Yes</td>\n",
       "    </tr>\n",
       "    <tr>\n",
       "      <th>35</th>\n",
       "      <td>2020/11/17 8:18:14 AM GMT+5:30</td>\n",
       "      <td>Yes</td>\n",
       "      <td>No</td>\n",
       "      <td>Neutral</td>\n",
       "      <td>Yes</td>\n",
       "    </tr>\n",
       "    <tr>\n",
       "      <th>36</th>\n",
       "      <td>2020/11/17 8:21:26 AM GMT+5:30</td>\n",
       "      <td>Yes</td>\n",
       "      <td>No</td>\n",
       "      <td>Positive</td>\n",
       "      <td>Prefer not say</td>\n",
       "    </tr>\n",
       "    <tr>\n",
       "      <th>37</th>\n",
       "      <td>2020/11/17 8:28:10 AM GMT+5:30</td>\n",
       "      <td>No</td>\n",
       "      <td>No</td>\n",
       "      <td>Neutral</td>\n",
       "      <td>Yes</td>\n",
       "    </tr>\n",
       "    <tr>\n",
       "      <th>38</th>\n",
       "      <td>2020/11/17 8:28:53 AM GMT+5:30</td>\n",
       "      <td>Yes</td>\n",
       "      <td>No</td>\n",
       "      <td>Positive</td>\n",
       "      <td>Yes</td>\n",
       "    </tr>\n",
       "    <tr>\n",
       "      <th>39</th>\n",
       "      <td>2020/11/17 8:33:04 AM GMT+5:30</td>\n",
       "      <td>Yes</td>\n",
       "      <td>Can't say</td>\n",
       "      <td>Neutral</td>\n",
       "      <td>Yes</td>\n",
       "    </tr>\n",
       "    <tr>\n",
       "      <th>40</th>\n",
       "      <td>2020/11/17 8:36:39 AM GMT+5:30</td>\n",
       "      <td>Yes</td>\n",
       "      <td>No</td>\n",
       "      <td>Negative</td>\n",
       "      <td>Prefer not say</td>\n",
       "    </tr>\n",
       "    <tr>\n",
       "      <th>41</th>\n",
       "      <td>2020/11/17 8:43:43 AM GMT+5:30</td>\n",
       "      <td>No</td>\n",
       "      <td>No</td>\n",
       "      <td>Positive</td>\n",
       "      <td>Yes</td>\n",
       "    </tr>\n",
       "    <tr>\n",
       "      <th>42</th>\n",
       "      <td>2020/11/17 8:44:57 AM GMT+5:30</td>\n",
       "      <td>Yes</td>\n",
       "      <td>Can't say</td>\n",
       "      <td>Positive</td>\n",
       "      <td>Yes</td>\n",
       "    </tr>\n",
       "    <tr>\n",
       "      <th>43</th>\n",
       "      <td>2020/11/17 8:54:26 AM GMT+5:30</td>\n",
       "      <td>Yes</td>\n",
       "      <td>Can't say</td>\n",
       "      <td>Positive</td>\n",
       "      <td>Yes</td>\n",
       "    </tr>\n",
       "    <tr>\n",
       "      <th>44</th>\n",
       "      <td>2020/11/17 8:54:51 AM GMT+5:30</td>\n",
       "      <td>Yes</td>\n",
       "      <td>No</td>\n",
       "      <td>Positive</td>\n",
       "      <td>Yes</td>\n",
       "    </tr>\n",
       "    <tr>\n",
       "      <th>45</th>\n",
       "      <td>2020/11/17 9:24:03 AM GMT+5:30</td>\n",
       "      <td>Yes</td>\n",
       "      <td>No</td>\n",
       "      <td>Positive</td>\n",
       "      <td>Yes</td>\n",
       "    </tr>\n",
       "    <tr>\n",
       "      <th>46</th>\n",
       "      <td>2020/11/17 10:13:51 AM GMT+5:30</td>\n",
       "      <td>Yes</td>\n",
       "      <td>No</td>\n",
       "      <td>Positive</td>\n",
       "      <td>Yes</td>\n",
       "    </tr>\n",
       "    <tr>\n",
       "      <th>47</th>\n",
       "      <td>2020/11/17 11:12:34 AM GMT+5:30</td>\n",
       "      <td>Yes</td>\n",
       "      <td>No</td>\n",
       "      <td>Positive</td>\n",
       "      <td>Yes</td>\n",
       "    </tr>\n",
       "    <tr>\n",
       "      <th>48</th>\n",
       "      <td>2020/11/17 2:26:59 PM GMT+5:30</td>\n",
       "      <td>Yes</td>\n",
       "      <td>No</td>\n",
       "      <td>Positive</td>\n",
       "      <td>Yes</td>\n",
       "    </tr>\n",
       "    <tr>\n",
       "      <th>49</th>\n",
       "      <td>2020/11/17 7:15:10 PM GMT+5:30</td>\n",
       "      <td>Yes</td>\n",
       "      <td>No</td>\n",
       "      <td>Positive</td>\n",
       "      <td>Yes</td>\n",
       "    </tr>\n",
       "    <tr>\n",
       "      <th>50</th>\n",
       "      <td>2020/11/17 9:08:32 PM GMT+5:30</td>\n",
       "      <td>Yes</td>\n",
       "      <td>No</td>\n",
       "      <td>Neutral</td>\n",
       "      <td>Prefer not say</td>\n",
       "    </tr>\n",
       "    <tr>\n",
       "      <th>51</th>\n",
       "      <td>2020/11/17 9:32:14 PM GMT+5:30</td>\n",
       "      <td>Yes</td>\n",
       "      <td>No</td>\n",
       "      <td>Neutral</td>\n",
       "      <td>Yes</td>\n",
       "    </tr>\n",
       "    <tr>\n",
       "      <th>52</th>\n",
       "      <td>2020/11/18 10:02:14 AM GMT+5:30</td>\n",
       "      <td>Yes</td>\n",
       "      <td>Yes</td>\n",
       "      <td>Positive</td>\n",
       "      <td>Yes</td>\n",
       "    </tr>\n",
       "    <tr>\n",
       "      <th>53</th>\n",
       "      <td>2020/11/18 11:42:37 AM GMT+5:30</td>\n",
       "      <td>Yes</td>\n",
       "      <td>No</td>\n",
       "      <td>Positive</td>\n",
       "      <td>Yes</td>\n",
       "    </tr>\n",
       "    <tr>\n",
       "      <th>54</th>\n",
       "      <td>2020/11/18 11:51:05 AM GMT+5:30</td>\n",
       "      <td>Yes</td>\n",
       "      <td>No</td>\n",
       "      <td>Positive</td>\n",
       "      <td>Yes</td>\n",
       "    </tr>\n",
       "    <tr>\n",
       "      <th>55</th>\n",
       "      <td>2020/11/18 1:24:38 PM GMT+5:30</td>\n",
       "      <td>Yes</td>\n",
       "      <td>No</td>\n",
       "      <td>Positive</td>\n",
       "      <td>Yes</td>\n",
       "    </tr>\n",
       "  </tbody>\n",
       "</table>\n",
       "</div>"
      ],
      "text/plain": [
       "                          Timestamp  \\\n",
       "0   2020/11/16 10:04:09 PM GMT+5:30   \n",
       "1   2020/11/16 10:17:14 PM GMT+5:30   \n",
       "2   2020/11/16 10:18:45 PM GMT+5:30   \n",
       "3   2020/11/16 10:20:10 PM GMT+5:30   \n",
       "4   2020/11/16 10:20:10 PM GMT+5:30   \n",
       "5   2020/11/16 10:20:24 PM GMT+5:30   \n",
       "6   2020/11/16 10:20:34 PM GMT+5:30   \n",
       "7   2020/11/16 10:21:05 PM GMT+5:30   \n",
       "8   2020/11/16 10:21:13 PM GMT+5:30   \n",
       "9   2020/11/16 10:22:35 PM GMT+5:30   \n",
       "10  2020/11/16 10:23:09 PM GMT+5:30   \n",
       "11  2020/11/16 10:23:21 PM GMT+5:30   \n",
       "12  2020/11/16 10:24:30 PM GMT+5:30   \n",
       "13  2020/11/16 10:30:03 PM GMT+5:30   \n",
       "14  2020/11/16 10:33:58 PM GMT+5:30   \n",
       "15  2020/11/16 10:36:42 PM GMT+5:30   \n",
       "16  2020/11/16 10:46:11 PM GMT+5:30   \n",
       "17  2020/11/16 10:53:38 PM GMT+5:30   \n",
       "18  2020/11/16 10:54:24 PM GMT+5:30   \n",
       "19  2020/11/16 10:55:41 PM GMT+5:30   \n",
       "20  2020/11/16 10:57:38 PM GMT+5:30   \n",
       "21  2020/11/16 11:02:11 PM GMT+5:30   \n",
       "22  2020/11/16 11:13:53 PM GMT+5:30   \n",
       "23  2020/11/16 11:26:05 PM GMT+5:30   \n",
       "24  2020/11/16 11:28:59 PM GMT+5:30   \n",
       "25  2020/11/16 11:37:15 PM GMT+5:30   \n",
       "26  2020/11/16 11:40:50 PM GMT+5:30   \n",
       "27  2020/11/16 11:47:05 PM GMT+5:30   \n",
       "28  2020/11/16 11:59:02 PM GMT+5:30   \n",
       "29  2020/11/17 12:31:43 AM GMT+5:30   \n",
       "30   2020/11/17 1:22:20 AM GMT+5:30   \n",
       "31   2020/11/17 1:32:20 AM GMT+5:30   \n",
       "32   2020/11/17 6:10:23 AM GMT+5:30   \n",
       "33   2020/11/17 6:48:43 AM GMT+5:30   \n",
       "34   2020/11/17 7:54:53 AM GMT+5:30   \n",
       "35   2020/11/17 8:18:14 AM GMT+5:30   \n",
       "36   2020/11/17 8:21:26 AM GMT+5:30   \n",
       "37   2020/11/17 8:28:10 AM GMT+5:30   \n",
       "38   2020/11/17 8:28:53 AM GMT+5:30   \n",
       "39   2020/11/17 8:33:04 AM GMT+5:30   \n",
       "40   2020/11/17 8:36:39 AM GMT+5:30   \n",
       "41   2020/11/17 8:43:43 AM GMT+5:30   \n",
       "42   2020/11/17 8:44:57 AM GMT+5:30   \n",
       "43   2020/11/17 8:54:26 AM GMT+5:30   \n",
       "44   2020/11/17 8:54:51 AM GMT+5:30   \n",
       "45   2020/11/17 9:24:03 AM GMT+5:30   \n",
       "46  2020/11/17 10:13:51 AM GMT+5:30   \n",
       "47  2020/11/17 11:12:34 AM GMT+5:30   \n",
       "48   2020/11/17 2:26:59 PM GMT+5:30   \n",
       "49   2020/11/17 7:15:10 PM GMT+5:30   \n",
       "50   2020/11/17 9:08:32 PM GMT+5:30   \n",
       "51   2020/11/17 9:32:14 PM GMT+5:30   \n",
       "52  2020/11/18 10:02:14 AM GMT+5:30   \n",
       "53  2020/11/18 11:42:37 AM GMT+5:30   \n",
       "54  2020/11/18 11:51:05 AM GMT+5:30   \n",
       "55   2020/11/18 1:24:38 PM GMT+5:30   \n",
       "\n",
       "   2. Have you ever felt that the charges issued by the hospitals is higher than you expected?  \\\n",
       "0                                                 Yes                                            \n",
       "1                                                 Yes                                            \n",
       "2                                                 Yes                                            \n",
       "3                                                 Yes                                            \n",
       "4                                                 Yes                                            \n",
       "5                                                 Yes                                            \n",
       "6                                                 Yes                                            \n",
       "7                                                 Yes                                            \n",
       "8                                                 Yes                                            \n",
       "9                                                 Yes                                            \n",
       "10                                                Yes                                            \n",
       "11                                                Yes                                            \n",
       "12                                                Yes                                            \n",
       "13                                                Yes                                            \n",
       "14                                                Yes                                            \n",
       "15                                                Yes                                            \n",
       "16                                                Yes                                            \n",
       "17                                                Yes                                            \n",
       "18                                                Yes                                            \n",
       "19                                                Yes                                            \n",
       "20                                                Yes                                            \n",
       "21                                                Yes                                            \n",
       "22                                                Yes                                            \n",
       "23                                                Yes                                            \n",
       "24                                                Yes                                            \n",
       "25                                                Yes                                            \n",
       "26                                                Yes                                            \n",
       "27                                                Yes                                            \n",
       "28                                                Yes                                            \n",
       "29                                                Yes                                            \n",
       "30                                                Yes                                            \n",
       "31                                                Yes                                            \n",
       "32                                                Yes                                            \n",
       "33                                                Yes                                            \n",
       "34                                                Yes                                            \n",
       "35                                                Yes                                            \n",
       "36                                                Yes                                            \n",
       "37                                                 No                                            \n",
       "38                                                Yes                                            \n",
       "39                                                Yes                                            \n",
       "40                                                Yes                                            \n",
       "41                                                 No                                            \n",
       "42                                                Yes                                            \n",
       "43                                                Yes                                            \n",
       "44                                                Yes                                            \n",
       "45                                                Yes                                            \n",
       "46                                                Yes                                            \n",
       "47                                                Yes                                            \n",
       "48                                                Yes                                            \n",
       "49                                                Yes                                            \n",
       "50                                                Yes                                            \n",
       "51                                                Yes                                            \n",
       "52                                                Yes                                            \n",
       "53                                                Yes                                            \n",
       "54                                                Yes                                            \n",
       "55                                                Yes                                            \n",
       "\n",
       "   3. Have you ever felt shy to go to the hospital alone?  \\\n",
       "0                                                  No       \n",
       "1                                                  No       \n",
       "2                                           Can't say       \n",
       "3                                                  No       \n",
       "4                                                  No       \n",
       "5                                           Can't say       \n",
       "6                                                  No       \n",
       "7                                                  No       \n",
       "8                                           Can't say       \n",
       "9                                                 Yes       \n",
       "10                                                Yes       \n",
       "11                                                 No       \n",
       "12                                                 No       \n",
       "13                                                 No       \n",
       "14                                                 No       \n",
       "15                                                 No       \n",
       "16                                                Yes       \n",
       "17                                                 No       \n",
       "18                                                 No       \n",
       "19                                                 No       \n",
       "20                                                 No       \n",
       "21                                                Yes       \n",
       "22                                                 No       \n",
       "23                                                Yes       \n",
       "24                                                Yes       \n",
       "25                                                 No       \n",
       "26                                                 No       \n",
       "27                                                 No       \n",
       "28                                                 No       \n",
       "29                                                 No       \n",
       "30                                                 No       \n",
       "31                                                Yes       \n",
       "32                                                 No       \n",
       "33                                                 No       \n",
       "34                                                 No       \n",
       "35                                                 No       \n",
       "36                                                 No       \n",
       "37                                                 No       \n",
       "38                                                 No       \n",
       "39                                          Can't say       \n",
       "40                                                 No       \n",
       "41                                                 No       \n",
       "42                                          Can't say       \n",
       "43                                          Can't say       \n",
       "44                                                 No       \n",
       "45                                                 No       \n",
       "46                                                 No       \n",
       "47                                                 No       \n",
       "48                                                 No       \n",
       "49                                                 No       \n",
       "50                                                 No       \n",
       "51                                                 No       \n",
       "52                                                Yes       \n",
       "53                                                 No       \n",
       "54                                                 No       \n",
       "55                                                 No       \n",
       "\n",
       "   5. What is your opinion for adding additional features like Weather prediction, Covid-19 live tracker, Healthy tips etc?  \\\n",
       "0                                            Positive                                                                         \n",
       "1                                            Positive                                                                         \n",
       "2                                            Positive                                                                         \n",
       "3                                            Positive                                                                         \n",
       "4                                            Positive                                                                         \n",
       "5                                            Positive                                                                         \n",
       "6                                             Neutral                                                                         \n",
       "7                                             Neutral                                                                         \n",
       "8                                            Positive                                                                         \n",
       "9                                            Positive                                                                         \n",
       "10                                           Positive                                                                         \n",
       "11                                           Negative                                                                         \n",
       "12                                           Positive                                                                         \n",
       "13                                            Neutral                                                                         \n",
       "14                                           Positive                                                                         \n",
       "15                                           Positive                                                                         \n",
       "16                                           Positive                                                                         \n",
       "17                                           Positive                                                                         \n",
       "18                                            Neutral                                                                         \n",
       "19                                           Positive                                                                         \n",
       "20                                           Positive                                                                         \n",
       "21                                           Positive                                                                         \n",
       "22                                           Positive                                                                         \n",
       "23                                           Positive                                                                         \n",
       "24                                           Positive                                                                         \n",
       "25                                           Positive                                                                         \n",
       "26                                           Positive                                                                         \n",
       "27                                            Neutral                                                                         \n",
       "28                                           Positive                                                                         \n",
       "29                                           Positive                                                                         \n",
       "30                                           Positive                                                                         \n",
       "31                                           Positive                                                                         \n",
       "32                                           Positive                                                                         \n",
       "33                                           Positive                                                                         \n",
       "34                                           Positive                                                                         \n",
       "35                                            Neutral                                                                         \n",
       "36                                           Positive                                                                         \n",
       "37                                            Neutral                                                                         \n",
       "38                                           Positive                                                                         \n",
       "39                                            Neutral                                                                         \n",
       "40                                           Negative                                                                         \n",
       "41                                           Positive                                                                         \n",
       "42                                           Positive                                                                         \n",
       "43                                           Positive                                                                         \n",
       "44                                           Positive                                                                         \n",
       "45                                           Positive                                                                         \n",
       "46                                           Positive                                                                         \n",
       "47                                           Positive                                                                         \n",
       "48                                           Positive                                                                         \n",
       "49                                           Positive                                                                         \n",
       "50                                            Neutral                                                                         \n",
       "51                                            Neutral                                                                         \n",
       "52                                           Positive                                                                         \n",
       "53                                           Positive                                                                         \n",
       "54                                           Positive                                                                         \n",
       "55                                           Positive                                                                         \n",
       "\n",
       "   7. Have you ever  waited so long to meet a doctor in a hospital?  \n",
       "0                                                 Yes                \n",
       "1                                                 Yes                \n",
       "2                                                  No                \n",
       "3                                                 Yes                \n",
       "4                                                 Yes                \n",
       "5                                                 Yes                \n",
       "6                                                  No                \n",
       "7                                                 Yes                \n",
       "8                                                 Yes                \n",
       "9                                                 Yes                \n",
       "10                                                Yes                \n",
       "11                                                Yes                \n",
       "12                                                Yes                \n",
       "13                                                Yes                \n",
       "14                                                Yes                \n",
       "15                                                Yes                \n",
       "16                                                Yes                \n",
       "17                                                Yes                \n",
       "18                                                Yes                \n",
       "19                                                Yes                \n",
       "20                                                Yes                \n",
       "21                                                Yes                \n",
       "22                                                Yes                \n",
       "23                                                Yes                \n",
       "24                                                Yes                \n",
       "25                                                Yes                \n",
       "26                                                Yes                \n",
       "27                                                Yes                \n",
       "28                                                Yes                \n",
       "29                                                Yes                \n",
       "30                                                Yes                \n",
       "31                                                Yes                \n",
       "32                                                Yes                \n",
       "33                                                Yes                \n",
       "34                                                Yes                \n",
       "35                                                Yes                \n",
       "36                                     Prefer not say                \n",
       "37                                                Yes                \n",
       "38                                                Yes                \n",
       "39                                                Yes                \n",
       "40                                     Prefer not say                \n",
       "41                                                Yes                \n",
       "42                                                Yes                \n",
       "43                                                Yes                \n",
       "44                                                Yes                \n",
       "45                                                Yes                \n",
       "46                                                Yes                \n",
       "47                                                Yes                \n",
       "48                                                Yes                \n",
       "49                                                Yes                \n",
       "50                                     Prefer not say                \n",
       "51                                                Yes                \n",
       "52                                                Yes                \n",
       "53                                                Yes                \n",
       "54                                                Yes                \n",
       "55                                                Yes                "
      ]
     },
     "execution_count": 98,
     "metadata": {},
     "output_type": "execute_result"
    }
   ],
   "source": [
    "df"
   ]
  },
  {
   "cell_type": "code",
   "execution_count": 99,
   "metadata": {},
   "outputs": [],
   "source": [
    "import seaborn as sns"
   ]
  },
  {
   "cell_type": "code",
   "execution_count": 102,
   "metadata": {},
   "outputs": [
    {
     "ename": "TypeError",
     "evalue": "Cannot pass values for both `x` and `y`",
     "output_type": "error",
     "traceback": [
      "\u001b[1;31m---------------------------------------------------------------------------\u001b[0m",
      "\u001b[1;31mTypeError\u001b[0m                                 Traceback (most recent call last)",
      "\u001b[1;32m<ipython-input-102-9f26a0c5696c>\u001b[0m in \u001b[0;36m<module>\u001b[1;34m\u001b[0m\n\u001b[1;32m----> 1\u001b[1;33m \u001b[0msns\u001b[0m\u001b[1;33m.\u001b[0m\u001b[0mcountplot\u001b[0m\u001b[1;33m(\u001b[0m\u001b[0mx\u001b[0m\u001b[1;33m=\u001b[0m\u001b[1;34m'3. Have you ever felt shy to go to the hospital alone?'\u001b[0m\u001b[1;33m,\u001b[0m\u001b[0my\u001b[0m\u001b[1;33m=\u001b[0m\u001b[0mlen\u001b[0m\u001b[1;33m(\u001b[0m\u001b[0mdf\u001b[0m\u001b[1;33m)\u001b[0m\u001b[1;33m,\u001b[0m\u001b[0mdata\u001b[0m\u001b[1;33m=\u001b[0m\u001b[0mdf\u001b[0m\u001b[1;33m)\u001b[0m\u001b[1;33m\u001b[0m\u001b[1;33m\u001b[0m\u001b[0m\n\u001b[0m",
      "\u001b[1;32m~\\anaconda3\\lib\\site-packages\\seaborn\\categorical.py\u001b[0m in \u001b[0;36mcountplot\u001b[1;34m(x, y, hue, data, order, hue_order, orient, color, palette, saturation, dodge, ax, **kwargs)\u001b[0m\n\u001b[0;32m   3546\u001b[0m         \u001b[0my\u001b[0m \u001b[1;33m=\u001b[0m \u001b[0mx\u001b[0m\u001b[1;33m\u001b[0m\u001b[1;33m\u001b[0m\u001b[0m\n\u001b[0;32m   3547\u001b[0m     \u001b[1;32melif\u001b[0m \u001b[0mx\u001b[0m \u001b[1;32mis\u001b[0m \u001b[1;32mnot\u001b[0m \u001b[1;32mNone\u001b[0m \u001b[1;32mand\u001b[0m \u001b[0my\u001b[0m \u001b[1;32mis\u001b[0m \u001b[1;32mnot\u001b[0m \u001b[1;32mNone\u001b[0m\u001b[1;33m:\u001b[0m\u001b[1;33m\u001b[0m\u001b[1;33m\u001b[0m\u001b[0m\n\u001b[1;32m-> 3548\u001b[1;33m         \u001b[1;32mraise\u001b[0m \u001b[0mTypeError\u001b[0m\u001b[1;33m(\u001b[0m\u001b[1;34m\"Cannot pass values for both `x` and `y`\"\u001b[0m\u001b[1;33m)\u001b[0m\u001b[1;33m\u001b[0m\u001b[1;33m\u001b[0m\u001b[0m\n\u001b[0m\u001b[0;32m   3549\u001b[0m     \u001b[1;32melse\u001b[0m\u001b[1;33m:\u001b[0m\u001b[1;33m\u001b[0m\u001b[1;33m\u001b[0m\u001b[0m\n\u001b[0;32m   3550\u001b[0m         \u001b[1;32mraise\u001b[0m \u001b[0mTypeError\u001b[0m\u001b[1;33m(\u001b[0m\u001b[1;34m\"Must pass values for either `x` or `y`\"\u001b[0m\u001b[1;33m)\u001b[0m\u001b[1;33m\u001b[0m\u001b[1;33m\u001b[0m\u001b[0m\n",
      "\u001b[1;31mTypeError\u001b[0m: Cannot pass values for both `x` and `y`"
     ]
    }
   ],
   "source": [
    "sns.countplot(x='3. Have you ever felt shy to go to the hospital alone?',y='',data=df)"
   ]
  },
  {
   "cell_type": "code",
   "execution_count": null,
   "metadata": {},
   "outputs": [],
   "source": []
  }
 ],
 "metadata": {
  "kernelspec": {
   "display_name": "Python 3",
   "language": "python",
   "name": "python3"
  },
  "language_info": {
   "codemirror_mode": {
    "name": "ipython",
    "version": 3
   },
   "file_extension": ".py",
   "mimetype": "text/x-python",
   "name": "python",
   "nbconvert_exporter": "python",
   "pygments_lexer": "ipython3",
   "version": "3.7.6"
  }
 },
 "nbformat": 4,
 "nbformat_minor": 4
}
