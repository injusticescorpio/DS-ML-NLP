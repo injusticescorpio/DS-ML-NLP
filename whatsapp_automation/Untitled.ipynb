{
 "cells": [
  {
   "cell_type": "markdown",
   "metadata": {},
   "source": [
    "# welcome back"
   ]
  },
  {
   "cell_type": "code",
   "execution_count": 36,
   "metadata": {},
   "outputs": [],
   "source": [
    "import pandas as pd"
   ]
  },
  {
   "cell_type": "code",
   "execution_count": 37,
   "metadata": {},
   "outputs": [],
   "source": [
    "details=pd.read_csv('details.csv')"
   ]
  },
  {
   "cell_type": "code",
   "execution_count": null,
   "metadata": {},
   "outputs": [],
   "source": []
  },
  {
   "cell_type": "code",
   "execution_count": 55,
   "metadata": {},
   "outputs": [],
   "source": [
    "contact=[]"
   ]
  },
  {
   "cell_type": "code",
   "execution_count": 43,
   "metadata": {},
   "outputs": [
    {
     "data": {
      "text/plain": [
       "str"
      ]
     },
     "execution_count": 43,
     "metadata": {},
     "output_type": "execute_result"
    }
   ],
   "source": [
    "type(list(details.iterrows())[1][1]['Name'])"
   ]
  },
  {
   "cell_type": "code",
   "execution_count": 56,
   "metadata": {},
   "outputs": [],
   "source": [
    "for i in list(details.iterrows()):\n",
    "    if i not in contact:\n",
    "        contact.append([i[1]['Name'],f\"+91 {i[1]['Contact Number']}\"])"
   ]
  },
  {
   "cell_type": "code",
   "execution_count": null,
   "metadata": {},
   "outputs": [],
   "source": [
    "https://chat.whatsapp.com/I5yFinhcwjXAFxrwUGv2FU"
   ]
  },
  {
   "cell_type": "code",
   "execution_count": 67,
   "metadata": {},
   "outputs": [
    {
     "data": {
      "text/plain": [
       "[['Rinu Joseph', '+91 8590890153'],\n",
       " ['Dakshina P Kumar', '+91 7902802856'],\n",
       " ['Sourav S', '+91 9188342497'],\n",
       " ['Alka Antony', '+91 7736860497'],\n",
       " ['Anantha Krishnan ', '+91 9778186595'],\n",
       " ['M Vimal Krishna Rao ', '+91 9995650193'],\n",
       " ['Aakash', '+91 8304825202'],\n",
       " ['Anju Varghese', '+91 9656051254'],\n",
       " ['Jayalakshmi V', '+91 8848227168'],\n",
       " ['Mirza Muhammed ', '+91 9497599162'],\n",
       " ['Shahma', '+91 7559848938'],\n",
       " ['Muhammed Abnas', '+91 9947657790'],\n",
       " ['Diya Nair D ', '+91 9605619737'],\n",
       " ['Muhammad Yasin Shereef ', '+91 8137025459'],\n",
       " ['Adhwaith A M', '+91 9947534844'],\n",
       " ['Devi Krishna R', '+91 8921232220'],\n",
       " ['Diana Liz Kuriakose ', '+91 9446710040'],\n",
       " ['Varsha A Nair', '+91 7034426013'],\n",
       " ['Peter Mathai Samuel ', '+91 8547115003'],\n",
       " ['Ajmal J S ', '+91 8593830977'],\n",
       " ['Akash G Nair ', '+91 7994831729'],\n",
       " ['Abin T Sunil', '+91 8848651035'],\n",
       " ['Aswin Satheesh ', '+91 8138963028'],\n",
       " ['Dev Nand D', '+91 7736915819']]"
      ]
     },
     "execution_count": 67,
     "metadata": {},
     "output_type": "execute_result"
    }
   ],
   "source": [
    "contact"
   ]
  },
  {
   "cell_type": "code",
   "execution_count": 68,
   "metadata": {},
   "outputs": [],
   "source": [
    "import pywhatkit\n",
    "for i in contact:\n",
    "    pywhatkit.sendwhatmsg_instantly(i[1],f\"Hey {i[0]} I'm Arjun, please join the group to know more about the Python Bootcamp for beginners https://chat.whatsapp.com/I5yFinhcwjXAFxrwUGv2FU\",10)"
   ]
  },
  {
   "cell_type": "code",
   "execution_count": 66,
   "metadata": {},
   "outputs": [],
   "source": []
  },
  {
   "cell_type": "code",
   "execution_count": null,
   "metadata": {},
   "outputs": [],
   "source": []
  }
 ],
 "metadata": {
  "kernelspec": {
   "display_name": "Python 3",
   "language": "python",
   "name": "python3"
  },
  "language_info": {
   "codemirror_mode": {
    "name": "ipython",
    "version": 3
   },
   "file_extension": ".py",
   "mimetype": "text/x-python",
   "name": "python",
   "nbconvert_exporter": "python",
   "pygments_lexer": "ipython3",
   "version": "3.8.5"
  }
 },
 "nbformat": 4,
 "nbformat_minor": 4
}
