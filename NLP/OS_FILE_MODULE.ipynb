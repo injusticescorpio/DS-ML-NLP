{
 "cells": [
  {
   "cell_type": "markdown",
   "metadata": {},
   "source": [
    "# OS MODULE"
   ]
  },
  {
   "cell_type": "code",
   "execution_count": 32,
   "metadata": {},
   "outputs": [],
   "source": [
    "import os"
   ]
  },
  {
   "cell_type": "code",
   "execution_count": 33,
   "metadata": {},
   "outputs": [
    {
     "data": {
      "text/plain": [
       "'c:\\\\'"
      ]
     },
     "execution_count": 33,
     "metadata": {},
     "output_type": "execute_result"
    }
   ],
   "source": [
    "os.getcwd()"
   ]
  },
  {
   "cell_type": "code",
   "execution_count": 21,
   "metadata": {},
   "outputs": [
    {
     "data": {
      "text/plain": [
       "['$RECYCLE.BIN',\n",
       " 'certificates',\n",
       " 'desktop image',\n",
       " 'DJANGO_COURSE_1.xx',\n",
       " 'files',\n",
       " 'Games',\n",
       " 'java',\n",
       " 'JSON_EXAMPLE',\n",
       " 'Kivy',\n",
       " 'movies+video',\n",
       " 'msedgewin.txt',\n",
       " 'Need For Speed Most Wanted',\n",
       " 'Pierian-Data-Complete-Python-3-Bootcamp-master',\n",
       " 'Python',\n",
       " 'Rasa',\n",
       " 'sppech_recognition.txt',\n",
       " 'System Volume Information',\n",
       " 'web_developments',\n",
       " 'web_developments - Copy']"
      ]
     },
     "execution_count": 21,
     "metadata": {},
     "output_type": "execute_result"
    }
   ],
   "source": [
    "os.listdir('D:\\\\')"
   ]
  },
  {
   "cell_type": "code",
   "execution_count": 27,
   "metadata": {},
   "outputs": [
    {
     "data": {
      "text/plain": [
       "5"
      ]
     },
     "execution_count": 27,
     "metadata": {},
     "output_type": "execute_result"
    }
   ],
   "source": [
    "os.open('C:\\\\Users\\\\arjun\\\\Desktop\\\\g.txt',os.O_RDWR | os.O_CREAT)"
   ]
  },
  {
   "cell_type": "code",
   "execution_count": 28,
   "metadata": {},
   "outputs": [],
   "source": [
    "os.chdir('c://')"
   ]
  },
  {
   "cell_type": "code",
   "execution_count": 29,
   "metadata": {},
   "outputs": [
    {
     "data": {
      "text/plain": [
       "'c:\\\\'"
      ]
     },
     "execution_count": 29,
     "metadata": {},
     "output_type": "execute_result"
    }
   ],
   "source": [
    "os.getcwd()"
   ]
  },
  {
   "cell_type": "code",
   "execution_count": 31,
   "metadata": {},
   "outputs": [],
   "source": [
    "os.rename('C:\\\\Users\\\\arjun\\\\Desktop\\\\a.txt','c:\\\\Users\\\\arjun\\\\Desktop\\\\b.txt')"
   ]
  },
  {
   "cell_type": "markdown",
   "metadata": {},
   "source": [
    "# FILE HANDLERS"
   ]
  },
  {
   "cell_type": "code",
   "execution_count": 34,
   "metadata": {},
   "outputs": [],
   "source": [
    "import io"
   ]
  },
  {
   "cell_type": "code",
   "execution_count": 35,
   "metadata": {},
   "outputs": [],
   "source": [
    "f=open('C:\\\\Users\\\\arjun\\\\Desktop\\\\mine.txt','r')"
   ]
  },
  {
   "cell_type": "code",
   "execution_count": 36,
   "metadata": {},
   "outputs": [
    {
     "data": {
      "text/plain": [
       "'MY name is arjun\\nIAM A B.TECH GRADUATE IN COMPUTER SCIENCE STRAEM\\nMy interested subjects are Maths and computer\\nHobbies are developing webapplications usig django and developing chatbots in rasa and when i used to get free time i also take tuition to the students for classes 10,11,12 students\\nMy favourite programming languages are PYthon java C\\nIam also interested in ML,DL,NLP or i like to say the subject that involves math rather than anything.  \\n'"
      ]
     },
     "execution_count": 36,
     "metadata": {},
     "output_type": "execute_result"
    }
   ],
   "source": [
    "f.read()"
   ]
  },
  {
   "cell_type": "code",
   "execution_count": 39,
   "metadata": {},
   "outputs": [],
   "source": [
    "f.close()"
   ]
  },
  {
   "cell_type": "code",
   "execution_count": 41,
   "metadata": {},
   "outputs": [
    {
     "name": "stdout",
     "output_type": "stream",
     "text": [
      "MY name is arjun\n",
      "\n",
      "IAM A B.TECH GRADUATE IN COMPUTER SCIENCE STRAEM\n",
      "\n",
      "My interested subjects are Maths and computer\n",
      "\n",
      "Hobbies are developing webapplications usig django and developing chatbots in rasa and when i used to get free time i also take tuition to the students for classes 10,11,12 students\n",
      "\n",
      "My favourite programming languages are PYthon java C\n",
      "\n",
      "Iam also interested in ML,DL,NLP or i like to say the subject that involves math rather than anything.  \n",
      "\n"
     ]
    }
   ],
   "source": [
    "#reading files line by line\n",
    "f=open('C:\\\\Users\\\\arjun\\\\Desktop\\\\mine.txt')\n",
    "for i in f:\n",
    "    print(i)\n",
    "f.close()"
   ]
  },
  {
   "cell_type": "code",
   "execution_count": 94,
   "metadata": {},
   "outputs": [],
   "source": [
    "#WRITING TO A FILE\n",
    "f=open('C:\\\\Users\\\\arjun\\\\Desktop\\\\mine.txt','w',encoding='utf-8')\n",
    "f.write('I like dogs and cat')\n",
    "f.close()"
   ]
  },
  {
   "cell_type": "code",
   "execution_count": 96,
   "metadata": {},
   "outputs": [
    {
     "data": {
      "text/plain": [
       "'I like dogs and cat'"
      ]
     },
     "execution_count": 96,
     "metadata": {},
     "output_type": "execute_result"
    }
   ],
   "source": [
    "f=open('C:\\\\Users\\\\arjun\\\\Desktop\\\\mine.txt','r')\n",
    "f.read()"
   ]
  },
  {
   "cell_type": "code",
   "execution_count": 97,
   "metadata": {},
   "outputs": [],
   "source": [
    "#Adding multiple lines to file\n",
    "l=['hello\\n','hai\\n','jello\\n']\n",
    "f=open('C:\\\\Users\\\\arjun\\\\Desktop\\\\mine.txt',mode='a+',encoding='utf-8')\n",
    "f.writelines(l)"
   ]
  },
  {
   "cell_type": "code",
   "execution_count": 99,
   "metadata": {},
   "outputs": [
    {
     "data": {
      "text/plain": [
       "'I like dogs and cathello\\nhai\\njello\\n'"
      ]
     },
     "execution_count": 99,
     "metadata": {},
     "output_type": "execute_result"
    }
   ],
   "source": [
    "f=open('C:\\\\Users\\\\arjun\\\\Desktop\\\\mine.txt','r')\n",
    "f.read()"
   ]
  },
  {
   "cell_type": "code",
   "execution_count": 100,
   "metadata": {},
   "outputs": [],
   "source": [
    "f.close()"
   ]
  },
  {
   "cell_type": "code",
   "execution_count": null,
   "metadata": {},
   "outputs": [],
   "source": []
  }
 ],
 "metadata": {
  "kernelspec": {
   "display_name": "Python 3",
   "language": "python",
   "name": "python3"
  },
  "language_info": {
   "codemirror_mode": {
    "name": "ipython",
    "version": 3
   },
   "file_extension": ".py",
   "mimetype": "text/x-python",
   "name": "python",
   "nbconvert_exporter": "python",
   "pygments_lexer": "ipython3",
   "version": "3.8.5"
  }
 },
 "nbformat": 4,
 "nbformat_minor": 4
}
